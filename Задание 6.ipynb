{
 "cells": [
  {
   "cell_type": "markdown",
   "id": "83c89e3b-33ee-43f5-89bd-5002350ec527",
   "metadata": {},
   "source": [
    "### 1.\tСформируйте тренировочный датасет. "
   ]
  },
  {
   "cell_type": "code",
   "execution_count": 1,
   "id": "5827e0fa-44a2-463f-860b-1d559f7f1602",
   "metadata": {},
   "outputs": [
    {
     "name": "stderr",
     "output_type": "stream",
     "text": [
      "100%|████████████████████████████████████████████████████████████████████████████████████████| 48/48 [00:00<00:00, 68.88it/s]\n"
     ]
    }
   ],
   "source": [
    "# Импорт необходимых библиотек\n",
    "import numpy as np\n",
    "import pandas as pd\n",
    "import matplotlib.pyplot as plt\n",
    "import seaborn as sns\n",
    "from sklearn.model_selection import train_test_split\n",
    "from sklearn.metrics import confusion_matrix, classification_report\n",
    "import wfdb\n",
    "from tqdm import tqdm\n",
    "import tensorflow as tf\n",
    "from tensorflow.keras import layers, models, utils\n",
    "from tensorflow.keras.callbacks import EarlyStopping\n",
    "import autokeras as ak\n",
    "import os\n",
    "\n",
    "\n",
    "\n",
    "# Установка seed для воспроизводимости\n",
    "np.random.seed(42)\n",
    "tf.random.set_seed(42)\n",
    "\n",
    "# 1. Загрузка и подготовка датасета MIT-BIH Arrhythmia Database\n",
    "\n",
    "# Список записей (используем первые 10 для демонстрации)\n",
    "# records = [str(i) for i in range(100, 121) if i not in [110, 120]]\n",
    "records = [file.split('.')[0] for file in os.listdir('lab6/mitdb') if file.endswith('.hea')]\n",
    "\n",
    "# Функция для загрузки сигналов и аннотаций\n",
    "def load_data(records, sampfrom=0, sampto=650000):\n",
    "    signals = []\n",
    "    labels = []\n",
    "    \n",
    "    for record in tqdm(records):\n",
    "        # Загрузка сигнала\n",
    "        signal = wfdb.rdrecord(f'lab6/mitdb/{record}', sampfrom=sampfrom, sampto=sampto, channels=[0]).p_signal.flatten()\n",
    "        \n",
    "        # Загрузка аннотаций\n",
    "        annotation = wfdb.rdann(f'lab6/mitdb/{record}', 'atr', sampfrom=sampfrom, sampto=sampto)\n",
    "        \n",
    "        # Извлечение QRS-комплексов и меток\n",
    "        for i in range(len(annotation.sample)):\n",
    "            start = max(0, annotation.sample[i] - 90)\n",
    "            end = min(len(signal), annotation.sample[i] + 90)\n",
    "            \n",
    "            segment = signal[start:end]\n",
    "            if len(segment) == 180:  # Убедимся, что все сегменты одинаковой длины\n",
    "                signals.append(segment)\n",
    "                labels.append(annotation.symbol[i])\n",
    "    \n",
    "    return np.array(signals), np.array(labels)\n",
    "\n",
    "# Загрузка данных (это может занять некоторое время)\n",
    "signals, labels = load_data(records)\n"
   ]
  },
  {
   "cell_type": "code",
   "execution_count": null,
   "id": "323c469b-d429-4d29-8c1b-036502e4d3bb",
   "metadata": {},
   "outputs": [],
   "source": []
  },
  {
   "cell_type": "code",
   "execution_count": 2,
   "id": "b2040741-4e25-4ba4-8c87-7a43e5feb87e",
   "metadata": {},
   "outputs": [
    {
     "data": {
      "text/plain": [
       "N    75033\n",
       "L     8073\n",
       "R     7257\n",
       "V     7129\n",
       "/     7027\n",
       "A     2546\n",
       "+     1251\n",
       "f      982\n",
       "F      802\n",
       "~      614\n",
       "!      472\n",
       "\"      437\n",
       "j      229\n",
       "x      193\n",
       "a      150\n",
       "|      132\n",
       "E      106\n",
       "J       83\n",
       "Q       33\n",
       "e       16\n",
       "[        6\n",
       "]        6\n",
       "S        2\n",
       "Name: count, dtype: int64"
      ]
     },
     "execution_count": 2,
     "metadata": {},
     "output_type": "execute_result"
    }
   ],
   "source": [
    "pd.Series(labels).value_counts()"
   ]
  },
  {
   "cell_type": "code",
   "execution_count": 3,
   "id": "af4552f7-ea6a-4ba4-b744-6e5e2ab90344",
   "metadata": {},
   "outputs": [],
   "source": [
    "# Фильтрация только основных классов\n",
    "main_classes = ['N', 'L', 'R', 'V', 'A']\n",
    "mask = np.isin(labels, main_classes)\n",
    "signals_filtered = signals[mask]\n",
    "labels_filtered = labels[mask]\n",
    "\n",
    "# Преобразование меток в числовой формат\n",
    "label_map = {'N': 0, 'L': 1, 'R': 2, 'V': 3, 'A': 4}\n",
    "y = np.array([label_map[label] for label in labels_filtered])\n",
    "X = signals_filtered\n",
    "\n",
    "# Нормализация данных\n",
    "X = (X - X.mean(axis=1, keepdims=True)) / (X.std(axis=1, keepdims=True) + 1e-8)\n",
    "\n",
    "# Разделение на тренировочный и тестовый наборы\n",
    "X_train, X_test, y_train, y_test = train_test_split(X, y, test_size=0.2, random_state=42, stratify=y)\n",
    "\n",
    "# Преобразование в формат для LSTM (samples, timesteps, features)\n",
    "X_train = X_train.reshape(X_train.shape[0], X_train.shape[1], 1)\n",
    "X_test = X_test.reshape(X_test.shape[0], X_test.shape[1], 1)\n",
    "\n",
    "# One-hot кодирование меток\n",
    "y_train = utils.to_categorical(y_train, num_classes=len(main_classes))\n",
    "y_test = utils.to_categorical(y_test, num_classes=len(main_classes))"
   ]
  },
  {
   "cell_type": "markdown",
   "id": "c31d9eda-f8e2-4b87-8e7c-2258848cfc44",
   "metadata": {},
   "source": [
    "### 2.\tПостройте нейронную сеть с эффектом памяти (LSTM) и примените механизм внимания, "
   ]
  },
  {
   "cell_type": "code",
   "execution_count": 4,
   "id": "4a0dec18-003d-4191-8b97-3411493cfe93",
   "metadata": {},
   "outputs": [],
   "source": [
    "from tensorflow.keras.layers import Layer, MultiHeadAttention, LayerNormalization, Dropout\n",
    "from tensorflow.keras.optimizers import Adam\n",
    "\n",
    "class TransformerEncoder(Layer):\n",
    "    def __init__(self, embed_dim, num_heads, ff_dim, rate=0.1):\n",
    "        super(TransformerEncoder, self).__init__()\n",
    "        self.att = MultiHeadAttention(num_heads=num_heads, key_dim=embed_dim)\n",
    "        self.ffn = tf.keras.Sequential([\n",
    "            layers.Dense(ff_dim, activation=\"relu\"), \n",
    "            layers.Dense(embed_dim),\n",
    "        ])\n",
    "        self.layernorm1 = LayerNormalization(epsilon=1e-6)\n",
    "        self.layernorm2 = LayerNormalization(epsilon=1e-6)\n",
    "        self.dropout1 = Dropout(rate)\n",
    "        self.dropout2 = Dropout(rate)\n",
    "        self.embed_dim = embed_dim\n",
    "\n",
    "    def build(self, input_shape):\n",
    "        # Добавляем проекционный слой, если размерность входа не совпадает с embed_dim\n",
    "        if input_shape[-1] != self.embed_dim:\n",
    "            self.dense_proj = layers.Dense(self.embed_dim)\n",
    "        else:\n",
    "            self.dense_proj = lambda x: x\n",
    "        super().build(input_shape)\n",
    "\n",
    "    def call(self, inputs):\n",
    "        # Проекция входных данных\n",
    "        inputs_proj = self.dense_proj(inputs)\n",
    "        \n",
    "        # Self-attention\n",
    "        attn_output = self.att(inputs_proj, inputs_proj)\n",
    "        attn_output = self.dropout1(attn_output, training=True)  # Всегда training=True для простоты\n",
    "        out1 = self.layernorm1(inputs_proj + attn_output)\n",
    "        \n",
    "        # Feed-forward network\n",
    "        ffn_output = self.ffn(out1)\n",
    "        ffn_output = self.dropout2(ffn_output, training=True)\n",
    "        return self.layernorm2(out1 + ffn_output)\n",
    "\n",
    "def create_improved_model(input_shape, num_classes):\n",
    "    inputs = layers.Input(shape=input_shape)\n",
    "    \n",
    "    # Временные особенности через LSTM\n",
    "    x = layers.Bidirectional(layers.LSTM(64, return_sequences=True))(inputs)\n",
    "    x = layers.Bidirectional(layers.LSTM(32, return_sequences=True))(x)\n",
    "    \n",
    "    # Проекция в нужную размерность для Transformer\n",
    "    x = layers.Dense(32)(x)\n",
    "    \n",
    "    # Механизм внимания (Transformer Encoder)\n",
    "    x = TransformerEncoder(embed_dim=32, num_heads=4, ff_dim=64)(x)\n",
    "    x = layers.GlobalAveragePooling1D()(x)\n",
    "    \n",
    "    # Классификация\n",
    "    x = layers.Dense(64, activation='relu')(x)\n",
    "    x = layers.Dropout(0.3)(x)\n",
    "    outputs = layers.Dense(num_classes, activation='softmax')(x)\n",
    "    \n",
    "    model = models.Model(inputs=inputs, outputs=outputs)\n",
    "    \n",
    "    # Используем Adam оптимизатор с learning rate 0.001\n",
    "    optimizer = Adam(learning_rate=0.001)\n",
    "    \n",
    "    model.compile(optimizer=optimizer,\n",
    "                loss='categorical_crossentropy',\n",
    "                metrics=['accuracy', \n",
    "                        tf.keras.metrics.Precision(name='precision'),\n",
    "                        tf.keras.metrics.Recall(name='recall')])\n",
    "    \n",
    "    return model"
   ]
  },
  {
   "cell_type": "code",
   "execution_count": 5,
   "id": "4f405566-e9f5-4d89-8e4c-5049b9fe7ac8",
   "metadata": {},
   "outputs": [
    {
     "data": {
      "text/html": [
       "<pre style=\"white-space:pre;overflow-x:auto;line-height:normal;font-family:Menlo,'DejaVu Sans Mono',consolas,'Courier New',monospace\"><span style=\"font-weight: bold\">Model: \"functional_1\"</span>\n",
       "</pre>\n"
      ],
      "text/plain": [
       "\u001b[1mModel: \"functional_1\"\u001b[0m\n"
      ]
     },
     "metadata": {},
     "output_type": "display_data"
    },
    {
     "data": {
      "text/html": [
       "<pre style=\"white-space:pre;overflow-x:auto;line-height:normal;font-family:Menlo,'DejaVu Sans Mono',consolas,'Courier New',monospace\">┏━━━━━━━━━━━━━━━━━━━━━━━━━━━━━━━━━┳━━━━━━━━━━━━━━━━━━━━━━━━┳━━━━━━━━━━━━━━━┓\n",
       "┃<span style=\"font-weight: bold\"> Layer (type)                    </span>┃<span style=\"font-weight: bold\"> Output Shape           </span>┃<span style=\"font-weight: bold\">       Param # </span>┃\n",
       "┡━━━━━━━━━━━━━━━━━━━━━━━━━━━━━━━━━╇━━━━━━━━━━━━━━━━━━━━━━━━╇━━━━━━━━━━━━━━━┩\n",
       "│ input_layer (<span style=\"color: #0087ff; text-decoration-color: #0087ff\">InputLayer</span>)        │ (<span style=\"color: #00d7ff; text-decoration-color: #00d7ff\">None</span>, <span style=\"color: #00af00; text-decoration-color: #00af00\">180</span>, <span style=\"color: #00af00; text-decoration-color: #00af00\">1</span>)         │             <span style=\"color: #00af00; text-decoration-color: #00af00\">0</span> │\n",
       "├─────────────────────────────────┼────────────────────────┼───────────────┤\n",
       "│ bidirectional (<span style=\"color: #0087ff; text-decoration-color: #0087ff\">Bidirectional</span>)   │ (<span style=\"color: #00d7ff; text-decoration-color: #00d7ff\">None</span>, <span style=\"color: #00af00; text-decoration-color: #00af00\">180</span>, <span style=\"color: #00af00; text-decoration-color: #00af00\">128</span>)       │        <span style=\"color: #00af00; text-decoration-color: #00af00\">33,792</span> │\n",
       "├─────────────────────────────────┼────────────────────────┼───────────────┤\n",
       "│ bidirectional_1 (<span style=\"color: #0087ff; text-decoration-color: #0087ff\">Bidirectional</span>) │ (<span style=\"color: #00d7ff; text-decoration-color: #00d7ff\">None</span>, <span style=\"color: #00af00; text-decoration-color: #00af00\">180</span>, <span style=\"color: #00af00; text-decoration-color: #00af00\">64</span>)        │        <span style=\"color: #00af00; text-decoration-color: #00af00\">41,216</span> │\n",
       "├─────────────────────────────────┼────────────────────────┼───────────────┤\n",
       "│ dense (<span style=\"color: #0087ff; text-decoration-color: #0087ff\">Dense</span>)                   │ (<span style=\"color: #00d7ff; text-decoration-color: #00d7ff\">None</span>, <span style=\"color: #00af00; text-decoration-color: #00af00\">180</span>, <span style=\"color: #00af00; text-decoration-color: #00af00\">32</span>)        │         <span style=\"color: #00af00; text-decoration-color: #00af00\">2,080</span> │\n",
       "├─────────────────────────────────┼────────────────────────┼───────────────┤\n",
       "│ transformer_encoder             │ (<span style=\"color: #00d7ff; text-decoration-color: #00d7ff\">None</span>, <span style=\"color: #00af00; text-decoration-color: #00af00\">180</span>, <span style=\"color: #00af00; text-decoration-color: #00af00\">32</span>)        │        <span style=\"color: #00af00; text-decoration-color: #00af00\">21,120</span> │\n",
       "│ (<span style=\"color: #0087ff; text-decoration-color: #0087ff\">TransformerEncoder</span>)            │                        │               │\n",
       "├─────────────────────────────────┼────────────────────────┼───────────────┤\n",
       "│ global_average_pooling1d        │ (<span style=\"color: #00d7ff; text-decoration-color: #00d7ff\">None</span>, <span style=\"color: #00af00; text-decoration-color: #00af00\">32</span>)             │             <span style=\"color: #00af00; text-decoration-color: #00af00\">0</span> │\n",
       "│ (<span style=\"color: #0087ff; text-decoration-color: #0087ff\">GlobalAveragePooling1D</span>)        │                        │               │\n",
       "├─────────────────────────────────┼────────────────────────┼───────────────┤\n",
       "│ dense_3 (<span style=\"color: #0087ff; text-decoration-color: #0087ff\">Dense</span>)                 │ (<span style=\"color: #00d7ff; text-decoration-color: #00d7ff\">None</span>, <span style=\"color: #00af00; text-decoration-color: #00af00\">64</span>)             │         <span style=\"color: #00af00; text-decoration-color: #00af00\">2,112</span> │\n",
       "├─────────────────────────────────┼────────────────────────┼───────────────┤\n",
       "│ dropout_3 (<span style=\"color: #0087ff; text-decoration-color: #0087ff\">Dropout</span>)             │ (<span style=\"color: #00d7ff; text-decoration-color: #00d7ff\">None</span>, <span style=\"color: #00af00; text-decoration-color: #00af00\">64</span>)             │             <span style=\"color: #00af00; text-decoration-color: #00af00\">0</span> │\n",
       "├─────────────────────────────────┼────────────────────────┼───────────────┤\n",
       "│ dense_4 (<span style=\"color: #0087ff; text-decoration-color: #0087ff\">Dense</span>)                 │ (<span style=\"color: #00d7ff; text-decoration-color: #00d7ff\">None</span>, <span style=\"color: #00af00; text-decoration-color: #00af00\">5</span>)              │           <span style=\"color: #00af00; text-decoration-color: #00af00\">325</span> │\n",
       "└─────────────────────────────────┴────────────────────────┴───────────────┘\n",
       "</pre>\n"
      ],
      "text/plain": [
       "┏━━━━━━━━━━━━━━━━━━━━━━━━━━━━━━━━━┳━━━━━━━━━━━━━━━━━━━━━━━━┳━━━━━━━━━━━━━━━┓\n",
       "┃\u001b[1m \u001b[0m\u001b[1mLayer (type)                   \u001b[0m\u001b[1m \u001b[0m┃\u001b[1m \u001b[0m\u001b[1mOutput Shape          \u001b[0m\u001b[1m \u001b[0m┃\u001b[1m \u001b[0m\u001b[1m      Param #\u001b[0m\u001b[1m \u001b[0m┃\n",
       "┡━━━━━━━━━━━━━━━━━━━━━━━━━━━━━━━━━╇━━━━━━━━━━━━━━━━━━━━━━━━╇━━━━━━━━━━━━━━━┩\n",
       "│ input_layer (\u001b[38;5;33mInputLayer\u001b[0m)        │ (\u001b[38;5;45mNone\u001b[0m, \u001b[38;5;34m180\u001b[0m, \u001b[38;5;34m1\u001b[0m)         │             \u001b[38;5;34m0\u001b[0m │\n",
       "├─────────────────────────────────┼────────────────────────┼───────────────┤\n",
       "│ bidirectional (\u001b[38;5;33mBidirectional\u001b[0m)   │ (\u001b[38;5;45mNone\u001b[0m, \u001b[38;5;34m180\u001b[0m, \u001b[38;5;34m128\u001b[0m)       │        \u001b[38;5;34m33,792\u001b[0m │\n",
       "├─────────────────────────────────┼────────────────────────┼───────────────┤\n",
       "│ bidirectional_1 (\u001b[38;5;33mBidirectional\u001b[0m) │ (\u001b[38;5;45mNone\u001b[0m, \u001b[38;5;34m180\u001b[0m, \u001b[38;5;34m64\u001b[0m)        │        \u001b[38;5;34m41,216\u001b[0m │\n",
       "├─────────────────────────────────┼────────────────────────┼───────────────┤\n",
       "│ dense (\u001b[38;5;33mDense\u001b[0m)                   │ (\u001b[38;5;45mNone\u001b[0m, \u001b[38;5;34m180\u001b[0m, \u001b[38;5;34m32\u001b[0m)        │         \u001b[38;5;34m2,080\u001b[0m │\n",
       "├─────────────────────────────────┼────────────────────────┼───────────────┤\n",
       "│ transformer_encoder             │ (\u001b[38;5;45mNone\u001b[0m, \u001b[38;5;34m180\u001b[0m, \u001b[38;5;34m32\u001b[0m)        │        \u001b[38;5;34m21,120\u001b[0m │\n",
       "│ (\u001b[38;5;33mTransformerEncoder\u001b[0m)            │                        │               │\n",
       "├─────────────────────────────────┼────────────────────────┼───────────────┤\n",
       "│ global_average_pooling1d        │ (\u001b[38;5;45mNone\u001b[0m, \u001b[38;5;34m32\u001b[0m)             │             \u001b[38;5;34m0\u001b[0m │\n",
       "│ (\u001b[38;5;33mGlobalAveragePooling1D\u001b[0m)        │                        │               │\n",
       "├─────────────────────────────────┼────────────────────────┼───────────────┤\n",
       "│ dense_3 (\u001b[38;5;33mDense\u001b[0m)                 │ (\u001b[38;5;45mNone\u001b[0m, \u001b[38;5;34m64\u001b[0m)             │         \u001b[38;5;34m2,112\u001b[0m │\n",
       "├─────────────────────────────────┼────────────────────────┼───────────────┤\n",
       "│ dropout_3 (\u001b[38;5;33mDropout\u001b[0m)             │ (\u001b[38;5;45mNone\u001b[0m, \u001b[38;5;34m64\u001b[0m)             │             \u001b[38;5;34m0\u001b[0m │\n",
       "├─────────────────────────────────┼────────────────────────┼───────────────┤\n",
       "│ dense_4 (\u001b[38;5;33mDense\u001b[0m)                 │ (\u001b[38;5;45mNone\u001b[0m, \u001b[38;5;34m5\u001b[0m)              │           \u001b[38;5;34m325\u001b[0m │\n",
       "└─────────────────────────────────┴────────────────────────┴───────────────┘\n"
      ]
     },
     "metadata": {},
     "output_type": "display_data"
    },
    {
     "data": {
      "text/html": [
       "<pre style=\"white-space:pre;overflow-x:auto;line-height:normal;font-family:Menlo,'DejaVu Sans Mono',consolas,'Courier New',monospace\"><span style=\"font-weight: bold\"> Total params: </span><span style=\"color: #00af00; text-decoration-color: #00af00\">100,645</span> (393.14 KB)\n",
       "</pre>\n"
      ],
      "text/plain": [
       "\u001b[1m Total params: \u001b[0m\u001b[38;5;34m100,645\u001b[0m (393.14 KB)\n"
      ]
     },
     "metadata": {},
     "output_type": "display_data"
    },
    {
     "data": {
      "text/html": [
       "<pre style=\"white-space:pre;overflow-x:auto;line-height:normal;font-family:Menlo,'DejaVu Sans Mono',consolas,'Courier New',monospace\"><span style=\"font-weight: bold\"> Trainable params: </span><span style=\"color: #00af00; text-decoration-color: #00af00\">100,645</span> (393.14 KB)\n",
       "</pre>\n"
      ],
      "text/plain": [
       "\u001b[1m Trainable params: \u001b[0m\u001b[38;5;34m100,645\u001b[0m (393.14 KB)\n"
      ]
     },
     "metadata": {},
     "output_type": "display_data"
    },
    {
     "data": {
      "text/html": [
       "<pre style=\"white-space:pre;overflow-x:auto;line-height:normal;font-family:Menlo,'DejaVu Sans Mono',consolas,'Courier New',monospace\"><span style=\"font-weight: bold\"> Non-trainable params: </span><span style=\"color: #00af00; text-decoration-color: #00af00\">0</span> (0.00 B)\n",
       "</pre>\n"
      ],
      "text/plain": [
       "\u001b[1m Non-trainable params: \u001b[0m\u001b[38;5;34m0\u001b[0m (0.00 B)\n"
      ]
     },
     "metadata": {},
     "output_type": "display_data"
    }
   ],
   "source": [
    "model = create_improved_model((X_train.shape[1], X_train.shape[2]), len(main_classes))\n",
    "model.summary()\n",
    "\n",
    "# Колбэк для ранней остановки\n",
    "early_stopping = EarlyStopping(monitor='val_loss', patience=5, restore_best_weights=True)\n"
   ]
  },
  {
   "attachments": {},
   "cell_type": "markdown",
   "id": "3ca93540-1455-4ef0-8e9f-36d7806f4755",
   "metadata": {},
   "source": [
    "#### 3.\tОбучите ее классифицировать классы по заданной ЭКГ. Постройте матрицу ошибок (confusion matrix). "
   ]
  },
  {
   "cell_type": "code",
   "execution_count": 6,
   "id": "05c6cce1-28f2-4c1c-b04c-8956b6ea0812",
   "metadata": {},
   "outputs": [
    {
     "name": "stdout",
     "output_type": "stream",
     "text": [
      "Epoch 1/7\n",
      "\u001b[1m1001/1001\u001b[0m \u001b[32m━━━━━━━━━━━━━━━━━━━━\u001b[0m\u001b[37m\u001b[0m \u001b[1m339s\u001b[0m 336ms/step - accuracy: 0.8524 - loss: 0.4781 - precision: 0.8898 - recall: 0.8124 - val_accuracy: 0.9613 - val_loss: 0.1401 - val_precision: 0.9642 - val_recall: 0.9582\n",
      "Epoch 2/7\n",
      "\u001b[1m1001/1001\u001b[0m \u001b[32m━━━━━━━━━━━━━━━━━━━━\u001b[0m\u001b[37m\u001b[0m \u001b[1m350s\u001b[0m 349ms/step - accuracy: 0.9645 - loss: 0.1403 - precision: 0.9681 - recall: 0.9612 - val_accuracy: 0.9704 - val_loss: 0.1082 - val_precision: 0.9733 - val_recall: 0.9687\n",
      "Epoch 3/7\n",
      "\u001b[1m1001/1001\u001b[0m \u001b[32m━━━━━━━━━━━━━━━━━━━━\u001b[0m\u001b[37m\u001b[0m \u001b[1m347s\u001b[0m 347ms/step - accuracy: 0.9730 - loss: 0.1022 - precision: 0.9756 - recall: 0.9707 - val_accuracy: 0.9725 - val_loss: 0.0890 - val_precision: 0.9757 - val_recall: 0.9698\n",
      "Epoch 4/7\n",
      "\u001b[1m1001/1001\u001b[0m \u001b[32m━━━━━━━━━━━━━━━━━━━━\u001b[0m\u001b[37m\u001b[0m \u001b[1m343s\u001b[0m 343ms/step - accuracy: 0.9765 - loss: 0.0857 - precision: 0.9786 - recall: 0.9746 - val_accuracy: 0.9788 - val_loss: 0.0701 - val_precision: 0.9801 - val_recall: 0.9778\n",
      "Epoch 5/7\n",
      "\u001b[1m1001/1001\u001b[0m \u001b[32m━━━━━━━━━━━━━━━━━━━━\u001b[0m\u001b[37m\u001b[0m \u001b[1m344s\u001b[0m 344ms/step - accuracy: 0.9806 - loss: 0.0711 - precision: 0.9822 - recall: 0.9790 - val_accuracy: 0.9860 - val_loss: 0.0485 - val_precision: 0.9867 - val_recall: 0.9856\n",
      "Epoch 6/7\n",
      "\u001b[1m1001/1001\u001b[0m \u001b[32m━━━━━━━━━━━━━━━━━━━━\u001b[0m\u001b[37m\u001b[0m \u001b[1m355s\u001b[0m 354ms/step - accuracy: 0.9838 - loss: 0.0605 - precision: 0.9850 - recall: 0.9825 - val_accuracy: 0.9801 - val_loss: 0.0668 - val_precision: 0.9812 - val_recall: 0.9794\n",
      "Epoch 7/7\n",
      "\u001b[1m1001/1001\u001b[0m \u001b[32m━━━━━━━━━━━━━━━━━━━━\u001b[0m\u001b[37m\u001b[0m \u001b[1m351s\u001b[0m 351ms/step - accuracy: 0.9827 - loss: 0.0616 - precision: 0.9837 - recall: 0.9818 - val_accuracy: 0.9878 - val_loss: 0.0450 - val_precision: 0.9882 - val_recall: 0.9876\n"
     ]
    }
   ],
   "source": [
    "history = model.fit(\n",
    "    X_train, y_train,\n",
    "    epochs=7,\n",
    "    batch_size=64,\n",
    "    validation_split=0.2,\n",
    "    callbacks=[early_stopping],\n",
    "    verbose=1\n",
    ")\n"
   ]
  },
  {
   "cell_type": "code",
   "execution_count": 21,
   "id": "c2c52382-b9e6-4c2c-bba9-8e942583fc1c",
   "metadata": {},
   "outputs": [],
   "source": [
    "model.save('lab6/transformer_model.h5')  # Creates a directory"
   ]
  },
  {
   "cell_type": "code",
   "execution_count": 7,
   "id": "d460e00a-a354-46af-9f00-eb79e8559206",
   "metadata": {},
   "outputs": [
    {
     "data": {
      "image/png": "[encoded data removed]",
      "text/plain": [
       "<Figure size 1200x400 with 2 Axes>"
      ]
     },
     "metadata": {},
     "output_type": "display_data"
    }
   ],
   "source": [
    "def plot_history(history):\n",
    "    plt.figure(figsize=(12, 4))\n",
    "    \n",
    "    plt.subplot(1, 2, 1)\n",
    "    plt.plot(history.history['accuracy'], label='Train Accuracy')\n",
    "    plt.plot(history.history['val_accuracy'], label='Validation Accuracy')\n",
    "    plt.title('Model Accuracy')\n",
    "    plt.xlabel('Epoch')\n",
    "    plt.ylabel('Accuracy')\n",
    "    plt.legend()\n",
    "    \n",
    "    plt.subplot(1, 2, 2)\n",
    "    plt.plot(history.history['loss'], label='Train Loss')\n",
    "    plt.plot(history.history['val_loss'], label='Validation Loss')\n",
    "    plt.title('Model Loss')\n",
    "    plt.xlabel('Epoch')\n",
    "    plt.ylabel('Loss')\n",
    "    plt.legend()\n",
    "    \n",
    "    plt.tight_layout()\n",
    "    plt.show()\n",
    "\n",
    "plot_history(history)"
   ]
  },
  {
   "cell_type": "code",
   "execution_count": 8,
   "id": "2ebcc75c-db8a-46c1-8217-c7bf6b3a6399",
   "metadata": {},
   "outputs": [
    {
     "name": "stdout",
     "output_type": "stream",
     "text": [
      "Test Loss: 0.0506\n",
      "Test Accuracy: 0.9873\n",
      "Test Precision: 0.9876\n",
      "Test Recall: 0.9872\n"
     ]
    }
   ],
   "source": [
    "# Оценка на тестовых данных\n",
    "results = model.evaluate(X_test, y_test, verbose=0)\n",
    "\n",
    "# Метрики возвращаются в порядке: loss, accuracy, precision, recall\n",
    "loss = results[0]\n",
    "accuracy = results[1]\n",
    "precision = results[2]\n",
    "recall = results[3]\n",
    "\n",
    "print(f'Test Loss: {loss:.4f}')\n",
    "print(f'Test Accuracy: {accuracy:.4f}')\n",
    "print(f'Test Precision: {precision:.4f}')\n",
    "print(f'Test Recall: {recall:.4f}')"
   ]
  },
  {
   "cell_type": "code",
   "execution_count": 9,
   "id": "43b0502e-505e-4b74-a527-3cb651f4c7a3",
   "metadata": {},
   "outputs": [
    {
     "name": "stdout",
     "output_type": "stream",
     "text": [
      "\u001b[1m626/626\u001b[0m \u001b[32m━━━━━━━━━━━━━━━━━━━━\u001b[0m\u001b[37m\u001b[0m \u001b[1m41s\u001b[0m 64ms/step\n"
     ]
    }
   ],
   "source": [
    "y_pred = model.predict(X_test)\n",
    "y_pred_classes = np.argmax(y_pred, axis=1)\n",
    "y_test_classes = np.argmax(y_test, axis=1)\n",
    "\n",
    "# Построение матрицы ошибок\n",
    "def plot_confusion_matrix(y_true, y_pred, classes):\n",
    "    cm = confusion_matrix(y_true, y_pred)\n",
    "    plt.figure(figsize=(8, 6))\n",
    "    sns.heatmap(cm, annot=True, fmt='d', cmap='Blues', \n",
    "                xticklabels=classes, yticklabels=classes)\n",
    "    plt.title('Confusion Matrix')\n",
    "    plt.ylabel('True Label')\n",
    "    plt.xlabel('Predicted Label')\n",
    "    plt.show()"
   ]
  },
  {
   "cell_type": "code",
   "execution_count": 10,
   "id": "b498fd55-e494-46b2-8854-3f21c030add8",
   "metadata": {},
   "outputs": [
    {
     "data": {
      "image/png": "[encoded data removed]",
      "text/plain": [
       "<Figure size 800x600 with 2 Axes>"
      ]
     },
     "metadata": {},
     "output_type": "display_data"
    },
    {
     "name": "stdout",
     "output_type": "stream",
     "text": [
      "              precision    recall  f1-score   support\n",
      "\n",
      "           N       0.99      1.00      0.99     15007\n",
      "           L       1.00      0.98      0.99      1615\n",
      "           R       0.99      0.99      0.99      1451\n",
      "           V       0.97      0.97      0.97      1426\n",
      "           A       0.97      0.73      0.83       509\n",
      "\n",
      "    accuracy                           0.99     20008\n",
      "   macro avg       0.98      0.93      0.96     20008\n",
      "weighted avg       0.99      0.99      0.99     20008\n",
      "\n"
     ]
    }
   ],
   "source": [
    "plot_confusion_matrix(y_test_classes, y_pred_classes, main_classes)\n",
    "\n",
    "# Вывод отчета о классификации\n",
    "print(classification_report(y_test_classes, y_pred_classes, target_names=main_classes))"
   ]
  },
  {
   "attachments": {},
   "cell_type": "markdown",
   "id": "7d4742f1-47f9-47b2-a33f-ad793a575c0c",
   "metadata": {},
   "source": [
    "### 4.\tПроведите эксперименты по заданию на AutoML решении. Сравните результаты."
   ]
  },
  {
   "cell_type": "markdown",
   "id": "395feb80-b1c5-4483-81df-e97ff9154ebc",
   "metadata": {},
   "source": [
    "#### lightautoml"
   ]
  },
  {
   "cell_type": "code",
   "execution_count": 11,
   "id": "aa31da1c-3fcb-41a1-971d-7557c91560b2",
   "metadata": {},
   "outputs": [],
   "source": [
    "import numpy as np\n",
    "from sklearn.model_selection import train_test_split\n",
    "from sklearn.metrics import classification_report, confusion_matrix"
   ]
  },
  {
   "cell_type": "code",
   "execution_count": 12,
   "id": "435974fd-565f-4fa8-be43-dca067fb08e4",
   "metadata": {},
   "outputs": [],
   "source": [
    "# Преобразование в 2D (для TPOT и LightAutoML)\n",
    "X_2d = X.reshape(X.shape[0], -1)\n",
    "\n",
    "# Разделение данных\n",
    "X_train, X_test, y_train, y_test = train_test_split(\n",
    "    X_2d, y, test_size=0.2, random_state=42, stratify=y\n",
    ")"
   ]
  },
  {
   "cell_type": "code",
   "execution_count": 13,
   "id": "1be6915f-9ccb-4de6-bd04-ed75d674e372",
   "metadata": {},
   "outputs": [],
   "source": [
    "# X_train = X_train.reshape(X_train.shape[0], -1)\n",
    "# X_test = X_test.reshape(X_train.shape[0], -1)"
   ]
  },
  {
   "cell_type": "code",
   "execution_count": 14,
   "id": "ba030a7d-5dba-438b-8d93-273e8383cec5",
   "metadata": {},
   "outputs": [
    {
     "name": "stdout",
     "output_type": "stream",
     "text": [
      "Проверка данных:\n",
      "Размер train: (80030, 181)\n",
      "Размер test: (20008, 180)\n",
      "NaN в train: 0\n",
      "NaN в test: 0\n",
      "Уникальные значения target: [0 1 2 3 4]\n"
     ]
    }
   ],
   "source": [
    "import pandas as pd\n",
    "import numpy as np\n",
    "from lightautoml.automl.presets.tabular_presets import TabularAutoML\n",
    "from lightautoml.tasks import Task\n",
    "from sklearn.metrics import classification_report\n",
    "\n",
    "# 1. Подготовка данных\n",
    "def prepare_data(X, y=None):\n",
    "    df = pd.DataFrame(X)\n",
    "    df.columns = [f'f_{i}' for i in range(df.shape[1])]\n",
    "    if y is not None:\n",
    "        df['target'] = y\n",
    "    return df\n",
    "\n",
    "train_data = prepare_data(X_train, y_train)\n",
    "test_data = prepare_data(X_test)\n",
    "\n",
    "# 2. Проверка данных\n",
    "print(\"Проверка данных:\")\n",
    "print(\"Размер train:\", train_data.shape)\n",
    "print(\"Размер test:\", test_data.shape)\n",
    "print(\"NaN в train:\", train_data.isna().sum().sum())\n",
    "print(\"NaN в test:\", test_data.isna().sum().sum())\n",
    "print(\"Уникальные значения target:\", np.unique(y_train))\n",
    "\n",
    "# 3. Настройка задачи и AutoML\n",
    "task = Task('multiclass')\n",
    "\n",
    "automl = TabularAutoML(\n",
    "    task=task,\n",
    "    timeout=300,  # 5 минут\n",
    "    cpu_limit=4,\n",
    "    general_params={\n",
    "        'use_algos': [['lgb', 'cb']],  # Только LightGBM и CatBoost\n",
    "        'default_algos': ['lgb', 'cb']\n",
    "    },\n",
    "    reader_params={\n",
    "        'cv': 3,\n",
    "        'random_state': 42,\n",
    "    }\n",
    ")\n",
    "\n"
   ]
  },
  {
   "cell_type": "code",
   "execution_count": 15,
   "id": "4aa05a23-3207-4abe-826f-46a5c102daff",
   "metadata": {},
   "outputs": [
    {
     "name": "stdout",
     "output_type": "stream",
     "text": [
      "[22:15:05] Stdout logging level is INFO.\n",
      "[22:15:05] Copying TaskTimer may affect the parent PipelineTimer, so copy will create new unlimited TaskTimer\n",
      "[22:15:05] Task: multiclass\n",
      "\n",
      "[22:15:05] Start automl preset with listed constraints:\n",
      "[22:15:05] - time: 300.00 seconds\n",
      "[22:15:05] - CPU: 4 cores\n",
      "[22:15:05] - memory: 16 GB\n",
      "\n",
      "[22:15:05] \u001b[1mTrain data shape: (80030, 181)\u001b[0m\n",
      "\n",
      "[22:15:21] Layer \u001b[1m1\u001b[0m train process start. Time left 284.56 secs\n",
      "[22:15:44] \u001b[1mSelector_LightGBM\u001b[0m fitting and predicting completed\n",
      "[22:15:44] Start fitting \u001b[1mLvl_0_Pipe_0_Mod_0_LightGBM\u001b[0m ...\n",
      "[22:16:34] Fitting \u001b[1mLvl_0_Pipe_0_Mod_0_LightGBM\u001b[0m finished. score = \u001b[1m-0.03499325986954408\u001b[0m\n",
      "[22:16:34] \u001b[1mLvl_0_Pipe_0_Mod_0_LightGBM\u001b[0m fitting and predicting completed\n",
      "[22:16:34] Start fitting \u001b[1mLvl_0_Pipe_0_Mod_1_CatBoost\u001b[0m ...\n",
      "[22:18:42] Time limit exceeded after calculating fold 1\n",
      "\n",
      "[22:18:42] Fitting \u001b[1mLvl_0_Pipe_0_Mod_1_CatBoost\u001b[0m finished. score = \u001b[1m-0.03470790229368929\u001b[0m\n",
      "[22:18:42] \u001b[1mLvl_0_Pipe_0_Mod_1_CatBoost\u001b[0m fitting and predicting completed\n",
      "[22:18:42] Time left 83.73 secs\n",
      "\n",
      "[22:18:42] Time limit exceeded in one of the tasks. AutoML will blend level 1 models.\n",
      "\n",
      "[22:18:42] \u001b[1mLayer 1 training completed.\u001b[0m\n",
      "\n",
      "[22:18:42] Blending: optimization starts with equal weights. Score = \u001b[1m-0.0336098\u001b[0m\n",
      "[22:18:42] Blending: iteration \u001b[1m0\u001b[0m: score = \u001b[1m-0.0336034\u001b[0m, weights = \u001b[1m[0.456941 0.543059]\u001b[0m\n",
      "[22:18:42] Blending: no improvements for score. Terminated.\n",
      "\n",
      "[22:18:42] Blending: best score = \u001b[1m-0.0336034\u001b[0m, best weights = \u001b[1m[0.456941 0.543059]\u001b[0m\n",
      "[22:18:42] \u001b[1mAutoml preset training completed in 216.84 seconds\u001b[0m\n",
      "\n",
      "[22:18:42] Model description:\n",
      "Final prediction for new objects (level 0) = \n",
      "\t 0.45694 * (3 averaged models Lvl_0_Pipe_0_Mod_0_LightGBM) +\n",
      "\t 0.54306 * (2 averaged models Lvl_0_Pipe_0_Mod_1_CatBoost) \n",
      "\n",
      "\n",
      "Результаты LightAutoML:\n",
      "              precision    recall  f1-score   support\n",
      "\n",
      "           N       0.99      1.00      1.00     15007\n",
      "           L       0.99      0.99      0.99      1615\n",
      "           R       1.00      0.99      0.99      1451\n",
      "           V       0.99      0.97      0.98      1426\n",
      "           A       0.98      0.85      0.91       509\n",
      "\n",
      "    accuracy                           0.99     20008\n",
      "   macro avg       0.99      0.96      0.97     20008\n",
      "weighted avg       0.99      0.99      0.99     20008\n",
      "\n"
     ]
    }
   ],
   "source": [
    "# Правильные роли для LightAutoML 0.4.1\n",
    "roles = {\n",
    "    'target': 'target',\n",
    "    'drop': []  # Явно указываем, что не нужно удалять никакие колонки\n",
    "}\n",
    "\n",
    "oof_pred = automl.fit_predict(\n",
    "    train_data,\n",
    "    roles=roles,\n",
    "    verbose=1\n",
    ")\n",
    "\n",
    "# 5. Предсказание\n",
    "test_pred = automl.predict(test_data)\n",
    "y_pred = test_pred.data.argmax(axis=1)\n",
    "\n",
    "print(\"\\nРезультаты LightAutoML:\")\n",
    "print(classification_report(y_test, y_pred, target_names=main_classes))"
   ]
  },
  {
   "cell_type": "markdown",
   "id": "87880d6a-f2f5-45cc-9acf-6c81e36c9959",
   "metadata": {},
   "source": [
    "#### TPOT"
   ]
  },
  {
   "cell_type": "code",
   "execution_count": 16,
   "id": "898825b5-e770-4984-b13a-b24dc486bab1",
   "metadata": {},
   "outputs": [],
   "source": [
    "# from tpot import TPOTClassifier\n",
    "\n",
    "\n",
    "# tpot = TPOTClassifier(\n",
    "#     generations=3, \n",
    "#     population_size=10,\n",
    "#     cv=3,\n",
    "#     random_state=42,\n",
    "#     verbosity=2,\n",
    "#     n_jobs=-1\n",
    "# )\n",
    "\n",
    "# tpot.fit(X_train, y_train)\n",
    "\n",
    "# y_pred_tpot = tpot.predict(X_test)\n",
    "# print(classification_report(y_test, y_pred_tpot, target_names=main_classes))"
   ]
  },
  {
   "cell_type": "code",
   "execution_count": 17,
   "id": "aff0e70c-eeda-4365-9ee6-302befacfa9a",
   "metadata": {},
   "outputs": [
    {
     "name": "stderr",
     "output_type": "stream",
     "text": [
      "Version 0.12.2 of tpot is outdated. Version 1.0.0 was released Wednesday February 26, 2025.\n"
     ]
    },
    {
     "data": {
      "application/vnd.jupyter.widget-view+json": {
       "model_id": "347751bbd68c42febee16c206499a32e",
       "version_major": 2,
       "version_minor": 0
      },
      "text/plain": [
       "Optimization Progress:   0%|          | 0/5 [00:00<?, ?pipeline/s]"
      ]
     },
     "metadata": {},
     "output_type": "display_data"
    },
    {
     "name": "stdout",
     "output_type": "stream",
     "text": [
      "\n",
      "Generation 1 - Current best internal CV score: 0.9856303886042734\n",
      "\n",
      "12.65 minutes have elapsed. TPOT will close down.\n",
      "TPOT closed during evaluation in one generation.\n",
      "WARNING: TPOT may not provide a good pipeline if TPOT is stopped/interrupted in a early generation.\n",
      "\n",
      "\n",
      "TPOT closed prematurely. Will use the current best pipeline.\n",
      "\n",
      "Best pipeline: KNeighborsClassifier(input_matrix, n_neighbors=21, p=2, weights=distance)\n",
      "\n",
      "TPOT Classification Report:\n",
      "              precision    recall  f1-score   support\n",
      "\n",
      "           N       0.99      1.00      0.99     15007\n",
      "           L       0.99      0.99      0.99      1615\n",
      "           R       0.99      0.99      0.99      1451\n",
      "           V       0.98      0.97      0.97      1426\n",
      "           A       0.94      0.83      0.88       509\n",
      "\n",
      "    accuracy                           0.99     20008\n",
      "   macro avg       0.98      0.95      0.97     20008\n",
      "weighted avg       0.99      0.99      0.99     20008\n",
      "\n"
     ]
    }
   ],
   "source": [
    "from tpot import TPOTClassifier\n",
    "from sklearn.metrics import classification_report\n",
    "\n",
    "# Оптимизированная конфигурация TPOT\n",
    "tpot = TPOTClassifier(\n",
    "    generations=2,\n",
    "    population_size=5,\n",
    "    cv=2,\n",
    "    random_state=42,\n",
    "    verbosity=2,\n",
    "    n_jobs=-1,\n",
    "    config_dict='TPOT light',\n",
    "    early_stop=3,\n",
    "    max_time_mins=10,\n",
    "    warm_start=True\n",
    ")\n",
    "\n",
    "\n",
    "\n",
    "tpot.fit(X_train, y_train)\n",
    "\n",
    "# Предсказание и оценка\n",
    "y_pred_tpot = tpot.predict(X_test)\n",
    "print(\"\\nTPOT Classification Report:\")\n",
    "print(classification_report(y_test, y_pred_tpot, target_names=main_classes))\n",
    "\n",
    "# Сохраняем лучший пайплайн\n",
    "tpot.export('tpot_optimized_pipeline.py')"
   ]
  },
  {
   "cell_type": "markdown",
   "id": "31ca6bad-7fc9-4af0-8c35-f6855576fff5",
   "metadata": {},
   "source": [
    "#### fedot"
   ]
  },
  {
   "cell_type": "code",
   "execution_count": 18,
   "id": "c13eb19b-6cd5-4e14-95b6-a3ab50c32f99",
   "metadata": {},
   "outputs": [
    {
     "data": {
      "text/html": [
       "<style>#sk-container-id-1 {\n",
       "  /* Definition of color scheme common for light and dark mode */\n",
       "  --sklearn-color-text: black;\n",
       "  --sklearn-color-line: gray;\n",
       "  /* Definition of color scheme for unfitted estimators */\n",
       "  --sklearn-color-unfitted-level-0: #fff5e6;\n",
       "  --sklearn-color-unfitted-level-1: #f6e4d2;\n",
       "  --sklearn-color-unfitted-level-2: #ffe0b3;\n",
       "  --sklearn-color-unfitted-level-3: chocolate;\n",
       "  /* Definition of color scheme for fitted estimators */\n",
       "  --sklearn-color-fitted-level-0: #f0f8ff;\n",
       "  --sklearn-color-fitted-level-1: #d4ebff;\n",
       "  --sklearn-color-fitted-level-2: #b3dbfd;\n",
       "  --sklearn-color-fitted-level-3: cornflowerblue;\n",
       "\n",
       "  /* Specific color for light theme */\n",
       "  --sklearn-color-text-on-default-background: var(--sg-text-color, var(--theme-code-foreground, var(--jp-content-font-color1, black)));\n",
       "  --sklearn-color-background: var(--sg-background-color, var(--theme-background, var(--jp-layout-color0, white)));\n",
       "  --sklearn-color-border-box: var(--sg-text-color, var(--theme-code-foreground, var(--jp-content-font-color1, black)));\n",
       "  --sklearn-color-icon: #696969;\n",
       "\n",
       "  @media (prefers-color-scheme: dark) {\n",
       "    /* Redefinition of color scheme for dark theme */\n",
       "    --sklearn-color-text-on-default-background: var(--sg-text-color, var(--theme-code-foreground, var(--jp-content-font-color1, white)));\n",
       "    --sklearn-color-background: var(--sg-background-color, var(--theme-background, var(--jp-layout-color0, #111)));\n",
       "    --sklearn-color-border-box: var(--sg-text-color, var(--theme-code-foreground, var(--jp-content-font-color1, white)));\n",
       "    --sklearn-color-icon: #878787;\n",
       "  }\n",
       "}\n",
       "\n",
       "#sk-container-id-1 {\n",
       "  color: var(--sklearn-color-text);\n",
       "}\n",
       "\n",
       "#sk-container-id-1 pre {\n",
       "  padding: 0;\n",
       "}\n",
       "\n",
       "#sk-container-id-1 input.sk-hidden--visually {\n",
       "  border: 0;\n",
       "  clip: rect(1px 1px 1px 1px);\n",
       "  clip: rect(1px, 1px, 1px, 1px);\n",
       "  height: 1px;\n",
       "  margin: -1px;\n",
       "  overflow: hidden;\n",
       "  padding: 0;\n",
       "  position: absolute;\n",
       "  width: 1px;\n",
       "}\n",
       "\n",
       "#sk-container-id-1 div.sk-dashed-wrapped {\n",
       "  border: 1px dashed var(--sklearn-color-line);\n",
       "  margin: 0 0.4em 0.5em 0.4em;\n",
       "  box-sizing: border-box;\n",
       "  padding-bottom: 0.4em;\n",
       "  background-color: var(--sklearn-color-background);\n",
       "}\n",
       "\n",
       "#sk-container-id-1 div.sk-container {\n",
       "  /* jupyter's `normalize.less` sets `[hidden] { display: none; }`\n",
       "     but bootstrap.min.css set `[hidden] { display: none !important; }`\n",
       "     so we also need the `!important` here to be able to override the\n",
       "     default hidden behavior on the sphinx rendered scikit-learn.org.\n",
       "     See: https://github.com/scikit-learn/scikit-learn/issues/21755 */\n",
       "  display: inline-block !important;\n",
       "  position: relative;\n",
       "}\n",
       "\n",
       "#sk-container-id-1 div.sk-text-repr-fallback {\n",
       "  display: none;\n",
       "}\n",
       "\n",
       "div.sk-parallel-item,\n",
       "div.sk-serial,\n",
       "div.sk-item {\n",
       "  /* draw centered vertical line to link estimators */\n",
       "  background-image: linear-gradient(var(--sklearn-color-text-on-default-background), var(--sklearn-color-text-on-default-background));\n",
       "  background-size: 2px 100%;\n",
       "  background-repeat: no-repeat;\n",
       "  background-position: center center;\n",
       "}\n",
       "\n",
       "/* Parallel-specific style estimator block */\n",
       "\n",
       "#sk-container-id-1 div.sk-parallel-item::after {\n",
       "  content: \"\";\n",
       "  width: 100%;\n",
       "  border-bottom: 2px solid var(--sklearn-color-text-on-default-background);\n",
       "  flex-grow: 1;\n",
       "}\n",
       "\n",
       "#sk-container-id-1 div.sk-parallel {\n",
       "  display: flex;\n",
       "  align-items: stretch;\n",
       "  justify-content: center;\n",
       "  background-color: var(--sklearn-color-background);\n",
       "  position: relative;\n",
       "}\n",
       "\n",
       "#sk-container-id-1 div.sk-parallel-item {\n",
       "  display: flex;\n",
       "  flex-direction: column;\n",
       "}\n",
       "\n",
       "#sk-container-id-1 div.sk-parallel-item:first-child::after {\n",
       "  align-self: flex-end;\n",
       "  width: 50%;\n",
       "}\n",
       "\n",
       "#sk-container-id-1 div.sk-parallel-item:last-child::after {\n",
       "  align-self: flex-start;\n",
       "  width: 50%;\n",
       "}\n",
       "\n",
       "#sk-container-id-1 div.sk-parallel-item:only-child::after {\n",
       "  width: 0;\n",
       "}\n",
       "\n",
       "/* Serial-specific style estimator block */\n",
       "\n",
       "#sk-container-id-1 div.sk-serial {\n",
       "  display: flex;\n",
       "  flex-direction: column;\n",
       "  align-items: center;\n",
       "  background-color: var(--sklearn-color-background);\n",
       "  padding-right: 1em;\n",
       "  padding-left: 1em;\n",
       "}\n",
       "\n",
       "\n",
       "/* Toggleable style: style used for estimator/Pipeline/ColumnTransformer box that is\n",
       "clickable and can be expanded/collapsed.\n",
       "- Pipeline and ColumnTransformer use this feature and define the default style\n",
       "- Estimators will overwrite some part of the style using the `sk-estimator` class\n",
       "*/\n",
       "\n",
       "/* Pipeline and ColumnTransformer style (default) */\n",
       "\n",
       "#sk-container-id-1 div.sk-toggleable {\n",
       "  /* Default theme specific background. It is overwritten whether we have a\n",
       "  specific estimator or a Pipeline/ColumnTransformer */\n",
       "  background-color: var(--sklearn-color-background);\n",
       "}\n",
       "\n",
       "/* Toggleable label */\n",
       "#sk-container-id-1 label.sk-toggleable__label {\n",
       "  cursor: pointer;\n",
       "  display: block;\n",
       "  width: 100%;\n",
       "  margin-bottom: 0;\n",
       "  padding: 0.5em;\n",
       "  box-sizing: border-box;\n",
       "  text-align: center;\n",
       "}\n",
       "\n",
       "#sk-container-id-1 label.sk-toggleable__label-arrow:before {\n",
       "  /* Arrow on the left of the label */\n",
       "  content: \"▸\";\n",
       "  float: left;\n",
       "  margin-right: 0.25em;\n",
       "  color: var(--sklearn-color-icon);\n",
       "}\n",
       "\n",
       "#sk-container-id-1 label.sk-toggleable__label-arrow:hover:before {\n",
       "  color: var(--sklearn-color-text);\n",
       "}\n",
       "\n",
       "/* Toggleable content - dropdown */\n",
       "\n",
       "#sk-container-id-1 div.sk-toggleable__content {\n",
       "  max-height: 0;\n",
       "  max-width: 0;\n",
       "  overflow: hidden;\n",
       "  text-align: left;\n",
       "  /* unfitted */\n",
       "  background-color: var(--sklearn-color-unfitted-level-0);\n",
       "}\n",
       "\n",
       "#sk-container-id-1 div.sk-toggleable__content.fitted {\n",
       "  /* fitted */\n",
       "  background-color: var(--sklearn-color-fitted-level-0);\n",
       "}\n",
       "\n",
       "#sk-container-id-1 div.sk-toggleable__content pre {\n",
       "  margin: 0.2em;\n",
       "  border-radius: 0.25em;\n",
       "  color: var(--sklearn-color-text);\n",
       "  /* unfitted */\n",
       "  background-color: var(--sklearn-color-unfitted-level-0);\n",
       "}\n",
       "\n",
       "#sk-container-id-1 div.sk-toggleable__content.fitted pre {\n",
       "  /* unfitted */\n",
       "  background-color: var(--sklearn-color-fitted-level-0);\n",
       "}\n",
       "\n",
       "#sk-container-id-1 input.sk-toggleable__control:checked~div.sk-toggleable__content {\n",
       "  /* Expand drop-down */\n",
       "  max-height: 200px;\n",
       "  max-width: 100%;\n",
       "  overflow: auto;\n",
       "}\n",
       "\n",
       "#sk-container-id-1 input.sk-toggleable__control:checked~label.sk-toggleable__label-arrow:before {\n",
       "  content: \"▾\";\n",
       "}\n",
       "\n",
       "/* Pipeline/ColumnTransformer-specific style */\n",
       "\n",
       "#sk-container-id-1 div.sk-label input.sk-toggleable__control:checked~label.sk-toggleable__label {\n",
       "  color: var(--sklearn-color-text);\n",
       "  background-color: var(--sklearn-color-unfitted-level-2);\n",
       "}\n",
       "\n",
       "#sk-container-id-1 div.sk-label.fitted input.sk-toggleable__control:checked~label.sk-toggleable__label {\n",
       "  background-color: var(--sklearn-color-fitted-level-2);\n",
       "}\n",
       "\n",
       "/* Estimator-specific style */\n",
       "\n",
       "/* Colorize estimator box */\n",
       "#sk-container-id-1 div.sk-estimator input.sk-toggleable__control:checked~label.sk-toggleable__label {\n",
       "  /* unfitted */\n",
       "  background-color: var(--sklearn-color-unfitted-level-2);\n",
       "}\n",
       "\n",
       "#sk-container-id-1 div.sk-estimator.fitted input.sk-toggleable__control:checked~label.sk-toggleable__label {\n",
       "  /* fitted */\n",
       "  background-color: var(--sklearn-color-fitted-level-2);\n",
       "}\n",
       "\n",
       "#sk-container-id-1 div.sk-label label.sk-toggleable__label,\n",
       "#sk-container-id-1 div.sk-label label {\n",
       "  /* The background is the default theme color */\n",
       "  color: var(--sklearn-color-text-on-default-background);\n",
       "}\n",
       "\n",
       "/* On hover, darken the color of the background */\n",
       "#sk-container-id-1 div.sk-label:hover label.sk-toggleable__label {\n",
       "  color: var(--sklearn-color-text);\n",
       "  background-color: var(--sklearn-color-unfitted-level-2);\n",
       "}\n",
       "\n",
       "/* Label box, darken color on hover, fitted */\n",
       "#sk-container-id-1 div.sk-label.fitted:hover label.sk-toggleable__label.fitted {\n",
       "  color: var(--sklearn-color-text);\n",
       "  background-color: var(--sklearn-color-fitted-level-2);\n",
       "}\n",
       "\n",
       "/* Estimator label */\n",
       "\n",
       "#sk-container-id-1 div.sk-label label {\n",
       "  font-family: monospace;\n",
       "  font-weight: bold;\n",
       "  display: inline-block;\n",
       "  line-height: 1.2em;\n",
       "}\n",
       "\n",
       "#sk-container-id-1 div.sk-label-container {\n",
       "  text-align: center;\n",
       "}\n",
       "\n",
       "/* Estimator-specific */\n",
       "#sk-container-id-1 div.sk-estimator {\n",
       "  font-family: monospace;\n",
       "  border: 1px dotted var(--sklearn-color-border-box);\n",
       "  border-radius: 0.25em;\n",
       "  box-sizing: border-box;\n",
       "  margin-bottom: 0.5em;\n",
       "  /* unfitted */\n",
       "  background-color: var(--sklearn-color-unfitted-level-0);\n",
       "}\n",
       "\n",
       "#sk-container-id-1 div.sk-estimator.fitted {\n",
       "  /* fitted */\n",
       "  background-color: var(--sklearn-color-fitted-level-0);\n",
       "}\n",
       "\n",
       "/* on hover */\n",
       "#sk-container-id-1 div.sk-estimator:hover {\n",
       "  /* unfitted */\n",
       "  background-color: var(--sklearn-color-unfitted-level-2);\n",
       "}\n",
       "\n",
       "#sk-container-id-1 div.sk-estimator.fitted:hover {\n",
       "  /* fitted */\n",
       "  background-color: var(--sklearn-color-fitted-level-2);\n",
       "}\n",
       "\n",
       "/* Specification for estimator info (e.g. \"i\" and \"?\") */\n",
       "\n",
       "/* Common style for \"i\" and \"?\" */\n",
       "\n",
       ".sk-estimator-doc-link,\n",
       "a:link.sk-estimator-doc-link,\n",
       "a:visited.sk-estimator-doc-link {\n",
       "  float: right;\n",
       "  font-size: smaller;\n",
       "  line-height: 1em;\n",
       "  font-family: monospace;\n",
       "  background-color: var(--sklearn-color-background);\n",
       "  border-radius: 1em;\n",
       "  height: 1em;\n",
       "  width: 1em;\n",
       "  text-decoration: none !important;\n",
       "  margin-left: 1ex;\n",
       "  /* unfitted */\n",
       "  border: var(--sklearn-color-unfitted-level-1) 1pt solid;\n",
       "  color: var(--sklearn-color-unfitted-level-1);\n",
       "}\n",
       "\n",
       ".sk-estimator-doc-link.fitted,\n",
       "a:link.sk-estimator-doc-link.fitted,\n",
       "a:visited.sk-estimator-doc-link.fitted {\n",
       "  /* fitted */\n",
       "  border: var(--sklearn-color-fitted-level-1) 1pt solid;\n",
       "  color: var(--sklearn-color-fitted-level-1);\n",
       "}\n",
       "\n",
       "/* On hover */\n",
       "div.sk-estimator:hover .sk-estimator-doc-link:hover,\n",
       ".sk-estimator-doc-link:hover,\n",
       "div.sk-label-container:hover .sk-estimator-doc-link:hover,\n",
       ".sk-estimator-doc-link:hover {\n",
       "  /* unfitted */\n",
       "  background-color: var(--sklearn-color-unfitted-level-3);\n",
       "  color: var(--sklearn-color-background);\n",
       "  text-decoration: none;\n",
       "}\n",
       "\n",
       "div.sk-estimator.fitted:hover .sk-estimator-doc-link.fitted:hover,\n",
       ".sk-estimator-doc-link.fitted:hover,\n",
       "div.sk-label-container:hover .sk-estimator-doc-link.fitted:hover,\n",
       ".sk-estimator-doc-link.fitted:hover {\n",
       "  /* fitted */\n",
       "  background-color: var(--sklearn-color-fitted-level-3);\n",
       "  color: var(--sklearn-color-background);\n",
       "  text-decoration: none;\n",
       "}\n",
       "\n",
       "/* Span, style for the box shown on hovering the info icon */\n",
       ".sk-estimator-doc-link span {\n",
       "  display: none;\n",
       "  z-index: 9999;\n",
       "  position: relative;\n",
       "  font-weight: normal;\n",
       "  right: .2ex;\n",
       "  padding: .5ex;\n",
       "  margin: .5ex;\n",
       "  width: min-content;\n",
       "  min-width: 20ex;\n",
       "  max-width: 50ex;\n",
       "  color: var(--sklearn-color-text);\n",
       "  box-shadow: 2pt 2pt 4pt #999;\n",
       "  /* unfitted */\n",
       "  background: var(--sklearn-color-unfitted-level-0);\n",
       "  border: .5pt solid var(--sklearn-color-unfitted-level-3);\n",
       "}\n",
       "\n",
       ".sk-estimator-doc-link.fitted span {\n",
       "  /* fitted */\n",
       "  background: var(--sklearn-color-fitted-level-0);\n",
       "  border: var(--sklearn-color-fitted-level-3);\n",
       "}\n",
       "\n",
       ".sk-estimator-doc-link:hover span {\n",
       "  display: block;\n",
       "}\n",
       "\n",
       "/* \"?\"-specific style due to the `<a>` HTML tag */\n",
       "\n",
       "#sk-container-id-1 a.estimator_doc_link {\n",
       "  float: right;\n",
       "  font-size: 1rem;\n",
       "  line-height: 1em;\n",
       "  font-family: monospace;\n",
       "  background-color: var(--sklearn-color-background);\n",
       "  border-radius: 1rem;\n",
       "  height: 1rem;\n",
       "  width: 1rem;\n",
       "  text-decoration: none;\n",
       "  /* unfitted */\n",
       "  color: var(--sklearn-color-unfitted-level-1);\n",
       "  border: var(--sklearn-color-unfitted-level-1) 1pt solid;\n",
       "}\n",
       "\n",
       "#sk-container-id-1 a.estimator_doc_link.fitted {\n",
       "  /* fitted */\n",
       "  border: var(--sklearn-color-fitted-level-1) 1pt solid;\n",
       "  color: var(--sklearn-color-fitted-level-1);\n",
       "}\n",
       "\n",
       "/* On hover */\n",
       "#sk-container-id-1 a.estimator_doc_link:hover {\n",
       "  /* unfitted */\n",
       "  background-color: var(--sklearn-color-unfitted-level-3);\n",
       "  color: var(--sklearn-color-background);\n",
       "  text-decoration: none;\n",
       "}\n",
       "\n",
       "#sk-container-id-1 a.estimator_doc_link.fitted:hover {\n",
       "  /* fitted */\n",
       "  background-color: var(--sklearn-color-fitted-level-3);\n",
       "}\n",
       "</style><div id=\"sk-container-id-1\" class=\"sk-top-container\"><div class=\"sk-text-repr-fallback\"><pre>Pipeline(steps=[(&#x27;kneighborsclassifier&#x27;,\n",
       "                 KNeighborsClassifier(n_neighbors=21, weights=&#x27;distance&#x27;))])</pre><b>In a Jupyter environment, please rerun this cell to show the HTML representation or trust the notebook. <br />On GitHub, the HTML representation is unable to render, please try loading this page with nbviewer.org.</b></div><div class=\"sk-container\" hidden><div class=\"sk-item sk-dashed-wrapped\"><div class=\"sk-label-container\"><div class=\"sk-label fitted sk-toggleable\"><input class=\"sk-toggleable__control sk-hidden--visually\" id=\"sk-estimator-id-1\" type=\"checkbox\" ><label for=\"sk-estimator-id-1\" class=\"sk-toggleable__label fitted sk-toggleable__label-arrow fitted\">&nbsp;&nbsp;Pipeline<a class=\"sk-estimator-doc-link fitted\" rel=\"noreferrer\" target=\"_blank\" href=\"https://scikit-learn.org/1.4/modules/generated/sklearn.pipeline.Pipeline.html\">?<span>Documentation for Pipeline</span></a><span class=\"sk-estimator-doc-link fitted\">i<span>Fitted</span></span></label><div class=\"sk-toggleable__content fitted\"><pre>Pipeline(steps=[(&#x27;kneighborsclassifier&#x27;,\n",
       "                 KNeighborsClassifier(n_neighbors=21, weights=&#x27;distance&#x27;))])</pre></div> </div></div><div class=\"sk-serial\"><div class=\"sk-item\"><div class=\"sk-estimator fitted sk-toggleable\"><input class=\"sk-toggleable__control sk-hidden--visually\" id=\"sk-estimator-id-2\" type=\"checkbox\" ><label for=\"sk-estimator-id-2\" class=\"sk-toggleable__label fitted sk-toggleable__label-arrow fitted\">&nbsp;KNeighborsClassifier<a class=\"sk-estimator-doc-link fitted\" rel=\"noreferrer\" target=\"_blank\" href=\"https://scikit-learn.org/1.4/modules/generated/sklearn.neighbors.KNeighborsClassifier.html\">?<span>Documentation for KNeighborsClassifier</span></a></label><div class=\"sk-toggleable__content fitted\"><pre>KNeighborsClassifier(n_neighbors=21, weights=&#x27;distance&#x27;)</pre></div> </div></div></div></div></div></div>"
      ],
      "text/plain": [
       "Pipeline(steps=[('kneighborsclassifier',\n",
       "                 KNeighborsClassifier(n_neighbors=21, weights='distance'))])"
      ]
     },
     "execution_count": 18,
     "metadata": {},
     "output_type": "execute_result"
    }
   ],
   "source": [
    "tpot.fitted_pipeline_"
   ]
  },
  {
   "cell_type": "code",
   "execution_count": 19,
   "id": "93fc41b5-8466-4458-a207-ab24bd001af8",
   "metadata": {},
   "outputs": [
    {
     "name": "stdout",
     "output_type": "stream",
     "text": [
      "2025-04-18 22:32:05,366 - Topological features operation requires extra dependencies for time series forecasting, which are not installed. It can infuence the performance. Please install it by 'pip install fedot[extra]'\n",
      "2025-04-18 22:33:21,835 - ApiComposer - Initial pipeline was fitted in 76.4 sec.\n",
      "2025-04-18 22:33:21,856 - ApiComposer - Taking into account n_folds=5, estimated fit time for initial assumption is 382.2 sec.\n",
      "2025-04-18 22:33:21,871 - ApiComposer - AutoML configured. Parameters tuning: True. Time limit: 2 min. Set of candidate models: [].\n",
      "2025-04-18 22:33:21,966 - ApiComposer - Timeout is too small for composing and is skipped because fit_time is 382.216635 sec.\n",
      "2025-04-18 22:33:22,583 - ApiComposer - Hyperparameters tuning started with 1 min. timeout\n",
      "2025-04-18 22:39:50,047 - SimultaneousTuner - Initial graph: {'depth': 3, 'length': 5, 'nodes': [logit, catboost, scaling, xgboost, lgbm]}\n",
      "logit - {}\n",
      "catboost - {'n_jobs': 12, 'num_trees': 3000, 'learning_rate': 0.03, 'l2_leaf_reg': 0.01, 'bootstrap_type': 'Bernoulli', 'grow_policy': 'SymmetricTree', 'max_depth': 5, 'min_data_in_leaf': 1, 'one_hot_max_size': 10, 'fold_permutation_block': 1, 'boosting_type': 'Plain', 'od_type': 'Iter', 'od_wait': 100, 'max_bin': 32, 'feature_border_type': 'GreedyLogSum', 'nan_mode': 'Min', 'verbose': False, 'allow_writing_files': False, 'use_eval_set': True, 'use_best_model': True, 'enable_categorical': True}\n",
      "scaling - {}\n",
      "xgboost - {'n_jobs': 12, 'verbosity': 0, 'booster': 'gbtree', 'tree_method': 'auto', 'enable_categorical': True, 'use_eval_set': True, 'early_stopping_rounds': 30}\n",
      "lgbm - {'boosting_type': 'gbdt', 'max_depth': -1, 'bagging_fraction': 0.85, 'extra_trees': False, 'enable_categorical': True, 'use_eval_set': True, 'early_stopping_rounds': 30, 'n_jobs': 12, 'verbose': -1} \n",
      "Initial metric: [0.997]\n",
      "2025-04-18 22:39:50,055 - SimultaneousTuner - Tunner stopped after initial assumption due to the lack of time\n",
      "2025-04-18 22:46:24,559 - SimultaneousTuner - Final graph: {'depth': 3, 'length': 5, 'nodes': [logit, catboost, scaling, xgboost, lgbm]}\n",
      "logit - {}\n",
      "catboost - {'n_jobs': 12, 'num_trees': 3000, 'learning_rate': 0.03, 'l2_leaf_reg': 0.01, 'bootstrap_type': 'Bernoulli', 'grow_policy': 'SymmetricTree', 'max_depth': 5, 'min_data_in_leaf': 1, 'one_hot_max_size': 10, 'fold_permutation_block': 1, 'boosting_type': 'Plain', 'od_type': 'Iter', 'od_wait': 100, 'max_bin': 32, 'feature_border_type': 'GreedyLogSum', 'nan_mode': 'Min', 'verbose': False, 'allow_writing_files': False, 'use_eval_set': True, 'use_best_model': True, 'enable_categorical': True}\n",
      "scaling - {}\n",
      "xgboost - {'n_jobs': 12, 'verbosity': 0, 'booster': 'gbtree', 'tree_method': 'auto', 'enable_categorical': True, 'use_eval_set': True, 'early_stopping_rounds': 30}\n",
      "lgbm - {'boosting_type': 'gbdt', 'max_depth': -1, 'bagging_fraction': 0.85, 'extra_trees': False, 'enable_categorical': True, 'use_eval_set': True, 'early_stopping_rounds': 30, 'n_jobs': 12, 'verbose': -1}\n",
      "2025-04-18 22:46:24,568 - SimultaneousTuner - Final metric: 0.997\n",
      "2025-04-18 22:46:24,574 - ApiComposer - Hyperparameters tuning finished\n",
      "2025-04-18 22:46:24,796 - ApiComposer - Model generation finished\n",
      "2025-04-18 22:48:04,985 - FEDOT logger - Final pipeline was fitted\n",
      "2025-04-18 22:48:04,994 - FEDOT logger - Final pipeline: {'depth': 3, 'length': 5, 'nodes': [logit, catboost, scaling, xgboost, lgbm]}\n",
      "logit - {}\n",
      "catboost - {'n_jobs': 12, 'num_trees': 3000, 'learning_rate': 0.03, 'l2_leaf_reg': 0.01, 'bootstrap_type': 'Bernoulli', 'grow_policy': 'SymmetricTree', 'max_depth': 5, 'min_data_in_leaf': 1, 'one_hot_max_size': 10, 'fold_permutation_block': 1, 'boosting_type': 'Plain', 'od_type': 'Iter', 'od_wait': 100, 'max_bin': 32, 'feature_border_type': 'GreedyLogSum', 'nan_mode': 'Min', 'verbose': False, 'allow_writing_files': False, 'use_eval_set': True, 'use_best_model': True, 'enable_categorical': True}\n",
      "scaling - {}\n",
      "xgboost - {'n_jobs': 12, 'verbosity': 0, 'booster': 'gbtree', 'tree_method': 'auto', 'enable_categorical': True, 'use_eval_set': True, 'early_stopping_rounds': 30}\n",
      "lgbm - {'boosting_type': 'gbdt', 'max_depth': -1, 'bagging_fraction': 0.85, 'extra_trees': False, 'enable_categorical': True, 'use_eval_set': True, 'early_stopping_rounds': 30, 'n_jobs': 12, 'verbose': -1}\n",
      "\n",
      "FEDOT Results:\n",
      "              precision    recall  f1-score   support\n",
      "\n",
      "           N       0.99      1.00      1.00     15007\n",
      "           L       1.00      0.99      0.99      1615\n",
      "           R       1.00      0.99      0.99      1451\n",
      "           V       0.99      0.98      0.98      1426\n",
      "           A       0.96      0.86      0.91       509\n",
      "\n",
      "    accuracy                           0.99     20008\n",
      "   macro avg       0.99      0.96      0.97     20008\n",
      "weighted avg       0.99      0.99      0.99     20008\n",
      "\n"
     ]
    }
   ],
   "source": [
    "from fedot.api.main import Fedot\n",
    "from fedot.core.repository.tasks import Task, TaskTypesEnum\n",
    "\n",
    "from sklearn.preprocessing import StandardScaler\n",
    "\n",
    "\n",
    "# Предварительное масштабирование\n",
    "scaler = StandardScaler()\n",
    "X_train_scaled = scaler.fit_transform(X_train)\n",
    "X_test_scaled = scaler.transform(X_test)\n",
    "\n",
    "\n",
    "# Настройка задачи\n",
    "task = Task(TaskTypesEnum.classification)\n",
    "\n",
    "# Инициализация FEDOT\n",
    "fedot_model = Fedot(\n",
    "    problem='classification',\n",
    "    metric='roc_auc',\n",
    "    timeout=2,  # минут\n",
    "    n_jobs=-1,\n",
    "    preset='light',\n",
    ")\n",
    "\n",
    "# Обучение\n",
    "fedot_model.fit(\n",
    "    features=X_train_scaled, target=y_train\n",
    ")\n",
    "\n",
    "# Предсказание\n",
    "y_pred_fedot = fedot_model.predict(features=X_test_scaled)\n",
    "\n",
    "# Оценка\n",
    "print(\"\\nFEDOT Results:\")\n",
    "print(classification_report(y_test, y_pred_fedot, target_names=main_classes))"
   ]
  },
  {
   "cell_type": "code",
   "execution_count": null,
   "id": "df61a0e2-c4bf-404c-b373-f65c0ee8126b",
   "metadata": {},
   "outputs": [],
   "source": []
  },
  {
   "cell_type": "code",
   "execution_count": null,
   "id": "3c4e0657-3c5f-4a40-8a9f-a290413dac1f",
   "metadata": {},
   "outputs": [],
   "source": []
  },
  {
   "cell_type": "code",
   "execution_count": null,
   "id": "846e6d31-70ec-41fa-ba33-30109c9585b3",
   "metadata": {},
   "outputs": [],
   "source": []
  },
  {
   "cell_type": "markdown",
   "id": "c701284c-7922-4ad1-a08e-a99b1328cea0",
   "metadata": {},
   "source": [
    "#### MLFlow"
   ]
  },
  {
   "cell_type": "code",
   "execution_count": 36,
   "id": "2a39790b-c3e5-4dd2-ab4a-b50fbd009b89",
   "metadata": {},
   "outputs": [
    {
     "name": "stderr",
     "output_type": "stream",
     "text": [
      "/Users/vladimir/miniconda3/envs/py39_jupyter/lib/python3.9/site-packages/mlflow/pyfunc/utils/data_validation.py:186: UserWarning: \u001b[33mAdd type hints to the `predict` method to enable data validation and automatic signature inference during model logging. Check https://mlflow.org/docs/latest/model/python_model.html#type-hint-usage-in-pythonmodel for more details.\u001b[0m\n",
      "  color_warning(\n"
     ]
    },
    {
     "data": {
      "text/plain": [
       "<Experiment: artifact_location='/Users/vladimir/Desktop/University/ppa/labs/artifacts/3', creation_time=1744904699558, experiment_id='3', last_update_time=1744904699558, lifecycle_stage='active', name='ppa_lab', tags={}>"
      ]
     },
     "execution_count": 36,
     "metadata": {},
     "output_type": "execute_result"
    }
   ],
   "source": [
    "import mlflow\n",
    "from mlflow.pyfunc import PythonModel\n",
    "\n",
    "class LightAutoMLWrapper(PythonModel):\n",
    "    def __init__(self, automl):\n",
    "        self.automl = automl\n",
    "        \n",
    "    def predict(self, context, model_input):\n",
    "        predictions = self.automl.predict(model_input).data\n",
    "        \n",
    "        # Convert NumpyDataset to JSON-serializable format\n",
    "        return np.argmax(predictions, axis=1) #.tolist() #predictions.data[:, 0]\n",
    "\n",
    "mlflow.set_tracking_uri(\"http://localhost:5000\")\n",
    "mlflow.set_experiment(\"ppa_lab\")"
   ]
  },
  {
   "cell_type": "code",
   "execution_count": 37,
   "id": "fb1070de-759b-468a-9498-b19622da9fa1",
   "metadata": {},
   "outputs": [
    {
     "name": "stderr",
     "output_type": "stream",
     "text": [
      "\u001b[31m2025/04/19 00:12:01 WARNING mlflow.models.model: Model logged without a signature and input example. Please set `input_example` parameter when logging the model to auto infer the model signature.\u001b[0m\n"
     ]
    },
    {
     "name": "stdout",
     "output_type": "stream",
     "text": [
      "🏃 View run lr6 at: http://localhost:5000/#/experiments/3/runs/d3121b2abb66498b8630e0f123abd550\n",
      "🧪 View experiment at: http://localhost:5000/#/experiments/3\n"
     ]
    }
   ],
   "source": [
    "lab = 'lr6'\n",
    "# Save to MLflow\n",
    "with mlflow.start_run(run_name=lab):\n",
    "    wrapped_model = LightAutoMLWrapper(automl)\n",
    "\n",
    "    mlflow.pyfunc.log_model(\n",
    "        artifact_path=lab,\n",
    "        python_model=wrapped_model,\n",
    "    )"
   ]
  },
  {
   "cell_type": "code",
   "execution_count": 38,
   "id": "60f3d47b-5d70-4cf5-a1b9-c18963c9b25e",
   "metadata": {},
   "outputs": [],
   "source": [
    "# проверка корректности выгрузки модели из mlflow\n",
    "run_id = 'd3121b2abb66498b8630e0f123abd550'\n",
    "loaded_model = mlflow.pyfunc.load_model(f\"runs:/{run_id}/{lab}\")\n",
    "predictions_mlflow = loaded_model.predict(test_data)"
   ]
  },
  {
   "cell_type": "code",
   "execution_count": 43,
   "id": "e7f9ca23-c475-4d18-80b8-626e6e27f9a0",
   "metadata": {},
   "outputs": [
    {
     "data": {
      "application/vnd.jupyter.widget-view+json": {
       "model_id": "1e303e38b4c24806b14f78631b994530",
       "version_major": 2,
       "version_minor": 0
      },
      "text/plain": [
       "Downloading artifacts:   0%|          | 0/5 [00:00<?, ?it/s]"
      ]
     },
     "metadata": {},
     "output_type": "display_data"
    },
    {
     "data": {
      "text/plain": [
       "'/Users/vladimir/Desktop/University/ppa/labs/downloaded_model/lr6'"
      ]
     },
     "execution_count": 43,
     "metadata": {},
     "output_type": "execute_result"
    }
   ],
   "source": [
    "# сохранение артефактов локально\n",
    "mlflow.artifacts.download_artifacts(\n",
    "    run_id=run_id,\n",
    "    artifact_path=lab, \n",
    "    dst_path=\"./downloaded_model\"\n",
    ")"
   ]
  },
  {
   "cell_type": "code",
   "execution_count": 44,
   "id": "285012d9-00f5-4451-9f6b-e604dcc9e68e",
   "metadata": {},
   "outputs": [
    {
     "name": "stdout",
     "output_type": "stream",
     "text": [
      "\n"
     ]
    }
   ],
   "source": [
    "# !mlflow models serve -m \"./downloaded_model/lr6\" --port 1234 --no-conda\n",
    "# проверка сервиса\n",
    "!curl http://localhost:1234/ping"
   ]
  },
  {
   "cell_type": "code",
   "execution_count": 45,
   "id": "5e33db16-0f83-44ed-8ded-3b1629b26d5f",
   "metadata": {},
   "outputs": [],
   "source": [
    "\n",
    "import requests\n",
    "\n",
    "# отправка post запроса к развернутому сервису\n",
    "response = requests.post(\n",
    "    \"http://localhost:1234/invocations\",\n",
    "    json={\"dataframe_records\": test_data.to_dict(orient=\"records\")}\n",
    ")\n"
   ]
  },
  {
   "cell_type": "code",
   "execution_count": 46,
   "id": "3f8965db-9adc-4807-a0f5-7ea498da6710",
   "metadata": {},
   "outputs": [],
   "source": [
    "predictions_mlflow_server = response.json()['predictions']"
   ]
  },
  {
   "cell_type": "code",
   "execution_count": 41,
   "id": "05e2bfdd-e4a4-454a-8cbc-b183b81879ec",
   "metadata": {},
   "outputs": [],
   "source": [
    "test_predict = automl.predict(test_data).data#.flatten()\n",
    "test_predict = np.argmax(test_predict, axis=1)"
   ]
  },
  {
   "cell_type": "code",
   "execution_count": 42,
   "id": "197bbbd1-f884-46b7-9573-3b3776352839",
   "metadata": {},
   "outputs": [
    {
     "data": {
      "text/plain": [
       "True"
      ]
     },
     "execution_count": 42,
     "metadata": {},
     "output_type": "execute_result"
    }
   ],
   "source": [
    "np.allclose(predictions_mlflow, test_predict)"
   ]
  },
  {
   "cell_type": "code",
   "execution_count": 47,
   "id": "52c0dfd1-f096-4a26-80a2-a4483748a40f",
   "metadata": {},
   "outputs": [
    {
     "data": {
      "text/plain": [
       "True"
      ]
     },
     "execution_count": 47,
     "metadata": {},
     "output_type": "execute_result"
    }
   ],
   "source": [
    "np.allclose(predictions_mlflow_server, test_predict)"
   ]
  },
  {
   "cell_type": "markdown",
   "id": "7c8eba74-6a20-4646-921d-84be031308c7",
   "metadata": {},
   "source": [
    "Сохранение модели в mlflow и ее развертывание с помощью mlflow server прошло корректно, резульаты работы модели совпадают с исходными"
   ]
  },
  {
   "cell_type": "code",
   "execution_count": null,
   "id": "c1cb2551-5196-4f67-923b-87d94d7b640e",
   "metadata": {},
   "outputs": [],
   "source": []
  }
 ],
 "metadata": {
  "kernelspec": {
   "display_name": "Python 3 (ipykernel)",
   "language": "python",
   "name": "python3"
  },
  "language_info": {
   "codemirror_mode": {
    "name": "ipython",
    "version": 3
   },
   "file_extension": ".py",
   "mimetype": "text/x-python",
   "name": "python",
   "nbconvert_exporter": "python",
   "pygments_lexer": "ipython3",
   "version": "3.9.18"
  }
 },
 "nbformat": 4,
 "nbformat_minor": 5
}
