{
 "cells": [
  {
   "cell_type": "code",
   "execution_count": 1,
   "id": "6906fa8e-aab2-4ed7-90c0-9affd0fb83e3",
   "metadata": {},
   "outputs": [],
   "source": [
    "# https://physionet.org/content/chbmit/1.0.0/chb08/"
   ]
  },
  {
   "cell_type": "code",
   "execution_count": 2,
   "id": "682e91d5-05b0-411c-b708-23560649b317",
   "metadata": {},
   "outputs": [],
   "source": [
    "# Исходные данные\n",
    "seizure_files = {\n",
    "    'plus/chb08_02.edf': (2670, 2841),\n",
    "    'plus/chb08_05.edf': (2856, 3046),\n",
    "    'plus/chb08_11.edf': (2988, 3122),\n",
    "    'plus/chb08_13.edf': (2417, 2577),\n",
    "    'plus/chb08_21.edf': (2083, 2347),\n",
    "\n",
    "    'plus/chb01_03.edf': (2996, 3036),\n",
    "    # 'plus/chb01_04.edf': (1467, 1494), 27s\n",
    "    'plus/chb01_15.edf': (1732, 1772),\n",
    "    'plus/chb01_16.edf': (1015, 1066),\n",
    "    'plus/chb01_18.edf': (1720, 1810),\n",
    "\n",
    "    'plus/chb02_16.edf': (2972, 3053),\n",
    "    # 'plus/chb02_19.edf': (3369, 3378), 9s\n",
    "\n",
    "\n",
    "    'plus/chb03_01.edf': (362, 414),\n",
    "    'plus/chb03_02.edf': (731, 796),\n",
    "    'plus/chb03_03.edf': (432, 501),\n",
    "    'plus/chb03_04.edf': (2162, 2214),\n",
    "    \n",
    "    'plus/chb03_34.edf': (1982, 2029),\n",
    "    'plus/chb03_35.edf': (2592, 2656),\n",
    "    'plus/chb03_36.edf': (1725, 1778),\n",
    "\n",
    "    'plus/chb05_06.edf': (417, 532),\n",
    "    'plus/chb05_16.edf': (2317, 2413),\n",
    "    'plus/chb05_17.edf': (2451, 2571),    \n",
    "    'plus/chb05_22.edf': (2348, 2465),\n",
    "\n",
    "    # 'plus/chb05_17.edf': (2451, 2571),\n",
    "    # 'plus/chb05_17.edf': (2451, 2571),\n",
    "    \n",
    "}\n",
    "\n",
    "\n",
    "\n",
    "\n",
    "clear_files = {\n",
    "    'minus/chb08_03.edf': False,\n",
    "    'minus/chb08_04.edf': False,\n",
    "    'minus/chb08_10.edf': False,\n",
    "    'minus/chb08_16.edf': False,\n",
    "    'minus/chb08_17.edf': False,\n",
    "\n",
    "    'minus/chb02_01.edf': False,\n",
    "    'minus/chb02_02.edf': False,\n",
    "    'minus/chb02_03.edf': False,\n",
    "    \n",
    "    'minus/chb03_07.edf': False,\n",
    "    'minus/chb03_09.edf': False,\n",
    "    'minus/chb03_30.edf': False,\n",
    "\n",
    "    'minus/chb04_05.edf': False,\n",
    "\n",
    "    \n",
    "    # 'minus/chb04_01.edf': False,\n",
    "    # 'minus/chb04_02.edf': False,\n",
    "    # 'minus/chb04_02.edf': False,\n",
    "    \n",
    "    # 'minus/chb05_03.edf': False,\n",
    "    # 'minus/chb05_07.edf': False,\n",
    "    \n",
    "    # 'minus/chb06_09.edf': False,\n",
    "    # 'minus/chb06_09.edf': False,\n",
    "\n",
    "    # 'minus/chb07_09.edf': False,\n",
    "    # 'minus/chb07_09.edf': False,\n",
    "\n",
    "}\n"
   ]
  },
  {
   "cell_type": "code",
   "execution_count": 3,
   "id": "b9d4bde1-025a-41b5-be4b-6acd9be1d515",
   "metadata": {},
   "outputs": [
    {
     "data": {
      "text/plain": [
       "{'plus/chb08_02.edf': 171,\n",
       " 'plus/chb08_05.edf': 190,\n",
       " 'plus/chb08_11.edf': 134,\n",
       " 'plus/chb08_13.edf': 160,\n",
       " 'plus/chb08_21.edf': 264,\n",
       " 'plus/chb01_03.edf': 40,\n",
       " 'plus/chb01_15.edf': 40,\n",
       " 'plus/chb01_16.edf': 51,\n",
       " 'plus/chb01_18.edf': 90,\n",
       " 'plus/chb02_16.edf': 81,\n",
       " 'plus/chb03_01.edf': 52,\n",
       " 'plus/chb03_02.edf': 65,\n",
       " 'plus/chb03_03.edf': 69,\n",
       " 'plus/chb03_04.edf': 52,\n",
       " 'plus/chb03_34.edf': 47,\n",
       " 'plus/chb03_35.edf': 64,\n",
       " 'plus/chb03_36.edf': 53,\n",
       " 'plus/chb05_06.edf': 115,\n",
       " 'plus/chb05_16.edf': 96,\n",
       " 'plus/chb05_17.edf': 120,\n",
       " 'plus/chb05_22.edf': 117}"
      ]
     },
     "execution_count": 3,
     "metadata": {},
     "output_type": "execute_result"
    }
   ],
   "source": [
    "{k: v[1] - v[0] for k,v in seizure_files.items()}"
   ]
  },
  {
   "attachments": {},
   "cell_type": "markdown",
   "id": "c1009636-099b-4079-8929-13b57b3a647e",
   "metadata": {},
   "source": [
    "# Задание 5\n",
    "## 1.\tСделайте скрипт для формирования обучающей выборки из базы данных ЭЭГ с указанными приступами"
   ]
  },
  {
   "cell_type": "code",
   "execution_count": 4,
   "id": "b88d434a-0b1a-4a74-8c81-f9561c874cd5",
   "metadata": {},
   "outputs": [],
   "source": [
    "\n",
    "import os\n",
    "import numpy as np\n",
    "import pandas as pd\n",
    "import matplotlib.pyplot as plt\n",
    "from glob import glob\n",
    "import pywt\n",
    "from scipy import signal\n",
    "from sklearn.model_selection import train_test_split\n",
    "from tensorflow.keras.models import Sequential\n",
    "from tensorflow.keras.layers import Conv2D, MaxPooling2D, Flatten, Dense, Dropout, BatchNormalization, GlobalAveragePooling2D\n",
    "from tensorflow.keras.preprocessing.image import ImageDataGenerator\n",
    "from tensorflow.keras.utils import to_categorical\n",
    "import tensorflow as tf\n",
    "from PIL import Image\n",
    "import random\n",
    "\n",
    "from sklearn.metrics import confusion_matrix, f1_score, classification_report, roc_auc_score\n",
    "\n",
    "\n",
    "\n",
    "from tensorflow.keras.optimizers import Adam\n",
    "from tensorflow.keras.callbacks import EarlyStopping, ReduceLROnPlateau\n",
    "from tensorflow.keras.regularizers import l2\n",
    "\n",
    "from tqdm import tqdm\n",
    "\n",
    "\n",
    "import pyedflib\n",
    "\n",
    "from scipy.signal import spectrogram\n",
    "\n",
    "import warnings\n",
    "warnings.filterwarnings('ignore')\n",
    "\n",
    "np.random.seed(42)"
   ]
  },
  {
   "cell_type": "code",
   "execution_count": 5,
   "id": "4665d43d-f947-47e7-9107-f2ed668d2c43",
   "metadata": {},
   "outputs": [],
   "source": [
    "def generate_segments(file, interval, duration=60, num_segments=10, margin=10):\n",
    "    \"\"\"\n",
    "    Генерирует временные сегменты для файла с возможностью выхода за границы на margin секунд\n",
    "    \n",
    "    Args:\n",
    "        duration (int): Длительность каждого сегмента в секундах\n",
    "        num_segments (int): Количество сегментов для каждого файла\n",
    "        margin (int): На сколько секунд можно выйти за границы интервала\n",
    "        \n",
    "    Returns:\n",
    "        list: Список с сгенерированными сегментами для каждого файла\n",
    "    \"\"\"\n",
    "    generated_segments = []\n",
    "    \n",
    "    \n",
    "        \n",
    "    start, end = interval\n",
    "        # Расширяем границы на margin секунд\n",
    "    extended_start = start - margin if start > margin else start\n",
    "    extended_end = end + margin\n",
    "\n",
    "    # Проверяем, что интервал достаточно большой\n",
    "    if (end - start) + 2 * margin < duration:\n",
    "        print(f\"⚠️ {file}: интервал слишком мал даже с учетом margin ({(end - start) + 2 * margin} < {duration})\")\n",
    "        return generated_segments\n",
    "        \n",
    "    for _ in range(num_segments):\n",
    "        # Генерируем начальную точку с учетом margin\n",
    "        # start_seg может быть от (extended_start) до (extended_end - duration)\n",
    "        start_seg = random.randint(extended_start, extended_end - duration)\n",
    "        end_seg = start_seg + duration\n",
    "        \n",
    "        generated_segments.append((start_seg, end_seg))\n",
    "    \n",
    "    return generated_segments\n"
   ]
  },
  {
   "cell_type": "markdown",
   "id": "38a65ce5-1042-45c2-a60d-d1f6ee1c48e9",
   "metadata": {},
   "source": [
    "## 2.\tСформируйте не менее 50 записей с приступами и не менее 50 записей ЭЭГ без приступов. Записи нужно «обрезать» по времени и построить для них вейвлет изображение (можно разбить на диапазоны ритмов мозга, можно не разбивать). В итоге должно быть 100 «картинок».  \n"
   ]
  },
  {
   "cell_type": "code",
   "execution_count": 6,
   "id": "9f730279-202d-4545-b47e-e3b95dc7cebb",
   "metadata": {},
   "outputs": [],
   "source": [
    "def create_wavelet_image(eeg_data, filename, sample_rate=256):\n",
    "    \"\"\"\n",
    "    Создает вейвлет-изображение для временного ряда ЭЭГ\n",
    "    \"\"\"\n",
    "    # Вычисляем вейвлет-преобразование\n",
    "    scales = np.arange(1, 128)\n",
    "    coefficients, frequencies = pywt.cwt(eeg_data, scales, 'morl', sampling_period=1.0/sample_rate)\n",
    "    \n",
    "    # Нормализуем коэффициенты\n",
    "    power = (abs(coefficients)) ** 2\n",
    "    power = power / np.max(power)\n",
    "    \n",
    "    # Создаем изображение\n",
    "    plt.figure(figsize=(10, 6))\n",
    "    plt.imshow(power, aspect='auto', cmap='jet', \n",
    "               extent=[0, len(eeg_data)/sample_rate, 1, 128])\n",
    "    plt.axis('off')\n",
    "    plt.savefig(filename, bbox_inches='tight', pad_inches=0)\n",
    "    plt.close()\n"
   ]
  },
  {
   "cell_type": "code",
   "execution_count": null,
   "id": "ec09fe94-7514-4e50-9b77-71fb2aae9a31",
   "metadata": {},
   "outputs": [],
   "source": []
  },
  {
   "cell_type": "markdown",
   "id": "e998a22f-579f-4ddd-b221-46a481fa2c25",
   "metadata": {},
   "source": [
    "## 3.\tПолученные изображения сложите в отдельные папки (место хранения выбирайте на свое усмотрение). Папки нужны для того, чтобы разделить изображения для записей с приступом и для записей без приступа. "
   ]
  },
  {
   "cell_type": "code",
   "execution_count": 7,
   "id": "b6321371-6dcf-4d44-8a39-52c09498f7fb",
   "metadata": {},
   "outputs": [],
   "source": [
    "FOLDER = 'EEG2'\n",
    "FOLDER_NON_SEIZURE = f'{FOLDER}/data/non_seizure'\n",
    "FOLDER_SEIZURE = f'{FOLDER}/data/seizure'\n",
    "\n",
    "os.makedirs(FOLDER_SEIZURE, exist_ok=True)\n",
    "os.makedirs(FOLDER_NON_SEIZURE, exist_ok=True)"
   ]
  },
  {
   "cell_type": "code",
   "execution_count": 8,
   "id": "9b1b2465-8d2a-4d7a-956c-d51610ba3a66",
   "metadata": {},
   "outputs": [],
   "source": [
    "def generate_dataet(files_dict, res_folder, margin=0, duration=60, num_segments=10):\n",
    "    i = 0\n",
    "    for file, interval in tqdm(files_dict.items()):\n",
    "        edf_file = pyedflib.EdfReader(f'{FOLDER}/{file}')\n",
    "    \n",
    "        # Получение информации о сигналах\n",
    "        n_channels = edf_file.signals_in_file\n",
    "        channel_names = edf_file.getSignalLabels()\n",
    "        fs = edf_file.getSampleFrequencies()[0]\n",
    "        \n",
    "        # Проверка размерности данных\n",
    "        n_samples = edf_file.getNSamples()[0]\n",
    "        \n",
    "        \n",
    "        # Чтение 1 канала\n",
    "        channel_data = edf_file.readSignal(0)\n",
    "        \n",
    "        # Получение временной оси\n",
    "        time = np.arange(n_samples) / fs\n",
    "    \n",
    "        time_duration = int(n_samples / fs)\n",
    "        # print(f\"Размерность данных: ({n_channels}, {n_samples} | частота: {fs} | время: {time_duration})\")\n",
    "    \n",
    "        if not isinstance(interval, tuple):\n",
    "           interval = (0, time_duration)\n",
    "        segments = generate_segments(file, interval, duration=duration, num_segments=num_segments, margin=margin)\n",
    "    \n",
    "        for start_sec, end_sec in segments:\n",
    "            start_sample = int(start_sec * fs)\n",
    "            end_sample = int(end_sec * fs)\n",
    "            create_wavelet_image(channel_data[start_sample:end_sample], f'{res_folder}/sample_{i}.png', fs)\n",
    "            i+=1"
   ]
  },
  {
   "cell_type": "code",
   "execution_count": 9,
   "id": "de8c8d45-aba1-453f-b478-af461b1a5620",
   "metadata": {},
   "outputs": [
    {
     "name": "stderr",
     "output_type": "stream",
     "text": [
      "100%|████████████████████████████████████████████████████████████████████████████████████████| 12/12 [05:06<00:00, 25.54s/it]\n"
     ]
    }
   ],
   "source": [
    "generate_dataet(clear_files, FOLDER_NON_SEIZURE, margin=0, num_segments=20, duration=60)"
   ]
  },
  {
   "cell_type": "code",
   "execution_count": 10,
   "id": "4888f8fc-c7f2-4b62-9a02-19af31c75b40",
   "metadata": {},
   "outputs": [
    {
     "name": "stderr",
     "output_type": "stream",
     "text": [
      "100%|████████████████████████████████████████████████████████████████████████████████████████| 21/21 [01:47<00:00,  5.13s/it]\n"
     ]
    }
   ],
   "source": [
    "generate_dataet(seizure_files, FOLDER_SEIZURE, margin=15, num_segments=4, duration=60)"
   ]
  },
  {
   "cell_type": "code",
   "execution_count": 11,
   "id": "5a08ae55-e96b-41b7-b5c0-408012efa740",
   "metadata": {},
   "outputs": [
    {
     "name": "stdout",
     "output_type": "stream",
     "text": [
      "Found 260 images belonging to 2 classes.\n",
      "Found 64 images belonging to 2 classes.\n",
      "{'non_seizure': 0, 'seizure': 1}\n"
     ]
    }
   ],
   "source": [
    "\n",
    "train_datagen = ImageDataGenerator(\n",
    "    rescale=1./255,\n",
    "    rotation_range=15,\n",
    "    width_shift_range=0.1,\n",
    "    height_shift_range=0.1,\n",
    "    shear_range=0.1,\n",
    "    zoom_range=0.1,\n",
    "    horizontal_flip=True,\n",
    "    fill_mode='nearest',\n",
    "    validation_split=0.2\n",
    ")\n",
    "\n",
    "\n",
    "train_generator = train_datagen.flow_from_directory(\n",
    "    'EEG2/data',\n",
    "    target_size=(256, 256),\n",
    "    batch_size=16, \n",
    "    class_mode='binary',\n",
    "    subset='training')\n",
    "\n",
    "val_generator = train_datagen.flow_from_directory(\n",
    "    'EEG2/data',\n",
    "    target_size=(256, 256),\n",
    "    batch_size=16,\n",
    "    class_mode='binary',\n",
    "    subset='validation')\n",
    "\n",
    "print(train_generator.class_indices)"
   ]
  },
  {
   "cell_type": "markdown",
   "id": "13e95c79-21dd-4c92-a017-4ca809dca7ed",
   "metadata": {},
   "source": [
    "## 4.\tСпроектируйте сверточную нейронную сеть для обучения классификации ЭЭГ на те данные, которые имеют и не имеют приступ. "
   ]
  },
  {
   "cell_type": "code",
   "execution_count": 13,
   "id": "aee64edb-dd12-416c-99f9-5c88b2d8e8cf",
   "metadata": {},
   "outputs": [],
   "source": [
    "model = Sequential([\n",
    "    Conv2D(32, (3, 3), activation='relu', input_shape=(256, 256, 3), \n",
    "           kernel_regularizer=l2(0.001)),\n",
    "    BatchNormalization(),\n",
    "    MaxPooling2D((2, 2)),\n",
    "    Dropout(0.25),\n",
    "    \n",
    "    Conv2D(64, (3, 3), activation='relu', kernel_regularizer=l2(0.001)),\n",
    "    BatchNormalization(),\n",
    "    MaxPooling2D((2, 2)),\n",
    "    Dropout(0.25),\n",
    "    \n",
    "    Conv2D(128, (3, 3), activation='relu', kernel_regularizer=l2(0.001)),\n",
    "    BatchNormalization(),\n",
    "    MaxPooling2D((2, 2)),\n",
    "    Dropout(0.25),\n",
    "    \n",
    "    Conv2D(256, (3, 3), activation='relu', kernel_regularizer=l2(0.001)),\n",
    "    BatchNormalization(),\n",
    "    MaxPooling2D((2, 2)),\n",
    "    Dropout(0.25),\n",
    "    \n",
    "    Flatten(),\n",
    "    Dense(256, activation='relu', kernel_regularizer=l2(0.001)),\n",
    "    BatchNormalization(),\n",
    "    Dropout(0.5),\n",
    "    Dense(1, activation='sigmoid')\n",
    "])\n",
    "\n",
    "\n",
    "optimizer = Adam(learning_rate=0.0001)\n",
    "\n",
    "\n",
    "model.compile(\n",
    "    optimizer=optimizer,\n",
    "    loss='binary_crossentropy',\n",
    "    metrics=[\n",
    "      'accuracy', \n",
    "       tf.keras.metrics.Precision(),\n",
    "       tf.keras.metrics.Recall(),\n",
    "       tf.keras.metrics.AUC()\n",
    "    ]\n",
    ")"
   ]
  },
  {
   "cell_type": "code",
   "execution_count": 14,
   "id": "89874cfe-5449-4296-b245-7cd1c87c1b83",
   "metadata": {
    "scrolled": true
   },
   "outputs": [
    {
     "name": "stdout",
     "output_type": "stream",
     "text": [
      "Epoch 1/50\n",
      "\u001b[1m16/16\u001b[0m \u001b[32m━━━━━━━━━━━━━━━━━━━━\u001b[0m\u001b[37m\u001b[0m \u001b[1m9s\u001b[0m 496ms/step - accuracy: 0.4887 - auc_1: 0.5375 - loss: 1.9455 - precision_1: 0.2761 - recall_1: 0.6242 - val_accuracy: 0.7500 - val_auc_1: 0.2005 - val_loss: 1.3887 - val_precision_1: 0.0000e+00 - val_recall_1: 0.0000e+00 - learning_rate: 1.0000e-04\n",
      "Epoch 2/50\n",
      "\u001b[1m16/16\u001b[0m \u001b[32m━━━━━━━━━━━━━━━━━━━━\u001b[0m\u001b[37m\u001b[0m \u001b[1m1s\u001b[0m 44ms/step - accuracy: 0.7500 - auc_1: 0.7833 - loss: 1.3809 - precision_1: 0.6250 - recall_1: 0.8333 - val_accuracy: 0.7500 - val_auc_1: 0.2773 - val_loss: 1.3854 - val_precision_1: 0.0000e+00 - val_recall_1: 0.0000e+00 - learning_rate: 1.0000e-04\n",
      "Epoch 3/50\n",
      "\u001b[1m16/16\u001b[0m \u001b[32m━━━━━━━━━━━━━━━━━━━━\u001b[0m\u001b[37m\u001b[0m \u001b[1m7s\u001b[0m 430ms/step - accuracy: 0.6146 - auc_1: 0.6978 - loss: 1.7001 - precision_1: 0.3765 - recall_1: 0.7102 - val_accuracy: 0.7500 - val_auc_1: 0.2982 - val_loss: 1.4004 - val_precision_1: 0.0000e+00 - val_recall_1: 0.0000e+00 - learning_rate: 1.0000e-04\n",
      "Epoch 4/50\n",
      "\u001b[1m16/16\u001b[0m \u001b[32m━━━━━━━━━━━━━━━━━━━━\u001b[0m\u001b[37m\u001b[0m \u001b[1m1s\u001b[0m 41ms/step - accuracy: 0.6875 - auc_1: 0.7083 - loss: 1.4994 - precision_1: 0.4286 - recall_1: 0.7500 - val_accuracy: 0.7500 - val_auc_1: 0.3464 - val_loss: 1.4045 - val_precision_1: 0.0000e+00 - val_recall_1: 0.0000e+00 - learning_rate: 1.0000e-04\n",
      "Epoch 5/50\n",
      "\u001b[1m16/16\u001b[0m \u001b[32m━━━━━━━━━━━━━━━━━━━━\u001b[0m\u001b[37m\u001b[0m \u001b[1m7s\u001b[0m 438ms/step - accuracy: 0.5815 - auc_1: 0.6091 - loss: 1.6230 - precision_1: 0.3584 - recall_1: 0.6356 - val_accuracy: 0.7500 - val_auc_1: 0.5521 - val_loss: 1.5436 - val_precision_1: 0.0000e+00 - val_recall_1: 0.0000e+00 - learning_rate: 1.0000e-04\n",
      "Epoch 6/50\n",
      "\u001b[1m16/16\u001b[0m \u001b[32m━━━━━━━━━━━━━━━━━━━━\u001b[0m\u001b[37m\u001b[0m \u001b[1m1s\u001b[0m 42ms/step - accuracy: 0.5625 - auc_1: 0.4727 - loss: 1.8203 - precision_1: 0.3333 - recall_1: 0.4000 - val_accuracy: 0.7500 - val_auc_1: 0.4583 - val_loss: 1.5563 - val_precision_1: 0.0000e+00 - val_recall_1: 0.0000e+00 - learning_rate: 1.0000e-04\n",
      "Epoch 7/50\n",
      "\u001b[1m16/16\u001b[0m \u001b[32m━━━━━━━━━━━━━━━━━━━━\u001b[0m\u001b[37m\u001b[0m \u001b[1m7s\u001b[0m 432ms/step - accuracy: 0.5793 - auc_1: 0.7547 - loss: 1.5610 - precision_1: 0.3183 - recall_1: 0.7326 - val_accuracy: 0.7500 - val_auc_1: 0.4792 - val_loss: 1.6250 - val_precision_1: 0.0000e+00 - val_recall_1: 0.0000e+00 - learning_rate: 1.0000e-04\n",
      "Epoch 8/50\n",
      "\u001b[1m16/16\u001b[0m \u001b[32m━━━━━━━━━━━━━━━━━━━━\u001b[0m\u001b[37m\u001b[0m \u001b[1m1s\u001b[0m 44ms/step - accuracy: 0.7500 - auc_1: 0.7692 - loss: 1.2661 - precision_1: 0.4000 - recall_1: 0.6667 - val_accuracy: 0.7500 - val_auc_1: 0.5417 - val_loss: 1.6252 - val_precision_1: 0.0000e+00 - val_recall_1: 0.0000e+00 - learning_rate: 2.0000e-05\n",
      "Epoch 9/50\n",
      "\u001b[1m16/16\u001b[0m \u001b[32m━━━━━━━━━━━━━━━━━━━━\u001b[0m\u001b[37m\u001b[0m \u001b[1m7s\u001b[0m 439ms/step - accuracy: 0.6540 - auc_1: 0.7599 - loss: 1.4884 - precision_1: 0.3626 - recall_1: 0.6740 - val_accuracy: 0.7500 - val_auc_1: 0.4681 - val_loss: 1.6852 - val_precision_1: 0.0000e+00 - val_recall_1: 0.0000e+00 - learning_rate: 2.0000e-05\n",
      "Epoch 10/50\n",
      "\u001b[1m16/16\u001b[0m \u001b[32m━━━━━━━━━━━━━━━━━━━━\u001b[0m\u001b[37m\u001b[0m \u001b[1m1s\u001b[0m 42ms/step - accuracy: 0.6250 - auc_1: 0.5893 - loss: 1.6742 - precision_1: 0.1667 - recall_1: 0.5000 - val_accuracy: 0.7500 - val_auc_1: 0.5098 - val_loss: 1.6859 - val_precision_1: 0.0000e+00 - val_recall_1: 0.0000e+00 - learning_rate: 2.0000e-05\n",
      "Epoch 11/50\n",
      "\u001b[1m16/16\u001b[0m \u001b[32m━━━━━━━━━━━━━━━━━━━━\u001b[0m\u001b[37m\u001b[0m \u001b[1m7s\u001b[0m 458ms/step - accuracy: 0.6243 - auc_1: 0.6968 - loss: 1.4645 - precision_1: 0.3632 - recall_1: 0.5729 - val_accuracy: 0.7500 - val_auc_1: 0.5312 - val_loss: 1.8302 - val_precision_1: 0.0000e+00 - val_recall_1: 0.0000e+00 - learning_rate: 2.0000e-05\n",
      "Epoch 12/50\n",
      "\u001b[1m16/16\u001b[0m \u001b[32m━━━━━━━━━━━━━━━━━━━━\u001b[0m\u001b[37m\u001b[0m \u001b[1m1s\u001b[0m 41ms/step - accuracy: 0.5625 - auc_1: 0.4417 - loss: 1.7148 - precision_1: 0.4000 - recall_1: 0.3333 - val_accuracy: 0.7500 - val_auc_1: 0.5312 - val_loss: 1.8341 - val_precision_1: 0.0000e+00 - val_recall_1: 0.0000e+00 - learning_rate: 2.0000e-05\n"
     ]
    }
   ],
   "source": [
    "early_stopping = EarlyStopping(monitor='val_loss', patience=10, restore_best_weights=True)\n",
    "reduce_lr = ReduceLROnPlateau(monitor='val_loss', factor=0.2, patience=5, min_lr=1e-6)\n",
    "\n",
    "\n",
    "history = model.fit(\n",
    "    train_generator,\n",
    "    steps_per_epoch=train_generator.samples // train_generator.batch_size,\n",
    "    epochs=50, \n",
    "    validation_data=val_generator,\n",
    "    validation_steps=val_generator.samples // val_generator.batch_size,\n",
    "    callbacks=[early_stopping, reduce_lr],\n",
    "    verbose=1)"
   ]
  },
  {
   "cell_type": "code",
   "execution_count": null,
   "id": "7d02cdd3-b5bb-4a98-b1c7-60c277fadcb9",
   "metadata": {},
   "outputs": [],
   "source": []
  },
  {
   "cell_type": "markdown",
   "id": "d059e4f3-0cf1-47a8-a9a8-2a982bf129e7",
   "metadata": {},
   "source": [
    "## 5.\tСохраните модель обученной сети и проверьте ее работу. "
   ]
  },
  {
   "cell_type": "code",
   "execution_count": 15,
   "id": "d9fced53-d26f-41e7-a76a-084a4e6af631",
   "metadata": {},
   "outputs": [
    {
     "name": "stderr",
     "output_type": "stream",
     "text": [
      "WARNING:absl:You are saving your model as an HDF5 file via `model.save()` or `keras.saving.save_model(model)`. This file format is considered legacy. We recommend using instead the native Keras format, e.g. `model.save('my_model.keras')` or `keras.saving.save_model(model, 'my_model.keras')`. \n"
     ]
    }
   ],
   "source": [
    "model.save('EEG2/cnn.h5')"
   ]
  },
  {
   "cell_type": "code",
   "execution_count": 16,
   "id": "90298e5f-c9cf-4947-8872-8997e6ee0332",
   "metadata": {},
   "outputs": [
    {
     "name": "stdout",
     "output_type": "stream",
     "text": [
      "\u001b[1m4/4\u001b[0m \u001b[32m━━━━━━━━━━━━━━━━━━━━\u001b[0m\u001b[37m\u001b[0m \u001b[1m1s\u001b[0m 134ms/step\n"
     ]
    }
   ],
   "source": [
    "y_pred = model.predict(val_generator)\n",
    "y_test = val_generator.labels"
   ]
  },
  {
   "cell_type": "code",
   "execution_count": 17,
   "id": "00cd1add-496d-46c5-a9c2-b81ee295f9e2",
   "metadata": {},
   "outputs": [
    {
     "name": "stderr",
     "output_type": "stream",
     "text": [
      "WARNING:absl:You are saving your model as an HDF5 file via `model.save()` or `keras.saving.save_model(model)`. This file format is considered legacy. We recommend using instead the native Keras format, e.g. `model.save('my_model.keras')` or `keras.saving.save_model(model, 'my_model.keras')`. \n"
     ]
    },
    {
     "name": "stdout",
     "output_type": "stream",
     "text": [
      "\n",
      "ROC-AUC: 0.5104\n",
      "Best threshold: 0.3030\n",
      "\n",
      "Validation Metrics:\n",
      "Confusion Matrix:\n",
      " [[18 30]\n",
      " [ 4 12]]\n",
      "F1-score: 0.41379310344827586\n",
      "Classification Report:\n",
      "               precision    recall  f1-score   support\n",
      "\n",
      "           0       0.82      0.38      0.51        48\n",
      "           1       0.29      0.75      0.41        16\n",
      "\n",
      "    accuracy                           0.47        64\n",
      "   macro avg       0.55      0.56      0.46        64\n",
      "weighted avg       0.69      0.47      0.49        64\n",
      "\n"
     ]
    }
   ],
   "source": [
    "\n",
    "\n",
    "print(f\"\\nROC-AUC: {roc_auc_score(y_test, y_pred):.4f}\")\n",
    "\n",
    "# Поиск оптимального порога через F1-score\n",
    "thresholds = np.linspace(0, 1, 100)\n",
    "f1_scores = [f1_score(y_test, (y_pred >= t).astype(int)) for t in thresholds]\n",
    "best_threshold = thresholds[np.argmax(f1_scores)]\n",
    "print(f'Best threshold: {best_threshold:.4f}')\n",
    "\n",
    "# Метрики на валидации\n",
    "y_pred_val = (y_pred >= best_threshold).astype(int)\n",
    "print(\"\\nValidation Metrics:\")\n",
    "print(\"Confusion Matrix:\\n\", confusion_matrix(y_test, y_pred_val))\n",
    "print(\"F1-score:\", f1_score(y_test, y_pred_val))\n",
    "print(\"Classification Report:\\n\", classification_report(y_test, y_pred_val))\n",
    "model.save('EEG2/eeg_detection.h5')\n"
   ]
  },
  {
   "cell_type": "code",
   "execution_count": 18,
   "id": "cbb25b2e-355d-4dca-a61d-04f7ea89d568",
   "metadata": {},
   "outputs": [
    {
     "data": {
      "image/png": "[encoded data removed]",
      "text/plain": [
       "<Figure size 1200x400 with 2 Axes>"
      ]
     },
     "metadata": {},
     "output_type": "display_data"
    }
   ],
   "source": [
    "# Визуализация обучения\n",
    "import matplotlib.pyplot as plt\n",
    "\n",
    "plt.figure(figsize=(12, 4))\n",
    "plt.subplot(1, 2, 1)\n",
    "plt.plot(history.history['loss'], label='Train Loss')\n",
    "plt.plot(history.history['val_loss'], label='Validation Loss')\n",
    "plt.legend()\n",
    "plt.title('Loss Evolution')\n",
    "\n",
    "plt.subplot(1, 2, 2)\n",
    "plt.plot(history.history['accuracy'], label='Train Accuracy')\n",
    "plt.plot(history.history['val_accuracy'], label='Validation Accuracy')\n",
    "plt.legend()\n",
    "plt.title('Accuracy Evolution')\n",
    "plt.show()"
   ]
  },
  {
   "cell_type": "markdown",
   "id": "0218d977-fa5c-49ad-b547-de555395021c",
   "metadata": {},
   "source": [
    "## 6.\tПопробуйте проделать действия с использованием AutoML и сравните ратоту."
   ]
  },
  {
   "cell_type": "markdown",
   "id": "50540c62-a4fb-4def-b5ad-19ab49386a06",
   "metadata": {},
   "source": [
    "#### TPOT"
   ]
  },
  {
   "cell_type": "code",
   "execution_count": 19,
   "id": "745411a3-12bc-48b9-b726-c1493d65184f",
   "metadata": {},
   "outputs": [],
   "source": [
    "from tpot import TPOTClassifier\n",
    "from sklearn.model_selection import train_test_split\n",
    "from sklearn.preprocessing import LabelEncoder\n",
    "from sklearn.metrics import accuracy_score\n",
    "import cv2"
   ]
  },
  {
   "cell_type": "code",
   "execution_count": 20,
   "id": "131076eb-ac6b-45ea-b3d0-1f512664a424",
   "metadata": {},
   "outputs": [],
   "source": [
    "import os\n",
    "list_plus = [file for file in os.listdir(FOLDER_SEIZURE) if file.endswith('.png')]\n",
    "list_minus = [file for file in os.listdir(FOLDER_NON_SEIZURE) if file.endswith('.png')]"
   ]
  },
  {
   "cell_type": "code",
   "execution_count": 21,
   "id": "2b49fac8-fe12-407e-b234-01782faf8bd5",
   "metadata": {
    "scrolled": true
   },
   "outputs": [
    {
     "name": "stderr",
     "output_type": "stream",
     "text": [
      "Version 0.12.2 of tpot is outdated. Version 1.0.0 was released Wednesday February 26, 2025.\n"
     ]
    },
    {
     "data": {
      "application/vnd.jupyter.widget-view+json": {
       "model_id": "67b7fa2066ea488499202a432dc9d469",
       "version_major": 2,
       "version_minor": 0
      },
      "text/plain": [
       "Optimization Progress:   0%|          | 0/120 [00:00<?, ?pipeline/s]"
      ]
     },
     "metadata": {},
     "output_type": "display_data"
    },
    {
     "name": "stdout",
     "output_type": "stream",
     "text": [
      "\n",
      "Generation 1 - Current best internal CV score: 0.7953242835595777\n",
      "\n",
      "Generation 2 - Current best internal CV score: 0.7953242835595777\n"
     ]
    },
    {
     "name": "stderr",
     "output_type": "stream",
     "text": [
      "WARNING:stopit:Code block execution exceeded 10 seconds timeout\n",
      "Traceback (most recent call last):\n",
      "  File \"/Users/vladimir/miniconda3/envs/py39_jupyter/lib/python3.9/site-packages/stopit/utils.py\", line 145, in wrapper\n",
      "    result = func(*args, **kwargs)\n",
      "  File \"/Users/vladimir/miniconda3/envs/py39_jupyter/lib/python3.9/site-packages/tpot/decorators.py\", line 57, in time_limited_call\n",
      "    func(*args)\n",
      "  File \"/Users/vladimir/miniconda3/envs/py39_jupyter/lib/python3.9/site-packages/sklearn/base.py\", line 1474, in wrapper\n",
      "    return fit_method(estimator, *args, **kwargs)\n",
      "  File \"/Users/vladimir/miniconda3/envs/py39_jupyter/lib/python3.9/site-packages/sklearn/pipeline.py\", line 471, in fit\n",
      "    Xt = self._fit(X, y, routed_params)\n",
      "  File \"/Users/vladimir/miniconda3/envs/py39_jupyter/lib/python3.9/site-packages/sklearn/pipeline.py\", line 408, in _fit\n",
      "    X, fitted_transformer = fit_transform_one_cached(\n",
      "  File \"/Users/vladimir/miniconda3/envs/py39_jupyter/lib/python3.9/site-packages/joblib/memory.py\", line 353, in __call__\n",
      "    return self.func(*args, **kwargs)\n",
      "  File \"/Users/vladimir/miniconda3/envs/py39_jupyter/lib/python3.9/site-packages/sklearn/pipeline.py\", line 1303, in _fit_transform_one\n",
      "    res = transformer.fit_transform(X, y, **params.get(\"fit_transform\", {}))\n",
      "  File \"/Users/vladimir/miniconda3/envs/py39_jupyter/lib/python3.9/site-packages/sklearn/utils/_set_output.py\", line 295, in wrapped\n",
      "    data_to_wrap = f(self, X, *args, **kwargs)\n",
      "  File \"/Users/vladimir/miniconda3/envs/py39_jupyter/lib/python3.9/site-packages/sklearn/base.py\", line 1101, in fit_transform\n",
      "    return self.fit(X, y, **fit_params).transform(X)\n",
      "  File \"/Users/vladimir/miniconda3/envs/py39_jupyter/lib/python3.9/site-packages/tpot/builtins/stacking_estimator.py\", line 67, in fit\n",
      "    self.estimator.fit(X, y, **fit_params)\n",
      "  File \"/Users/vladimir/miniconda3/envs/py39_jupyter/lib/python3.9/site-packages/sklearn/base.py\", line 1474, in wrapper\n",
      "    return fit_method(estimator, *args, **kwargs)\n",
      "  File \"/Users/vladimir/miniconda3/envs/py39_jupyter/lib/python3.9/site-packages/sklearn/linear_model/_logistic.py\", line 1296, in fit\n",
      "    fold_coefs_ = Parallel(n_jobs=self.n_jobs, verbose=self.verbose, prefer=prefer)(\n",
      "  File \"/Users/vladimir/miniconda3/envs/py39_jupyter/lib/python3.9/site-packages/sklearn/utils/parallel.py\", line 67, in __call__\n",
      "    return super().__call__(iterable_with_config)\n",
      "  File \"/Users/vladimir/miniconda3/envs/py39_jupyter/lib/python3.9/site-packages/joblib/parallel.py\", line 1863, in __call__\n",
      "    return output if self.return_generator else list(output)\n",
      "  File \"/Users/vladimir/miniconda3/envs/py39_jupyter/lib/python3.9/site-packages/joblib/parallel.py\", line 1792, in _get_sequential_output\n",
      "    res = func(*args, **kwargs)\n",
      "  File \"/Users/vladimir/miniconda3/envs/py39_jupyter/lib/python3.9/site-packages/sklearn/utils/parallel.py\", line 129, in __call__\n",
      "    return self.function(*args, **kwargs)\n",
      "  File \"/Users/vladimir/miniconda3/envs/py39_jupyter/lib/python3.9/site-packages/sklearn/linear_model/_logistic.py\", line 455, in _logistic_regression_path\n",
      "    opt_res = optimize.minimize(\n",
      "  File \"/Users/vladimir/miniconda3/envs/py39_jupyter/lib/python3.9/site-packages/scipy/optimize/_minimize.py\", line 713, in minimize\n",
      "    res = _minimize_lbfgsb(fun, x0, args, jac, bounds,\n",
      "  File \"/Users/vladimir/miniconda3/envs/py39_jupyter/lib/python3.9/site-packages/scipy/optimize/_lbfgsb_py.py\", line 398, in _minimize_lbfgsb\n",
      "    _lbfgsb.setulb(m, x, low_bnd, upper_bnd, nbd, f, g, factr,\n",
      "stopit.utils.TimeoutException\n"
     ]
    },
    {
     "name": "stdout",
     "output_type": "stream",
     "text": [
      "\n",
      "Generation 3 - Current best internal CV score: 0.7953242835595777\n"
     ]
    },
    {
     "name": "stderr",
     "output_type": "stream",
     "text": [
      "WARNING:stopit:Code block execution exceeded 10 seconds timeout\n",
      "Traceback (most recent call last):\n",
      "  File \"/Users/vladimir/miniconda3/envs/py39_jupyter/lib/python3.9/site-packages/stopit/utils.py\", line 145, in wrapper\n",
      "    result = func(*args, **kwargs)\n",
      "  File \"/Users/vladimir/miniconda3/envs/py39_jupyter/lib/python3.9/site-packages/tpot/decorators.py\", line 57, in time_limited_call\n",
      "    func(*args)\n",
      "  File \"/Users/vladimir/miniconda3/envs/py39_jupyter/lib/python3.9/site-packages/sklearn/base.py\", line 1474, in wrapper\n",
      "    return fit_method(estimator, *args, **kwargs)\n",
      "  File \"/Users/vladimir/miniconda3/envs/py39_jupyter/lib/python3.9/site-packages/sklearn/pipeline.py\", line 471, in fit\n",
      "    Xt = self._fit(X, y, routed_params)\n",
      "  File \"/Users/vladimir/miniconda3/envs/py39_jupyter/lib/python3.9/site-packages/sklearn/pipeline.py\", line 408, in _fit\n",
      "    X, fitted_transformer = fit_transform_one_cached(\n",
      "  File \"/Users/vladimir/miniconda3/envs/py39_jupyter/lib/python3.9/site-packages/joblib/memory.py\", line 353, in __call__\n",
      "    return self.func(*args, **kwargs)\n",
      "  File \"/Users/vladimir/miniconda3/envs/py39_jupyter/lib/python3.9/site-packages/sklearn/pipeline.py\", line 1303, in _fit_transform_one\n",
      "    res = transformer.fit_transform(X, y, **params.get(\"fit_transform\", {}))\n",
      "  File \"/Users/vladimir/miniconda3/envs/py39_jupyter/lib/python3.9/site-packages/sklearn/utils/_set_output.py\", line 295, in wrapped\n",
      "    data_to_wrap = f(self, X, *args, **kwargs)\n",
      "  File \"/Users/vladimir/miniconda3/envs/py39_jupyter/lib/python3.9/site-packages/sklearn/base.py\", line 1101, in fit_transform\n",
      "    return self.fit(X, y, **fit_params).transform(X)\n",
      "  File \"/Users/vladimir/miniconda3/envs/py39_jupyter/lib/python3.9/site-packages/tpot/builtins/stacking_estimator.py\", line 67, in fit\n",
      "    self.estimator.fit(X, y, **fit_params)\n",
      "  File \"/Users/vladimir/miniconda3/envs/py39_jupyter/lib/python3.9/site-packages/sklearn/base.py\", line 1474, in wrapper\n",
      "    return fit_method(estimator, *args, **kwargs)\n",
      "  File \"/Users/vladimir/miniconda3/envs/py39_jupyter/lib/python3.9/site-packages/sklearn/linear_model/_logistic.py\", line 1296, in fit\n",
      "    fold_coefs_ = Parallel(n_jobs=self.n_jobs, verbose=self.verbose, prefer=prefer)(\n",
      "  File \"/Users/vladimir/miniconda3/envs/py39_jupyter/lib/python3.9/site-packages/sklearn/utils/parallel.py\", line 67, in __call__\n",
      "    return super().__call__(iterable_with_config)\n",
      "  File \"/Users/vladimir/miniconda3/envs/py39_jupyter/lib/python3.9/site-packages/joblib/parallel.py\", line 1863, in __call__\n",
      "    return output if self.return_generator else list(output)\n",
      "  File \"/Users/vladimir/miniconda3/envs/py39_jupyter/lib/python3.9/site-packages/joblib/parallel.py\", line 1792, in _get_sequential_output\n",
      "    res = func(*args, **kwargs)\n",
      "  File \"/Users/vladimir/miniconda3/envs/py39_jupyter/lib/python3.9/site-packages/sklearn/utils/parallel.py\", line 129, in __call__\n",
      "    return self.function(*args, **kwargs)\n",
      "  File \"/Users/vladimir/miniconda3/envs/py39_jupyter/lib/python3.9/site-packages/sklearn/linear_model/_logistic.py\", line 455, in _logistic_regression_path\n",
      "    opt_res = optimize.minimize(\n",
      "  File \"/Users/vladimir/miniconda3/envs/py39_jupyter/lib/python3.9/site-packages/scipy/optimize/_minimize.py\", line 713, in minimize\n",
      "    res = _minimize_lbfgsb(fun, x0, args, jac, bounds,\n",
      "  File \"/Users/vladimir/miniconda3/envs/py39_jupyter/lib/python3.9/site-packages/scipy/optimize/_lbfgsb_py.py\", line 398, in _minimize_lbfgsb\n",
      "    _lbfgsb.setulb(m, x, low_bnd, upper_bnd, nbd, f, g, factr,\n",
      "stopit.utils.TimeoutException\n",
      "WARNING:stopit:Code block execution exceeded 10 seconds timeout\n",
      "Traceback (most recent call last):\n",
      "  File \"/Users/vladimir/miniconda3/envs/py39_jupyter/lib/python3.9/site-packages/stopit/utils.py\", line 145, in wrapper\n",
      "    result = func(*args, **kwargs)\n",
      "  File \"/Users/vladimir/miniconda3/envs/py39_jupyter/lib/python3.9/site-packages/tpot/decorators.py\", line 57, in time_limited_call\n",
      "    func(*args)\n",
      "  File \"/Users/vladimir/miniconda3/envs/py39_jupyter/lib/python3.9/site-packages/sklearn/base.py\", line 1474, in wrapper\n",
      "    return fit_method(estimator, *args, **kwargs)\n",
      "  File \"/Users/vladimir/miniconda3/envs/py39_jupyter/lib/python3.9/site-packages/sklearn/pipeline.py\", line 471, in fit\n",
      "    Xt = self._fit(X, y, routed_params)\n",
      "  File \"/Users/vladimir/miniconda3/envs/py39_jupyter/lib/python3.9/site-packages/sklearn/pipeline.py\", line 408, in _fit\n",
      "    X, fitted_transformer = fit_transform_one_cached(\n",
      "  File \"/Users/vladimir/miniconda3/envs/py39_jupyter/lib/python3.9/site-packages/joblib/memory.py\", line 353, in __call__\n",
      "    return self.func(*args, **kwargs)\n",
      "  File \"/Users/vladimir/miniconda3/envs/py39_jupyter/lib/python3.9/site-packages/sklearn/pipeline.py\", line 1303, in _fit_transform_one\n",
      "    res = transformer.fit_transform(X, y, **params.get(\"fit_transform\", {}))\n",
      "  File \"/Users/vladimir/miniconda3/envs/py39_jupyter/lib/python3.9/site-packages/sklearn/utils/_set_output.py\", line 295, in wrapped\n",
      "    data_to_wrap = f(self, X, *args, **kwargs)\n",
      "  File \"/Users/vladimir/miniconda3/envs/py39_jupyter/lib/python3.9/site-packages/sklearn/base.py\", line 1101, in fit_transform\n",
      "    return self.fit(X, y, **fit_params).transform(X)\n",
      "  File \"/Users/vladimir/miniconda3/envs/py39_jupyter/lib/python3.9/site-packages/tpot/builtins/stacking_estimator.py\", line 67, in fit\n",
      "    self.estimator.fit(X, y, **fit_params)\n",
      "  File \"/Users/vladimir/miniconda3/envs/py39_jupyter/lib/python3.9/site-packages/sklearn/base.py\", line 1474, in wrapper\n",
      "    return fit_method(estimator, *args, **kwargs)\n",
      "  File \"/Users/vladimir/miniconda3/envs/py39_jupyter/lib/python3.9/site-packages/sklearn/linear_model/_logistic.py\", line 1296, in fit\n",
      "    fold_coefs_ = Parallel(n_jobs=self.n_jobs, verbose=self.verbose, prefer=prefer)(\n",
      "  File \"/Users/vladimir/miniconda3/envs/py39_jupyter/lib/python3.9/site-packages/sklearn/utils/parallel.py\", line 67, in __call__\n",
      "    return super().__call__(iterable_with_config)\n",
      "  File \"/Users/vladimir/miniconda3/envs/py39_jupyter/lib/python3.9/site-packages/joblib/parallel.py\", line 1863, in __call__\n",
      "    return output if self.return_generator else list(output)\n",
      "  File \"/Users/vladimir/miniconda3/envs/py39_jupyter/lib/python3.9/site-packages/joblib/parallel.py\", line 1792, in _get_sequential_output\n",
      "    res = func(*args, **kwargs)\n",
      "  File \"/Users/vladimir/miniconda3/envs/py39_jupyter/lib/python3.9/site-packages/sklearn/utils/parallel.py\", line 129, in __call__\n",
      "    return self.function(*args, **kwargs)\n",
      "  File \"/Users/vladimir/miniconda3/envs/py39_jupyter/lib/python3.9/site-packages/sklearn/linear_model/_logistic.py\", line 455, in _logistic_regression_path\n",
      "    opt_res = optimize.minimize(\n",
      "  File \"/Users/vladimir/miniconda3/envs/py39_jupyter/lib/python3.9/site-packages/scipy/optimize/_minimize.py\", line 713, in minimize\n",
      "    res = _minimize_lbfgsb(fun, x0, args, jac, bounds,\n",
      "  File \"/Users/vladimir/miniconda3/envs/py39_jupyter/lib/python3.9/site-packages/scipy/optimize/_lbfgsb_py.py\", line 398, in _minimize_lbfgsb\n",
      "    _lbfgsb.setulb(m, x, low_bnd, upper_bnd, nbd, f, g, factr,\n",
      "stopit.utils.TimeoutException\n"
     ]
    },
    {
     "name": "stdout",
     "output_type": "stream",
     "text": [
      "\n",
      "Generation 4 - Current best internal CV score: 0.8068627450980392\n"
     ]
    },
    {
     "name": "stderr",
     "output_type": "stream",
     "text": [
      "WARNING:stopit:Code block execution exceeded 10 seconds timeout\n",
      "Traceback (most recent call last):\n",
      "  File \"/Users/vladimir/miniconda3/envs/py39_jupyter/lib/python3.9/site-packages/stopit/utils.py\", line 145, in wrapper\n",
      "    result = func(*args, **kwargs)\n",
      "  File \"/Users/vladimir/miniconda3/envs/py39_jupyter/lib/python3.9/site-packages/tpot/decorators.py\", line 57, in time_limited_call\n",
      "    func(*args)\n",
      "  File \"/Users/vladimir/miniconda3/envs/py39_jupyter/lib/python3.9/site-packages/sklearn/base.py\", line 1474, in wrapper\n",
      "    return fit_method(estimator, *args, **kwargs)\n",
      "  File \"/Users/vladimir/miniconda3/envs/py39_jupyter/lib/python3.9/site-packages/sklearn/pipeline.py\", line 471, in fit\n",
      "    Xt = self._fit(X, y, routed_params)\n",
      "  File \"/Users/vladimir/miniconda3/envs/py39_jupyter/lib/python3.9/site-packages/sklearn/pipeline.py\", line 408, in _fit\n",
      "    X, fitted_transformer = fit_transform_one_cached(\n",
      "  File \"/Users/vladimir/miniconda3/envs/py39_jupyter/lib/python3.9/site-packages/joblib/memory.py\", line 353, in __call__\n",
      "    return self.func(*args, **kwargs)\n",
      "  File \"/Users/vladimir/miniconda3/envs/py39_jupyter/lib/python3.9/site-packages/sklearn/pipeline.py\", line 1303, in _fit_transform_one\n",
      "    res = transformer.fit_transform(X, y, **params.get(\"fit_transform\", {}))\n",
      "  File \"/Users/vladimir/miniconda3/envs/py39_jupyter/lib/python3.9/site-packages/sklearn/utils/_set_output.py\", line 295, in wrapped\n",
      "    data_to_wrap = f(self, X, *args, **kwargs)\n",
      "  File \"/Users/vladimir/miniconda3/envs/py39_jupyter/lib/python3.9/site-packages/sklearn/base.py\", line 1101, in fit_transform\n",
      "    return self.fit(X, y, **fit_params).transform(X)\n",
      "  File \"/Users/vladimir/miniconda3/envs/py39_jupyter/lib/python3.9/site-packages/tpot/builtins/stacking_estimator.py\", line 67, in fit\n",
      "    self.estimator.fit(X, y, **fit_params)\n",
      "  File \"/Users/vladimir/miniconda3/envs/py39_jupyter/lib/python3.9/site-packages/sklearn/base.py\", line 1474, in wrapper\n",
      "    return fit_method(estimator, *args, **kwargs)\n",
      "  File \"/Users/vladimir/miniconda3/envs/py39_jupyter/lib/python3.9/site-packages/sklearn/linear_model/_logistic.py\", line 1296, in fit\n",
      "    fold_coefs_ = Parallel(n_jobs=self.n_jobs, verbose=self.verbose, prefer=prefer)(\n",
      "  File \"/Users/vladimir/miniconda3/envs/py39_jupyter/lib/python3.9/site-packages/sklearn/utils/parallel.py\", line 67, in __call__\n",
      "    return super().__call__(iterable_with_config)\n",
      "  File \"/Users/vladimir/miniconda3/envs/py39_jupyter/lib/python3.9/site-packages/joblib/parallel.py\", line 1863, in __call__\n",
      "    return output if self.return_generator else list(output)\n",
      "  File \"/Users/vladimir/miniconda3/envs/py39_jupyter/lib/python3.9/site-packages/joblib/parallel.py\", line 1792, in _get_sequential_output\n",
      "    res = func(*args, **kwargs)\n",
      "  File \"/Users/vladimir/miniconda3/envs/py39_jupyter/lib/python3.9/site-packages/sklearn/utils/parallel.py\", line 129, in __call__\n",
      "    return self.function(*args, **kwargs)\n",
      "  File \"/Users/vladimir/miniconda3/envs/py39_jupyter/lib/python3.9/site-packages/sklearn/linear_model/_logistic.py\", line 455, in _logistic_regression_path\n",
      "    opt_res = optimize.minimize(\n",
      "  File \"/Users/vladimir/miniconda3/envs/py39_jupyter/lib/python3.9/site-packages/scipy/optimize/_minimize.py\", line 713, in minimize\n",
      "    res = _minimize_lbfgsb(fun, x0, args, jac, bounds,\n",
      "  File \"/Users/vladimir/miniconda3/envs/py39_jupyter/lib/python3.9/site-packages/scipy/optimize/_lbfgsb_py.py\", line 398, in _minimize_lbfgsb\n",
      "    _lbfgsb.setulb(m, x, low_bnd, upper_bnd, nbd, f, g, factr,\n",
      "stopit.utils.TimeoutException\n"
     ]
    },
    {
     "name": "stdout",
     "output_type": "stream",
     "text": [
      "\n",
      "Generation 5 - Current best internal CV score: 0.8068627450980392\n",
      "\n",
      "Best pipeline: KNeighborsClassifier(input_matrix, n_neighbors=1, p=2, weights=distance)\n",
      "Accuracy: 0.72\n"
     ]
    }
   ],
   "source": [
    "# Подготовка данных\n",
    "image_files = glob('EEG2/data/seizure/*.png') + glob('EEG2/data/non_seizure/*.png')\n",
    "labels = ['seizure'] * len(list_plus) + ['non_seizure'] * len(list_minus)\n",
    "\n",
    "# Загрузка и преобразование изображений\n",
    "X = []\n",
    "for img_path in image_files:\n",
    "    img = Image.open(img_path).resize((64, 64))  # Ресайз через PIL\n",
    "    X.append(np.array(img).flatten())  # в numpy и затем в 1D вектор\n",
    "\n",
    "# Преобразуем список в numpy array\n",
    "X = np.array(X)\n",
    "\n",
    "# Кодирование меток\n",
    "le = LabelEncoder()\n",
    "y = le.fit_transform(labels)\n",
    "\n",
    "\n",
    "X_train, X_test, y_train, y_test = train_test_split(X, y, test_size=0.2, random_state=42)\n",
    "\n",
    "\n",
    "tpot = TPOTClassifier(\n",
    "    generations=5,\n",
    "    population_size=20,\n",
    "    verbosity=2,\n",
    "    random_state=42,\n",
    "    n_jobs=-1,\n",
    "    config_dict='TPOT light'  \n",
    ")\n",
    "\n",
    "tpot.fit(X_train, y_train)\n",
    "\n",
    "\n",
    "print(f\"Accuracy: {accuracy_score(y_test, tpot.predict(X_test)):.2f}\")\n",
    "\n",
    "# tpot.export('EEG2/eeg_tpot_pipeline.py')"
   ]
  },
  {
   "cell_type": "code",
   "execution_count": 22,
   "id": "de994826-2e64-4b06-861b-4a72f007f594",
   "metadata": {},
   "outputs": [
    {
     "data": {
      "text/html": [
       "<style>#sk-container-id-1 {\n",
       "  /* Definition of color scheme common for light and dark mode */\n",
       "  --sklearn-color-text: black;\n",
       "  --sklearn-color-line: gray;\n",
       "  /* Definition of color scheme for unfitted estimators */\n",
       "  --sklearn-color-unfitted-level-0: #fff5e6;\n",
       "  --sklearn-color-unfitted-level-1: #f6e4d2;\n",
       "  --sklearn-color-unfitted-level-2: #ffe0b3;\n",
       "  --sklearn-color-unfitted-level-3: chocolate;\n",
       "  /* Definition of color scheme for fitted estimators */\n",
       "  --sklearn-color-fitted-level-0: #f0f8ff;\n",
       "  --sklearn-color-fitted-level-1: #d4ebff;\n",
       "  --sklearn-color-fitted-level-2: #b3dbfd;\n",
       "  --sklearn-color-fitted-level-3: cornflowerblue;\n",
       "\n",
       "  /* Specific color for light theme */\n",
       "  --sklearn-color-text-on-default-background: var(--sg-text-color, var(--theme-code-foreground, var(--jp-content-font-color1, black)));\n",
       "  --sklearn-color-background: var(--sg-background-color, var(--theme-background, var(--jp-layout-color0, white)));\n",
       "  --sklearn-color-border-box: var(--sg-text-color, var(--theme-code-foreground, var(--jp-content-font-color1, black)));\n",
       "  --sklearn-color-icon: #696969;\n",
       "\n",
       "  @media (prefers-color-scheme: dark) {\n",
       "    /* Redefinition of color scheme for dark theme */\n",
       "    --sklearn-color-text-on-default-background: var(--sg-text-color, var(--theme-code-foreground, var(--jp-content-font-color1, white)));\n",
       "    --sklearn-color-background: var(--sg-background-color, var(--theme-background, var(--jp-layout-color0, #111)));\n",
       "    --sklearn-color-border-box: var(--sg-text-color, var(--theme-code-foreground, var(--jp-content-font-color1, white)));\n",
       "    --sklearn-color-icon: #878787;\n",
       "  }\n",
       "}\n",
       "\n",
       "#sk-container-id-1 {\n",
       "  color: var(--sklearn-color-text);\n",
       "}\n",
       "\n",
       "#sk-container-id-1 pre {\n",
       "  padding: 0;\n",
       "}\n",
       "\n",
       "#sk-container-id-1 input.sk-hidden--visually {\n",
       "  border: 0;\n",
       "  clip: rect(1px 1px 1px 1px);\n",
       "  clip: rect(1px, 1px, 1px, 1px);\n",
       "  height: 1px;\n",
       "  margin: -1px;\n",
       "  overflow: hidden;\n",
       "  padding: 0;\n",
       "  position: absolute;\n",
       "  width: 1px;\n",
       "}\n",
       "\n",
       "#sk-container-id-1 div.sk-dashed-wrapped {\n",
       "  border: 1px dashed var(--sklearn-color-line);\n",
       "  margin: 0 0.4em 0.5em 0.4em;\n",
       "  box-sizing: border-box;\n",
       "  padding-bottom: 0.4em;\n",
       "  background-color: var(--sklearn-color-background);\n",
       "}\n",
       "\n",
       "#sk-container-id-1 div.sk-container {\n",
       "  /* jupyter's `normalize.less` sets `[hidden] { display: none; }`\n",
       "     but bootstrap.min.css set `[hidden] { display: none !important; }`\n",
       "     so we also need the `!important` here to be able to override the\n",
       "     default hidden behavior on the sphinx rendered scikit-learn.org.\n",
       "     See: https://github.com/scikit-learn/scikit-learn/issues/21755 */\n",
       "  display: inline-block !important;\n",
       "  position: relative;\n",
       "}\n",
       "\n",
       "#sk-container-id-1 div.sk-text-repr-fallback {\n",
       "  display: none;\n",
       "}\n",
       "\n",
       "div.sk-parallel-item,\n",
       "div.sk-serial,\n",
       "div.sk-item {\n",
       "  /* draw centered vertical line to link estimators */\n",
       "  background-image: linear-gradient(var(--sklearn-color-text-on-default-background), var(--sklearn-color-text-on-default-background));\n",
       "  background-size: 2px 100%;\n",
       "  background-repeat: no-repeat;\n",
       "  background-position: center center;\n",
       "}\n",
       "\n",
       "/* Parallel-specific style estimator block */\n",
       "\n",
       "#sk-container-id-1 div.sk-parallel-item::after {\n",
       "  content: \"\";\n",
       "  width: 100%;\n",
       "  border-bottom: 2px solid var(--sklearn-color-text-on-default-background);\n",
       "  flex-grow: 1;\n",
       "}\n",
       "\n",
       "#sk-container-id-1 div.sk-parallel {\n",
       "  display: flex;\n",
       "  align-items: stretch;\n",
       "  justify-content: center;\n",
       "  background-color: var(--sklearn-color-background);\n",
       "  position: relative;\n",
       "}\n",
       "\n",
       "#sk-container-id-1 div.sk-parallel-item {\n",
       "  display: flex;\n",
       "  flex-direction: column;\n",
       "}\n",
       "\n",
       "#sk-container-id-1 div.sk-parallel-item:first-child::after {\n",
       "  align-self: flex-end;\n",
       "  width: 50%;\n",
       "}\n",
       "\n",
       "#sk-container-id-1 div.sk-parallel-item:last-child::after {\n",
       "  align-self: flex-start;\n",
       "  width: 50%;\n",
       "}\n",
       "\n",
       "#sk-container-id-1 div.sk-parallel-item:only-child::after {\n",
       "  width: 0;\n",
       "}\n",
       "\n",
       "/* Serial-specific style estimator block */\n",
       "\n",
       "#sk-container-id-1 div.sk-serial {\n",
       "  display: flex;\n",
       "  flex-direction: column;\n",
       "  align-items: center;\n",
       "  background-color: var(--sklearn-color-background);\n",
       "  padding-right: 1em;\n",
       "  padding-left: 1em;\n",
       "}\n",
       "\n",
       "\n",
       "/* Toggleable style: style used for estimator/Pipeline/ColumnTransformer box that is\n",
       "clickable and can be expanded/collapsed.\n",
       "- Pipeline and ColumnTransformer use this feature and define the default style\n",
       "- Estimators will overwrite some part of the style using the `sk-estimator` class\n",
       "*/\n",
       "\n",
       "/* Pipeline and ColumnTransformer style (default) */\n",
       "\n",
       "#sk-container-id-1 div.sk-toggleable {\n",
       "  /* Default theme specific background. It is overwritten whether we have a\n",
       "  specific estimator or a Pipeline/ColumnTransformer */\n",
       "  background-color: var(--sklearn-color-background);\n",
       "}\n",
       "\n",
       "/* Toggleable label */\n",
       "#sk-container-id-1 label.sk-toggleable__label {\n",
       "  cursor: pointer;\n",
       "  display: block;\n",
       "  width: 100%;\n",
       "  margin-bottom: 0;\n",
       "  padding: 0.5em;\n",
       "  box-sizing: border-box;\n",
       "  text-align: center;\n",
       "}\n",
       "\n",
       "#sk-container-id-1 label.sk-toggleable__label-arrow:before {\n",
       "  /* Arrow on the left of the label */\n",
       "  content: \"▸\";\n",
       "  float: left;\n",
       "  margin-right: 0.25em;\n",
       "  color: var(--sklearn-color-icon);\n",
       "}\n",
       "\n",
       "#sk-container-id-1 label.sk-toggleable__label-arrow:hover:before {\n",
       "  color: var(--sklearn-color-text);\n",
       "}\n",
       "\n",
       "/* Toggleable content - dropdown */\n",
       "\n",
       "#sk-container-id-1 div.sk-toggleable__content {\n",
       "  max-height: 0;\n",
       "  max-width: 0;\n",
       "  overflow: hidden;\n",
       "  text-align: left;\n",
       "  /* unfitted */\n",
       "  background-color: var(--sklearn-color-unfitted-level-0);\n",
       "}\n",
       "\n",
       "#sk-container-id-1 div.sk-toggleable__content.fitted {\n",
       "  /* fitted */\n",
       "  background-color: var(--sklearn-color-fitted-level-0);\n",
       "}\n",
       "\n",
       "#sk-container-id-1 div.sk-toggleable__content pre {\n",
       "  margin: 0.2em;\n",
       "  border-radius: 0.25em;\n",
       "  color: var(--sklearn-color-text);\n",
       "  /* unfitted */\n",
       "  background-color: var(--sklearn-color-unfitted-level-0);\n",
       "}\n",
       "\n",
       "#sk-container-id-1 div.sk-toggleable__content.fitted pre {\n",
       "  /* unfitted */\n",
       "  background-color: var(--sklearn-color-fitted-level-0);\n",
       "}\n",
       "\n",
       "#sk-container-id-1 input.sk-toggleable__control:checked~div.sk-toggleable__content {\n",
       "  /* Expand drop-down */\n",
       "  max-height: 200px;\n",
       "  max-width: 100%;\n",
       "  overflow: auto;\n",
       "}\n",
       "\n",
       "#sk-container-id-1 input.sk-toggleable__control:checked~label.sk-toggleable__label-arrow:before {\n",
       "  content: \"▾\";\n",
       "}\n",
       "\n",
       "/* Pipeline/ColumnTransformer-specific style */\n",
       "\n",
       "#sk-container-id-1 div.sk-label input.sk-toggleable__control:checked~label.sk-toggleable__label {\n",
       "  color: var(--sklearn-color-text);\n",
       "  background-color: var(--sklearn-color-unfitted-level-2);\n",
       "}\n",
       "\n",
       "#sk-container-id-1 div.sk-label.fitted input.sk-toggleable__control:checked~label.sk-toggleable__label {\n",
       "  background-color: var(--sklearn-color-fitted-level-2);\n",
       "}\n",
       "\n",
       "/* Estimator-specific style */\n",
       "\n",
       "/* Colorize estimator box */\n",
       "#sk-container-id-1 div.sk-estimator input.sk-toggleable__control:checked~label.sk-toggleable__label {\n",
       "  /* unfitted */\n",
       "  background-color: var(--sklearn-color-unfitted-level-2);\n",
       "}\n",
       "\n",
       "#sk-container-id-1 div.sk-estimator.fitted input.sk-toggleable__control:checked~label.sk-toggleable__label {\n",
       "  /* fitted */\n",
       "  background-color: var(--sklearn-color-fitted-level-2);\n",
       "}\n",
       "\n",
       "#sk-container-id-1 div.sk-label label.sk-toggleable__label,\n",
       "#sk-container-id-1 div.sk-label label {\n",
       "  /* The background is the default theme color */\n",
       "  color: var(--sklearn-color-text-on-default-background);\n",
       "}\n",
       "\n",
       "/* On hover, darken the color of the background */\n",
       "#sk-container-id-1 div.sk-label:hover label.sk-toggleable__label {\n",
       "  color: var(--sklearn-color-text);\n",
       "  background-color: var(--sklearn-color-unfitted-level-2);\n",
       "}\n",
       "\n",
       "/* Label box, darken color on hover, fitted */\n",
       "#sk-container-id-1 div.sk-label.fitted:hover label.sk-toggleable__label.fitted {\n",
       "  color: var(--sklearn-color-text);\n",
       "  background-color: var(--sklearn-color-fitted-level-2);\n",
       "}\n",
       "\n",
       "/* Estimator label */\n",
       "\n",
       "#sk-container-id-1 div.sk-label label {\n",
       "  font-family: monospace;\n",
       "  font-weight: bold;\n",
       "  display: inline-block;\n",
       "  line-height: 1.2em;\n",
       "}\n",
       "\n",
       "#sk-container-id-1 div.sk-label-container {\n",
       "  text-align: center;\n",
       "}\n",
       "\n",
       "/* Estimator-specific */\n",
       "#sk-container-id-1 div.sk-estimator {\n",
       "  font-family: monospace;\n",
       "  border: 1px dotted var(--sklearn-color-border-box);\n",
       "  border-radius: 0.25em;\n",
       "  box-sizing: border-box;\n",
       "  margin-bottom: 0.5em;\n",
       "  /* unfitted */\n",
       "  background-color: var(--sklearn-color-unfitted-level-0);\n",
       "}\n",
       "\n",
       "#sk-container-id-1 div.sk-estimator.fitted {\n",
       "  /* fitted */\n",
       "  background-color: var(--sklearn-color-fitted-level-0);\n",
       "}\n",
       "\n",
       "/* on hover */\n",
       "#sk-container-id-1 div.sk-estimator:hover {\n",
       "  /* unfitted */\n",
       "  background-color: var(--sklearn-color-unfitted-level-2);\n",
       "}\n",
       "\n",
       "#sk-container-id-1 div.sk-estimator.fitted:hover {\n",
       "  /* fitted */\n",
       "  background-color: var(--sklearn-color-fitted-level-2);\n",
       "}\n",
       "\n",
       "/* Specification for estimator info (e.g. \"i\" and \"?\") */\n",
       "\n",
       "/* Common style for \"i\" and \"?\" */\n",
       "\n",
       ".sk-estimator-doc-link,\n",
       "a:link.sk-estimator-doc-link,\n",
       "a:visited.sk-estimator-doc-link {\n",
       "  float: right;\n",
       "  font-size: smaller;\n",
       "  line-height: 1em;\n",
       "  font-family: monospace;\n",
       "  background-color: var(--sklearn-color-background);\n",
       "  border-radius: 1em;\n",
       "  height: 1em;\n",
       "  width: 1em;\n",
       "  text-decoration: none !important;\n",
       "  margin-left: 1ex;\n",
       "  /* unfitted */\n",
       "  border: var(--sklearn-color-unfitted-level-1) 1pt solid;\n",
       "  color: var(--sklearn-color-unfitted-level-1);\n",
       "}\n",
       "\n",
       ".sk-estimator-doc-link.fitted,\n",
       "a:link.sk-estimator-doc-link.fitted,\n",
       "a:visited.sk-estimator-doc-link.fitted {\n",
       "  /* fitted */\n",
       "  border: var(--sklearn-color-fitted-level-1) 1pt solid;\n",
       "  color: var(--sklearn-color-fitted-level-1);\n",
       "}\n",
       "\n",
       "/* On hover */\n",
       "div.sk-estimator:hover .sk-estimator-doc-link:hover,\n",
       ".sk-estimator-doc-link:hover,\n",
       "div.sk-label-container:hover .sk-estimator-doc-link:hover,\n",
       ".sk-estimator-doc-link:hover {\n",
       "  /* unfitted */\n",
       "  background-color: var(--sklearn-color-unfitted-level-3);\n",
       "  color: var(--sklearn-color-background);\n",
       "  text-decoration: none;\n",
       "}\n",
       "\n",
       "div.sk-estimator.fitted:hover .sk-estimator-doc-link.fitted:hover,\n",
       ".sk-estimator-doc-link.fitted:hover,\n",
       "div.sk-label-container:hover .sk-estimator-doc-link.fitted:hover,\n",
       ".sk-estimator-doc-link.fitted:hover {\n",
       "  /* fitted */\n",
       "  background-color: var(--sklearn-color-fitted-level-3);\n",
       "  color: var(--sklearn-color-background);\n",
       "  text-decoration: none;\n",
       "}\n",
       "\n",
       "/* Span, style for the box shown on hovering the info icon */\n",
       ".sk-estimator-doc-link span {\n",
       "  display: none;\n",
       "  z-index: 9999;\n",
       "  position: relative;\n",
       "  font-weight: normal;\n",
       "  right: .2ex;\n",
       "  padding: .5ex;\n",
       "  margin: .5ex;\n",
       "  width: min-content;\n",
       "  min-width: 20ex;\n",
       "  max-width: 50ex;\n",
       "  color: var(--sklearn-color-text);\n",
       "  box-shadow: 2pt 2pt 4pt #999;\n",
       "  /* unfitted */\n",
       "  background: var(--sklearn-color-unfitted-level-0);\n",
       "  border: .5pt solid var(--sklearn-color-unfitted-level-3);\n",
       "}\n",
       "\n",
       ".sk-estimator-doc-link.fitted span {\n",
       "  /* fitted */\n",
       "  background: var(--sklearn-color-fitted-level-0);\n",
       "  border: var(--sklearn-color-fitted-level-3);\n",
       "}\n",
       "\n",
       ".sk-estimator-doc-link:hover span {\n",
       "  display: block;\n",
       "}\n",
       "\n",
       "/* \"?\"-specific style due to the `<a>` HTML tag */\n",
       "\n",
       "#sk-container-id-1 a.estimator_doc_link {\n",
       "  float: right;\n",
       "  font-size: 1rem;\n",
       "  line-height: 1em;\n",
       "  font-family: monospace;\n",
       "  background-color: var(--sklearn-color-background);\n",
       "  border-radius: 1rem;\n",
       "  height: 1rem;\n",
       "  width: 1rem;\n",
       "  text-decoration: none;\n",
       "  /* unfitted */\n",
       "  color: var(--sklearn-color-unfitted-level-1);\n",
       "  border: var(--sklearn-color-unfitted-level-1) 1pt solid;\n",
       "}\n",
       "\n",
       "#sk-container-id-1 a.estimator_doc_link.fitted {\n",
       "  /* fitted */\n",
       "  border: var(--sklearn-color-fitted-level-1) 1pt solid;\n",
       "  color: var(--sklearn-color-fitted-level-1);\n",
       "}\n",
       "\n",
       "/* On hover */\n",
       "#sk-container-id-1 a.estimator_doc_link:hover {\n",
       "  /* unfitted */\n",
       "  background-color: var(--sklearn-color-unfitted-level-3);\n",
       "  color: var(--sklearn-color-background);\n",
       "  text-decoration: none;\n",
       "}\n",
       "\n",
       "#sk-container-id-1 a.estimator_doc_link.fitted:hover {\n",
       "  /* fitted */\n",
       "  background-color: var(--sklearn-color-fitted-level-3);\n",
       "}\n",
       "</style><div id=\"sk-container-id-1\" class=\"sk-top-container\"><div class=\"sk-text-repr-fallback\"><pre>TPOTClassifier(config_dict=&#x27;TPOT light&#x27;, generations=5, n_jobs=-1,\n",
       "               population_size=20, random_state=42, verbosity=2)</pre><b>In a Jupyter environment, please rerun this cell to show the HTML representation or trust the notebook. <br />On GitHub, the HTML representation is unable to render, please try loading this page with nbviewer.org.</b></div><div class=\"sk-container\" hidden><div class=\"sk-item\"><div class=\"sk-estimator fitted sk-toggleable\"><input class=\"sk-toggleable__control sk-hidden--visually\" id=\"sk-estimator-id-1\" type=\"checkbox\" checked><label for=\"sk-estimator-id-1\" class=\"sk-toggleable__label fitted sk-toggleable__label-arrow fitted\">&nbsp;TPOTClassifier<span class=\"sk-estimator-doc-link fitted\">i<span>Fitted</span></span></label><div class=\"sk-toggleable__content fitted\"><pre>TPOTClassifier(config_dict=&#x27;TPOT light&#x27;, generations=5, n_jobs=-1,\n",
       "               population_size=20, random_state=42, verbosity=2)</pre></div> </div></div></div></div>"
      ],
      "text/plain": [
       "TPOTClassifier(config_dict='TPOT light', generations=5, n_jobs=-1,\n",
       "               population_size=20, random_state=42, verbosity=2)"
      ]
     },
     "execution_count": 22,
     "metadata": {},
     "output_type": "execute_result"
    }
   ],
   "source": [
    "tpot"
   ]
  },
  {
   "cell_type": "code",
   "execution_count": 24,
   "id": "e8518ef1-73af-41ab-8d36-df207f358d9c",
   "metadata": {},
   "outputs": [
    {
     "name": "stdout",
     "output_type": "stream",
     "text": [
      "\n",
      "ROC-AUC: 0.6190\n",
      "\n",
      "Validation Metrics:\n",
      "Confusion Matrix:\n",
      " [[40  6]\n",
      " [12  7]]\n",
      "F1-score: 0.4375\n",
      "Classification Report:\n",
      "               precision    recall  f1-score   support\n",
      "\n",
      "           0       0.77      0.87      0.82        46\n",
      "           1       0.54      0.37      0.44        19\n",
      "\n",
      "    accuracy                           0.72        65\n",
      "   macro avg       0.65      0.62      0.63        65\n",
      "weighted avg       0.70      0.72      0.71        65\n",
      "\n"
     ]
    }
   ],
   "source": [
    "# Оценка с оптимизацией порога\n",
    "test_predict = tpot.predict_proba(X_test)[:, 1]\n",
    "print(f\"\\nROC-AUC: {roc_auc_score(y_test, test_predict):.4f}\")\n",
    "\n",
    "# Поиск оптимального порога через F1-score\n",
    "# thresholds = np.linspace(0, 1, 100)\n",
    "# f1_scores = [f1_score(y_test, (test_predict >= t).astype(int)) for t in thresholds]\n",
    "# best_threshold = thresholds[np.argmax(f1_scores)]\n",
    "# print(f'Best threshold: {best_threshold:.4f}')\n",
    "best_threshold = 0.5\n",
    "\n",
    "# Метрики на валидации\n",
    "y_pred_test = (test_predict >= best_threshold).astype(int)\n",
    "print(\"\\nValidation Metrics:\")\n",
    "print(\"Confusion Matrix:\\n\", confusion_matrix(y_test, y_pred_test))\n",
    "print(\"F1-score:\", f1_score(y_test, y_pred_test))\n",
    "print(\"Classification Report:\\n\", classification_report(y_test, y_pred_test))"
   ]
  },
  {
   "cell_type": "markdown",
   "id": "fabffd4b-6fb0-4082-ae7f-d97ca6d3e8e1",
   "metadata": {},
   "source": [
    "#### FEDOT"
   ]
  },
  {
   "cell_type": "code",
   "execution_count": 25,
   "id": "0c0ead66-f231-4c9b-8349-01c92b6f12b4",
   "metadata": {},
   "outputs": [
    {
     "name": "stderr",
     "output_type": "stream",
     "text": [
      "Level 100:root:Topological features operation requires extra dependencies for time series forecasting, which are not installed. It can infuence the performance. Please install it by 'pip install fedot[extra]'\n"
     ]
    },
    {
     "name": "stdout",
     "output_type": "stream",
     "text": [
      "2025-04-18 21:00:11,621 - Topological features operation requires extra dependencies for time series forecasting, which are not installed. It can infuence the performance. Please install it by 'pip install fedot[extra]'\n"
     ]
    },
    {
     "name": "stderr",
     "output_type": "stream",
     "text": [
      "Level 45:root:ApiComposer - Initial pipeline was fitted in 56.4 sec.\n"
     ]
    },
    {
     "name": "stdout",
     "output_type": "stream",
     "text": [
      "2025-04-18 21:01:08,592 - ApiComposer - Initial pipeline was fitted in 56.4 sec.\n"
     ]
    },
    {
     "name": "stderr",
     "output_type": "stream",
     "text": [
      "Level 45:root:ApiComposer - Taking into account n_folds=5, estimated fit time for initial assumption is 282.2 sec.\n"
     ]
    },
    {
     "name": "stdout",
     "output_type": "stream",
     "text": [
      "2025-04-18 21:01:08,593 - ApiComposer - Taking into account n_folds=5, estimated fit time for initial assumption is 282.2 sec.\n"
     ]
    },
    {
     "name": "stderr",
     "output_type": "stream",
     "text": [
      "Level 45:root:ApiComposer - AutoML configured. Parameters tuning: True. Time limit: 10 min. Set of candidate models: ['bernb', 'dt', 'knn', 'logit', 'normalization', 'pca', 'qda', 'rf', 'scaling'].\n"
     ]
    },
    {
     "name": "stdout",
     "output_type": "stream",
     "text": [
      "2025-04-18 21:01:08,599 - ApiComposer - AutoML configured. Parameters tuning: True. Time limit: 10 min. Set of candidate models: ['bernb', 'dt', 'knn', 'logit', 'normalization', 'pca', 'qda', 'rf', 'scaling'].\n"
     ]
    },
    {
     "name": "stderr",
     "output_type": "stream",
     "text": [
      "Level 45:root:ApiComposer - Timeout is too small for composing and is skipped because fit_time is 282.17046 sec.\n"
     ]
    },
    {
     "name": "stdout",
     "output_type": "stream",
     "text": [
      "2025-04-18 21:01:08,629 - ApiComposer - Timeout is too small for composing and is skipped because fit_time is 282.17046 sec.\n"
     ]
    },
    {
     "name": "stderr",
     "output_type": "stream",
     "text": [
      "Level 45:root:ApiComposer - Hyperparameters tuning started with 9 min. timeout\n"
     ]
    },
    {
     "name": "stdout",
     "output_type": "stream",
     "text": [
      "2025-04-18 21:01:08,635 - ApiComposer - Hyperparameters tuning started with 9 min. timeout\n"
     ]
    },
    {
     "name": "stderr",
     "output_type": "stream",
     "text": [
      "Level 45:root:SimultaneousTuner - Initial graph: {'depth': 2, 'length': 2, 'nodes': [rf, scaling]}\n",
      "rf - {'n_jobs': 12}\n",
      "scaling - {} \n",
      "Initial metric: [0.825]\n"
     ]
    },
    {
     "name": "stdout",
     "output_type": "stream",
     "text": [
      "2025-04-18 21:06:01,919 - SimultaneousTuner - Initial graph: {'depth': 2, 'length': 2, 'nodes': [rf, scaling]}\n",
      "rf - {'n_jobs': 12}\n",
      "scaling - {} \n",
      "Initial metric: [0.825]\n",
      "  0%|                                            | 1/100000 [05:06<8501:29:51, 306.06s/trial, best loss: -0.7865686286722725]\n"
     ]
    },
    {
     "name": "stderr",
     "output_type": "stream",
     "text": [
      "Level 45:root:SimultaneousTuner - Final graph: {'depth': 2, 'length': 2, 'nodes': [rf, scaling]}\n",
      "rf - {'n_jobs': 12}\n",
      "scaling - {}\n"
     ]
    },
    {
     "name": "stdout",
     "output_type": "stream",
     "text": [
      "2025-04-18 21:16:00,299 - SimultaneousTuner - Final graph: {'depth': 2, 'length': 2, 'nodes': [rf, scaling]}\n",
      "rf - {'n_jobs': 12}\n",
      "scaling - {}\n"
     ]
    },
    {
     "name": "stderr",
     "output_type": "stream",
     "text": [
      "Level 45:root:SimultaneousTuner - Final metric: 0.825\n"
     ]
    },
    {
     "name": "stdout",
     "output_type": "stream",
     "text": [
      "2025-04-18 21:16:00,301 - SimultaneousTuner - Final metric: 0.825\n"
     ]
    },
    {
     "name": "stderr",
     "output_type": "stream",
     "text": [
      "Level 45:root:ApiComposer - Hyperparameters tuning finished\n"
     ]
    },
    {
     "name": "stdout",
     "output_type": "stream",
     "text": [
      "2025-04-18 21:16:00,304 - ApiComposer - Hyperparameters tuning finished\n"
     ]
    },
    {
     "name": "stderr",
     "output_type": "stream",
     "text": [
      "Level 45:root:ApiComposer - Model generation finished\n"
     ]
    },
    {
     "name": "stdout",
     "output_type": "stream",
     "text": [
      "2025-04-18 21:16:00,690 - ApiComposer - Model generation finished\n"
     ]
    },
    {
     "name": "stderr",
     "output_type": "stream",
     "text": [
      "Level 45:root:FEDOT logger - Final pipeline was fitted\n"
     ]
    },
    {
     "name": "stdout",
     "output_type": "stream",
     "text": [
      "2025-04-18 21:16:39,960 - FEDOT logger - Final pipeline was fitted\n"
     ]
    },
    {
     "name": "stderr",
     "output_type": "stream",
     "text": [
      "Level 45:root:FEDOT logger - Final pipeline: {'depth': 2, 'length': 2, 'nodes': [rf, scaling]}\n",
      "rf - {'n_jobs': 12}\n",
      "scaling - {}\n"
     ]
    },
    {
     "name": "stdout",
     "output_type": "stream",
     "text": [
      "2025-04-18 21:16:39,962 - FEDOT logger - Final pipeline: {'depth': 2, 'length': 2, 'nodes': [rf, scaling]}\n",
      "rf - {'n_jobs': 12}\n",
      "scaling - {}\n",
      "FEDOT Accuracy: 0.82\n"
     ]
    }
   ],
   "source": [
    "from fedot.api.main import Fedot\n",
    "from fedot.core.repository.tasks import Task, TaskTypesEnum\n",
    "from sklearn.model_selection import train_test_split\n",
    "from sklearn.preprocessing import LabelEncoder\n",
    "from sklearn.metrics import accuracy_score\n",
    "import numpy as np\n",
    "from PIL import Image\n",
    "from glob import glob\n",
    "\n",
    "\n",
    "# Создание и обучение FEDOT модели\n",
    "task = Task(TaskTypesEnum.classification)\n",
    "fedot_model = Fedot(problem='classification', \n",
    "                    task_params=task.task_params,\n",
    "                    timeout=10,\n",
    "                    n_jobs=-1,\n",
    "                    preset='fast_train')\n",
    "\n",
    "\n",
    "pipeline = fedot_model.fit(features=X_train, target=y_train)\n",
    "\n",
    "\n",
    "y_pred = fedot_model.predict(features=X_test)\n",
    "print(f\"FEDOT Accuracy: {accuracy_score(y_test, y_pred):.2f}\")\n",
    "\n",
    "# Сохранение пайплайна\n",
    "# fedot_model.save('EEG2/eeg_fedot_pipeline')"
   ]
  },
  {
   "cell_type": "code",
   "execution_count": 26,
   "id": "a74f6008-212e-476a-95d1-b3d5f79d4649",
   "metadata": {},
   "outputs": [
    {
     "data": {
      "text/plain": [
       "((65,), (65, 1), (65, 16384))"
      ]
     },
     "execution_count": 26,
     "metadata": {},
     "output_type": "execute_result"
    }
   ],
   "source": [
    "y_test.shape, y_pred.shape, X_test.shape"
   ]
  },
  {
   "cell_type": "code",
   "execution_count": 27,
   "id": "c2a18c85-3b8f-4330-8013-590f8cc99b87",
   "metadata": {},
   "outputs": [
    {
     "name": "stdout",
     "output_type": "stream",
     "text": [
      "\n",
      "ROC-AUC: 0.6842\n",
      "Best threshold: 0.0101\n",
      "\n",
      "Validation Metrics:\n",
      "Confusion Matrix:\n",
      " [[46  0]\n",
      " [12  7]]\n",
      "F1-score: 0.5384615384615384\n",
      "Classification Report:\n",
      "               precision    recall  f1-score   support\n",
      "\n",
      "           0       0.79      1.00      0.88        46\n",
      "           1       1.00      0.37      0.54        19\n",
      "\n",
      "    accuracy                           0.82        65\n",
      "   macro avg       0.90      0.68      0.71        65\n",
      "weighted avg       0.85      0.82      0.78        65\n",
      "\n"
     ]
    }
   ],
   "source": [
    "print(f\"\\nROC-AUC: {roc_auc_score(y_test, y_pred):.4f}\")\n",
    "\n",
    "# Поиск оптимального порога через F1-score\n",
    "thresholds = np.linspace(0, 1, 100)\n",
    "f1_scores = [f1_score(y_test, (y_pred >= t).astype(int)) for t in thresholds]\n",
    "best_threshold = thresholds[np.argmax(f1_scores)]\n",
    "print(f'Best threshold: {best_threshold:.4f}')\n",
    "\n",
    "# Метрики на валидации\n",
    "y_pred_test = (y_pred >= best_threshold).astype(int)\n",
    "print(\"\\nValidation Metrics:\")\n",
    "print(\"Confusion Matrix:\\n\", confusion_matrix(y_test, y_pred_test))\n",
    "print(\"F1-score:\", f1_score(y_test, y_pred_test))\n",
    "print(\"Classification Report:\\n\", classification_report(y_test, y_pred_test))"
   ]
  },
  {
   "cell_type": "code",
   "execution_count": null,
   "id": "06ae5d35-71b3-468d-a811-ec04fb5f3c66",
   "metadata": {},
   "outputs": [],
   "source": []
  },
  {
   "cell_type": "markdown",
   "id": "ec182111-55b2-4a16-a0b9-39bc0e036c28",
   "metadata": {},
   "source": [
    "#### lightautoml"
   ]
  },
  {
   "cell_type": "code",
   "execution_count": 28,
   "id": "fce2081e-fb2f-4fff-88ae-50cadc8ee819",
   "metadata": {},
   "outputs": [
    {
     "name": "stdout",
     "output_type": "stream",
     "text": [
      "LightAutoML Accuracy: 0.77\n"
     ]
    }
   ],
   "source": [
    "from lightautoml.automl.presets.tabular_presets import TabularAutoML\n",
    "from lightautoml.tasks import Task\n",
    "\n",
    "\n",
    "X_df = pd.DataFrame(X)\n",
    "X_df.columns = [f'pixel_{i}' for i in range(X_df.shape[1])]  # имена признакам\n",
    "y = LabelEncoder().fit_transform(labels)\n",
    "\n",
    "# Разделение данных\n",
    "X_train, X_test, y_train, y_test = train_test_split(X_df, y, test_size=0.2, random_state=42)\n",
    "\n",
    "\n",
    "task = Task('binary', metric='accuracy')\n",
    "\n",
    "# Настройки AutoML\n",
    "automl = TabularAutoML(\n",
    "    task=task,\n",
    "    timeout=300,  \n",
    "    cpu_limit=-1, \n",
    "    general_params={'use_algos': [['lgb', 'lgb_tuned', 'linear_l2', 'cb', 'cb_tuned']]},\n",
    "    reader_params={'cv': 3, 'random_state': 42}\n",
    ")\n",
    "\n",
    "\n",
    "oof_pred = automl.fit_predict(\n",
    "    {'data': X_train, 'target': y_train},\n",
    "    roles={'target': 'target'}\n",
    ")\n",
    "\n",
    "# Предсказание и оценка\n",
    "y_pred = automl.predict(X_test).data[:, 0]\n",
    "print(f\"LightAutoML Accuracy: {accuracy_score(y_test, y_pred > 0.5):.2f}\")\n"
   ]
  },
  {
   "cell_type": "code",
   "execution_count": 29,
   "id": "0d204a3a-700b-4545-bfd2-ed045a1df0af",
   "metadata": {},
   "outputs": [
    {
     "name": "stdout",
     "output_type": "stream",
     "text": [
      "\n",
      "ROC-AUC: 0.9119\n",
      "Best threshold: 0.2727\n",
      "\n",
      "Validation Metrics:\n",
      "Confusion Matrix:\n",
      " [[37  9]\n",
      " [ 2 17]]\n",
      "F1-score: 0.7555555555555555\n",
      "Classification Report:\n",
      "               precision    recall  f1-score   support\n",
      "\n",
      "           0       0.95      0.80      0.87        46\n",
      "           1       0.65      0.89      0.76        19\n",
      "\n",
      "    accuracy                           0.83        65\n",
      "   macro avg       0.80      0.85      0.81        65\n",
      "weighted avg       0.86      0.83      0.84        65\n",
      "\n"
     ]
    }
   ],
   "source": [
    "print(f\"\\nROC-AUC: {roc_auc_score(y_test, y_pred):.4f}\")\n",
    "\n",
    "# Поиск оптимального порога через F1-score\n",
    "thresholds = np.linspace(0, 1, 100)\n",
    "f1_scores = [f1_score(y_test, (y_pred >= t).astype(int)) for t in thresholds]\n",
    "best_threshold = thresholds[np.argmax(f1_scores)]\n",
    "print(f'Best threshold: {best_threshold:.4f}')\n",
    "\n",
    "# Метрики на валидации\n",
    "y_pred_test = (y_pred >= best_threshold).astype(int)\n",
    "print(\"\\nValidation Metrics:\")\n",
    "print(\"Confusion Matrix:\\n\", confusion_matrix(y_test, y_pred_test))\n",
    "print(\"F1-score:\", f1_score(y_test, y_pred_test))\n",
    "print(\"Classification Report:\\n\", classification_report(y_test, y_pred_test))"
   ]
  },
  {
   "cell_type": "code",
   "execution_count": null,
   "id": "5216ad4e-eb79-40b6-a105-741f7de7d158",
   "metadata": {},
   "outputs": [],
   "source": []
  },
  {
   "cell_type": "code",
   "execution_count": null,
   "id": "9db28b6e-5ca6-4219-aa9d-9fa96f4d8e59",
   "metadata": {},
   "outputs": [],
   "source": []
  },
  {
   "cell_type": "markdown",
   "id": "11f6419d-efb6-470f-82be-42f4f7edfb78",
   "metadata": {},
   "source": [
    "#### MLFlow"
   ]
  },
  {
   "cell_type": "code",
   "execution_count": 30,
   "id": "3b330c2d-2534-4736-bc80-dd03748dbd62",
   "metadata": {},
   "outputs": [
    {
     "name": "stderr",
     "output_type": "stream",
     "text": [
      "/Users/vladimir/miniconda3/envs/py39_jupyter/lib/python3.9/site-packages/mlflow/pyfunc/utils/data_validation.py:186: UserWarning: \u001b[33mAdd type hints to the `predict` method to enable data validation and automatic signature inference during model logging. Check https://mlflow.org/docs/latest/model/python_model.html#type-hint-usage-in-pythonmodel for more details.\u001b[0m\n",
      "  color_warning(\n"
     ]
    },
    {
     "data": {
      "text/plain": [
       "<Experiment: artifact_location='/Users/vladimir/Desktop/University/ppa/labs/artifacts/3', creation_time=1744904699558, experiment_id='3', last_update_time=1744904699558, lifecycle_stage='active', name='ppa_lab', tags={}>"
      ]
     },
     "execution_count": 30,
     "metadata": {},
     "output_type": "execute_result"
    }
   ],
   "source": [
    "import mlflow\n",
    "from mlflow.pyfunc import PythonModel\n",
    "\n",
    "class LightAutoMLWrapper(PythonModel):\n",
    "    def __init__(self, automl):\n",
    "        self.automl = automl\n",
    "        \n",
    "    def predict(self, context, model_input):\n",
    "        predictions = self.automl.predict(model_input)\n",
    "        # Convert NumpyDataset to JSON-serializable format\n",
    "        return predictions.data[:, 0]\n",
    "\n",
    "mlflow.set_tracking_uri(\"http://localhost:5000\")\n",
    "mlflow.set_experiment(\"ppa_lab\")"
   ]
  },
  {
   "cell_type": "code",
   "execution_count": 40,
   "id": "83909e12-1870-4d0f-913e-cb3bf61c6bb7",
   "metadata": {},
   "outputs": [
    {
     "name": "stderr",
     "output_type": "stream",
     "text": [
      "\u001b[31m2025/04/19 00:15:23 WARNING mlflow.models.model: Model logged without a signature and input example. Please set `input_example` parameter when logging the model to auto infer the model signature.\u001b[0m\n"
     ]
    },
    {
     "name": "stdout",
     "output_type": "stream",
     "text": [
      "🏃 View run lr5 at: http://localhost:5000/#/experiments/3/runs/9591d0890edf4785b14b0b30b3843c81\n",
      "🧪 View experiment at: http://localhost:5000/#/experiments/3\n"
     ]
    }
   ],
   "source": [
    "lab = 'lr5'\n",
    "# Save to MLflow\n",
    "with mlflow.start_run(run_name=lab):\n",
    "    wrapped_model = LightAutoMLWrapper(automl)\n",
    "\n",
    "    mlflow.pyfunc.log_model(\n",
    "        artifact_path=lab,\n",
    "        python_model=wrapped_model,\n",
    "    )"
   ]
  },
  {
   "cell_type": "code",
   "execution_count": 41,
   "id": "586fecca-a6ee-447f-bf95-f2745d6f8583",
   "metadata": {},
   "outputs": [],
   "source": [
    "# проверка корректности выгрузки модели из mlflow\n",
    "run_id = '9591d0890edf4785b14b0b30b3843c81'\n",
    "loaded_model = mlflow.pyfunc.load_model(f\"runs:/{run_id}/{lab}\")\n",
    "predictions_mlflow = loaded_model.predict(X_test)"
   ]
  },
  {
   "cell_type": "code",
   "execution_count": 42,
   "id": "7173cc0f-6182-487f-8b65-aa9579296856",
   "metadata": {},
   "outputs": [
    {
     "data": {
      "application/vnd.jupyter.widget-view+json": {
       "model_id": "4f33e60ba6ed4365a617247b714c2353",
       "version_major": 2,
       "version_minor": 0
      },
      "text/plain": [
       "Downloading artifacts:   0%|          | 0/5 [00:00<?, ?it/s]"
      ]
     },
     "metadata": {},
     "output_type": "display_data"
    },
    {
     "data": {
      "text/plain": [
       "'/Users/vladimir/Desktop/University/ppa/labs/downloaded_model/lr5'"
      ]
     },
     "execution_count": 42,
     "metadata": {},
     "output_type": "execute_result"
    }
   ],
   "source": [
    "# сохранение артефактов локально\n",
    "mlflow.artifacts.download_artifacts(\n",
    "    run_id=run_id,\n",
    "    artifact_path=lab, \n",
    "    dst_path=\"./downloaded_model\"\n",
    ")"
   ]
  },
  {
   "cell_type": "code",
   "execution_count": 44,
   "id": "36b63475-5b36-4f5e-8d47-5da4f64c5ac0",
   "metadata": {},
   "outputs": [
    {
     "name": "stdout",
     "output_type": "stream",
     "text": [
      "\n"
     ]
    }
   ],
   "source": [
    "# !mlflow models serve -m \"./downloaded_model/lr5\" --port 1234 --no-conda\n",
    "# проверка сервиса\n",
    "!curl http://localhost:1234/ping"
   ]
  },
  {
   "cell_type": "code",
   "execution_count": 45,
   "id": "749e21c7-aa82-4efe-b0c5-ee061a3dd5be",
   "metadata": {},
   "outputs": [],
   "source": [
    "\n",
    "import requests\n",
    "\n",
    "# отправка post запроса к развернутому сервису\n",
    "response = requests.post(\n",
    "    \"http://localhost:1234/invocations\",\n",
    "    json={\"dataframe_records\": X_test.to_dict(orient=\"records\")}\n",
    ")\n"
   ]
  },
  {
   "cell_type": "code",
   "execution_count": 46,
   "id": "a8f7c793-0ee0-4020-8f82-f2fdd03c9e77",
   "metadata": {},
   "outputs": [],
   "source": [
    "predictions_mlflow_server = response.json()['predictions']"
   ]
  },
  {
   "cell_type": "code",
   "execution_count": 47,
   "id": "f49f9aa7-7f20-41fd-ac2d-7ecad62f3b64",
   "metadata": {},
   "outputs": [],
   "source": [
    "test_predict = automl.predict(X_test).data.flatten()"
   ]
  },
  {
   "cell_type": "code",
   "execution_count": 48,
   "id": "0c4a287b-1fce-412a-8f8f-c7ff7a52927e",
   "metadata": {},
   "outputs": [
    {
     "data": {
      "text/plain": [
       "True"
      ]
     },
     "execution_count": 48,
     "metadata": {},
     "output_type": "execute_result"
    }
   ],
   "source": [
    "np.allclose(predictions_mlflow, test_predict)"
   ]
  },
  {
   "cell_type": "code",
   "execution_count": 49,
   "id": "5b092b07-ddc7-49e4-be96-d35cce0a9954",
   "metadata": {},
   "outputs": [
    {
     "data": {
      "text/plain": [
       "True"
      ]
     },
     "execution_count": 49,
     "metadata": {},
     "output_type": "execute_result"
    }
   ],
   "source": [
    "np.allclose(predictions_mlflow_server, test_predict)"
   ]
  },
  {
   "cell_type": "markdown",
   "id": "49ad462b-0f0d-43f6-9137-f733e306a00e",
   "metadata": {},
   "source": [
    "Сохранение модели в mlflow и ее развертывание с помощью mlflow server прошло корректно, резульаты работы модели совпадают с исходными"
   ]
  },
  {
   "cell_type": "code",
   "execution_count": null,
   "id": "c31ae6c4-7792-4ed4-b024-8a41414bd55e",
   "metadata": {},
   "outputs": [],
   "source": []
  }
 ],
 "metadata": {
  "kernelspec": {
   "display_name": "Python 3 (ipykernel)",
   "language": "python",
   "name": "python3"
  },
  "language_info": {
   "codemirror_mode": {
    "name": "ipython",
    "version": 3
   },
   "file_extension": ".py",
   "mimetype": "text/x-python",
   "name": "python",
   "nbconvert_exporter": "python",
   "pygments_lexer": "ipython3",
   "version": "3.9.18"
  }
 },
 "nbformat": 4,
 "nbformat_minor": 5
}
