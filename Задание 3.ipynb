{
 "cells": [
  {
   "cell_type": "markdown",
   "id": "c584b998-8e3d-4478-919e-2df11d24bf66",
   "metadata": {},
   "source": [
    "## Задание 3"
   ]
  },
  {
   "cell_type": "markdown",
   "id": "be2db521-9b70-4e44-aea4-c06280839660",
   "metadata": {},
   "source": [
    "Цель задания: \n",
    " - обработка кардиологического дата-сета для решения задач бинарной классификации\n",
    "\n",
    "\n",
    "Ключевой навык:\n",
    " - применение AutoML моделей, расчет точности классификатора \n",
    "\n",
    "Датасет: Необходимо загрузить датасет, расположенный по адресу (см. файлы с названием «модуль 3….»): https://github.com/AI-is-out-there/data2lab.git.  "
   ]
  },
  {
   "cell_type": "markdown",
   "id": "95e73a6b-29ac-4535-83ca-3137e13e1a35",
   "metadata": {
    "jp-MarkdownHeadingCollapsed": true
   },
   "source": [
    "#### 1.\t\n",
    "Сформировать обучающую выборку из загруженного датасета, состоящую из столбцов: ['Count_subj', 'rr_interval', 'p_end',  'qrs_onset', 'qrs_end', 'p_axis', 'qrs_axis', 't_axis', 'Healthy_Status’]. Датасет состоит из числовых параметров ЭКГ и классификационного признака Healthy_Status. "
   ]
  },
  {
   "cell_type": "code",
   "execution_count": 1,
   "id": "69d5f708-8c0e-45e6-a34c-14d749a3731b",
   "metadata": {},
   "outputs": [],
   "source": [
    "import pandas as pd\n",
    "from urllib.parse import quote\n",
    "\n",
    "from sklearn.metrics import confusion_matrix, f1_score, classification_report, roc_auc_score\n",
    "import numpy as np\n",
    "\n",
    "import logging\n",
    "\n",
    "from sklearn.model_selection import train_test_split\n",
    "from sklearn.metrics import accuracy_score\n"
   ]
  },
  {
   "cell_type": "code",
   "execution_count": 2,
   "id": "399a679f-9b39-454d-ae27-eac73c41dc7d",
   "metadata": {},
   "outputs": [
    {
     "name": "stdout",
     "output_type": "stream",
     "text": [
      "(10000, 36)\n"
     ]
    },
    {
     "data": {
      "text/html": [
       "<div>\n",
       "<style scoped>\n",
       "    .dataframe tbody tr th:only-of-type {\n",
       "        vertical-align: middle;\n",
       "    }\n",
       "\n",
       "    .dataframe tbody tr th {\n",
       "        vertical-align: top;\n",
       "    }\n",
       "\n",
       "    .dataframe thead th {\n",
       "        text-align: right;\n",
       "    }\n",
       "</style>\n",
       "<table border=\"1\" class=\"dataframe\">\n",
       "  <thead>\n",
       "    <tr style=\"text-align: right;\">\n",
       "      <th></th>\n",
       "      <th>subject_id</th>\n",
       "      <th>Count_subj</th>\n",
       "      <th>study_id</th>\n",
       "      <th>cart_id</th>\n",
       "      <th>Healthy_Status</th>\n",
       "      <th>eeg_time</th>\n",
       "      <th>eeg_date</th>\n",
       "      <th>report_0</th>\n",
       "      <th>report_1</th>\n",
       "      <th>report_2</th>\n",
       "      <th>...</th>\n",
       "      <th>filtering</th>\n",
       "      <th>rr_interval</th>\n",
       "      <th>p_onset</th>\n",
       "      <th>p_end</th>\n",
       "      <th>qrs_onset</th>\n",
       "      <th>qrs_end</th>\n",
       "      <th>t_end</th>\n",
       "      <th>p_axis</th>\n",
       "      <th>qrs_axis</th>\n",
       "      <th>t_axis</th>\n",
       "    </tr>\n",
       "  </thead>\n",
       "  <tbody>\n",
       "    <tr>\n",
       "      <th>0</th>\n",
       "      <td>19557662</td>\n",
       "      <td>27</td>\n",
       "      <td>40000017</td>\n",
       "      <td>6848296</td>\n",
       "      <td>0</td>\n",
       "      <td>8:44 AM</td>\n",
       "      <td>27.06.2015</td>\n",
       "      <td>Sinus rhythm</td>\n",
       "      <td>Possible right atrial abnormality</td>\n",
       "      <td>NaN</td>\n",
       "      <td>...</td>\n",
       "      <td>60 Hz notch Baseline filter</td>\n",
       "      <td>659</td>\n",
       "      <td>40</td>\n",
       "      <td>128</td>\n",
       "      <td>170</td>\n",
       "      <td>258</td>\n",
       "      <td>518</td>\n",
       "      <td>81</td>\n",
       "      <td>77</td>\n",
       "      <td>79</td>\n",
       "    </tr>\n",
       "    <tr>\n",
       "      <th>1</th>\n",
       "      <td>18477137</td>\n",
       "      <td>93</td>\n",
       "      <td>40000029</td>\n",
       "      <td>6848296</td>\n",
       "      <td>0</td>\n",
       "      <td>9:54 AM</td>\n",
       "      <td>27.06.2015</td>\n",
       "      <td>Sinus rhythm</td>\n",
       "      <td>Possible right atrial abnormality</td>\n",
       "      <td>NaN</td>\n",
       "      <td>...</td>\n",
       "      <td>60 Hz notch Baseline filter</td>\n",
       "      <td>722</td>\n",
       "      <td>40</td>\n",
       "      <td>124</td>\n",
       "      <td>162</td>\n",
       "      <td>246</td>\n",
       "      <td>504</td>\n",
       "      <td>77</td>\n",
       "      <td>75</td>\n",
       "      <td>70</td>\n",
       "    </tr>\n",
       "    <tr>\n",
       "      <th>2</th>\n",
       "      <td>16598616</td>\n",
       "      <td>3</td>\n",
       "      <td>40000035</td>\n",
       "      <td>6376932</td>\n",
       "      <td>1</td>\n",
       "      <td>9:07 AM</td>\n",
       "      <td>28.06.2015</td>\n",
       "      <td>Sinus tachycardia</td>\n",
       "      <td>NaN</td>\n",
       "      <td>Normal ECG except for rate</td>\n",
       "      <td>...</td>\n",
       "      <td>60 Hz notch Baseline filter</td>\n",
       "      <td>600</td>\n",
       "      <td>40</td>\n",
       "      <td>130</td>\n",
       "      <td>162</td>\n",
       "      <td>244</td>\n",
       "      <td>474</td>\n",
       "      <td>79</td>\n",
       "      <td>72</td>\n",
       "      <td>77</td>\n",
       "    </tr>\n",
       "    <tr>\n",
       "      <th>3</th>\n",
       "      <td>16368287</td>\n",
       "      <td>7</td>\n",
       "      <td>40000079</td>\n",
       "      <td>6214760</td>\n",
       "      <td>1</td>\n",
       "      <td>5:14 PM</td>\n",
       "      <td>15.07.2015</td>\n",
       "      <td>Sinus rhythm</td>\n",
       "      <td>NaN</td>\n",
       "      <td>Normal ECG</td>\n",
       "      <td>...</td>\n",
       "      <td>60 Hz notch Baseline filter</td>\n",
       "      <td>659</td>\n",
       "      <td>40</td>\n",
       "      <td>146</td>\n",
       "      <td>180</td>\n",
       "      <td>254</td>\n",
       "      <td>538</td>\n",
       "      <td>79</td>\n",
       "      <td>66</td>\n",
       "      <td>69</td>\n",
       "    </tr>\n",
       "    <tr>\n",
       "      <th>4</th>\n",
       "      <td>18370366</td>\n",
       "      <td>2</td>\n",
       "      <td>40000084</td>\n",
       "      <td>6632385</td>\n",
       "      <td>0</td>\n",
       "      <td>1:52 PM</td>\n",
       "      <td>27.09.2015</td>\n",
       "      <td>Sinus rhythm</td>\n",
       "      <td>NaN</td>\n",
       "      <td>NaN</td>\n",
       "      <td>...</td>\n",
       "      <td>&lt;not specified&gt;</td>\n",
       "      <td>659</td>\n",
       "      <td>368</td>\n",
       "      <td>29999</td>\n",
       "      <td>504</td>\n",
       "      <td>590</td>\n",
       "      <td>868</td>\n",
       "      <td>84</td>\n",
       "      <td>80</td>\n",
       "      <td>77</td>\n",
       "    </tr>\n",
       "  </tbody>\n",
       "</table>\n",
       "<p>5 rows × 36 columns</p>\n",
       "</div>"
      ],
      "text/plain": [
       "   subject_id  Count_subj  study_id  cart_id  Healthy_Status eeg_time   \\\n",
       "0    19557662          27  40000017  6848296               0   8:44 AM   \n",
       "1    18477137          93  40000029  6848296               0   9:54 AM   \n",
       "2    16598616           3  40000035  6376932               1   9:07 AM   \n",
       "3    16368287           7  40000079  6214760               1   5:14 PM   \n",
       "4    18370366           2  40000084  6632385               0   1:52 PM   \n",
       "\n",
       "    eeg_date            report_0                           report_1  \\\n",
       "0  27.06.2015       Sinus rhythm  Possible right atrial abnormality   \n",
       "1  27.06.2015       Sinus rhythm  Possible right atrial abnormality   \n",
       "2  28.06.2015  Sinus tachycardia                                NaN   \n",
       "3  15.07.2015       Sinus rhythm                                NaN   \n",
       "4  27.09.2015       Sinus rhythm                                NaN   \n",
       "\n",
       "                     report_2  ...                    filtering rr_interval  \\\n",
       "0                         NaN  ...  60 Hz notch Baseline filter         659   \n",
       "1                         NaN  ...  60 Hz notch Baseline filter         722   \n",
       "2  Normal ECG except for rate  ...  60 Hz notch Baseline filter         600   \n",
       "3                  Normal ECG  ...  60 Hz notch Baseline filter         659   \n",
       "4                         NaN  ...              <not specified>         659   \n",
       "\n",
       "  p_onset  p_end qrs_onset qrs_end t_end p_axis qrs_axis t_axis  \n",
       "0      40    128       170     258   518     81       77     79  \n",
       "1      40    124       162     246   504     77       75     70  \n",
       "2      40    130       162     244   474     79       72     77  \n",
       "3      40    146       180     254   538     79       66     69  \n",
       "4     368  29999       504     590   868     84       80     77  \n",
       "\n",
       "[5 rows x 36 columns]"
      ]
     },
     "execution_count": 2,
     "metadata": {},
     "output_type": "execute_result"
    }
   ],
   "source": [
    "base_url = \"https://raw.githubusercontent.com/AI-is-out-there/data2lab/main/\"\n",
    "filename = \"модуль 2 - датасет - практика.csv\"\n",
    "encoded_url = base_url + quote(filename)\n",
    "\n",
    "data = pd.read_csv(encoded_url)\n",
    "print(data.shape)\n",
    "data.head()"
   ]
  },
  {
   "cell_type": "code",
   "execution_count": 3,
   "id": "e89345a0-3372-434e-8d52-a724ba77da64",
   "metadata": {},
   "outputs": [],
   "source": [
    "columns = ['Count_subj', 'rr_interval', 'p_end', 'qrs_onset', 'qrs_end', 'p_axis', 'qrs_axis', 't_axis', 'Healthy_Status']\n",
    "data = data[columns]\n",
    "target = 'Healthy_Status'"
   ]
  },
  {
   "cell_type": "code",
   "execution_count": 4,
   "id": "c1f4d576-29e5-4689-b638-6acfeff21710",
   "metadata": {},
   "outputs": [],
   "source": [
    "data[target] = data[target].astype('category')"
   ]
  },
  {
   "cell_type": "code",
   "execution_count": 5,
   "id": "dcf6c0b4-a391-404b-85b8-fdc346a9bd4d",
   "metadata": {},
   "outputs": [
    {
     "data": {
      "text/plain": [
       "Count_subj        0\n",
       "rr_interval       0\n",
       "p_end             0\n",
       "qrs_onset         0\n",
       "qrs_end           0\n",
       "p_axis            0\n",
       "qrs_axis          0\n",
       "t_axis            0\n",
       "Healthy_Status    0\n",
       "dtype: int64"
      ]
     },
     "execution_count": 5,
     "metadata": {},
     "output_type": "execute_result"
    }
   ],
   "source": [
    "data.isna().sum()"
   ]
  },
  {
   "cell_type": "code",
   "execution_count": 6,
   "id": "05078c50-6613-46e5-87f2-f123bbc7aa1d",
   "metadata": {},
   "outputs": [],
   "source": [
    "# Разделение данных\n",
    "train_df, temp_df = train_test_split(data, test_size=0.3, random_state=42)\n",
    "val_df, test_df = train_test_split(temp_df, test_size=0.5, random_state=42)\n",
    "\n",
    "\n",
    "\n",
    "# Разделение на признаки и целевую переменную\n",
    "X_train, y_train = train_df.drop(target, axis=1), train_df[target]\n",
    "X_val, y_val = val_df.drop(target, axis=1), val_df[target]\n",
    "X_test, y_test = test_df.drop(target, axis=1), test_df[target]"
   ]
  },
  {
   "cell_type": "code",
   "execution_count": 7,
   "id": "1daae40d-f1ee-424d-bb9d-abc421224c35",
   "metadata": {},
   "outputs": [
    {
     "data": {
      "text/plain": [
       "Count_subj        0\n",
       "rr_interval       0\n",
       "p_end             0\n",
       "qrs_onset         0\n",
       "qrs_end           0\n",
       "p_axis            0\n",
       "qrs_axis          0\n",
       "t_axis            0\n",
       "Healthy_Status    0\n",
       "dtype: int64"
      ]
     },
     "execution_count": 7,
     "metadata": {},
     "output_type": "execute_result"
    }
   ],
   "source": [
    "data.isna().sum()"
   ]
  },
  {
   "cell_type": "code",
   "execution_count": 8,
   "id": "f649f481-7e2b-4ed5-8e5d-c9aae28f5fbd",
   "metadata": {},
   "outputs": [
    {
     "data": {
      "text/plain": [
       "(10000, 9)"
      ]
     },
     "execution_count": 8,
     "metadata": {},
     "output_type": "execute_result"
    }
   ],
   "source": [
    "data.shape"
   ]
  },
  {
   "cell_type": "code",
   "execution_count": 9,
   "id": "338ac87b-89f8-404b-af55-d65135b1a1e6",
   "metadata": {},
   "outputs": [
    {
     "data": {
      "text/plain": [
       "Count_subj           int64\n",
       "rr_interval          int64\n",
       "p_end                int64\n",
       "qrs_onset            int64\n",
       "qrs_end              int64\n",
       "p_axis               int64\n",
       "qrs_axis             int64\n",
       "t_axis               int64\n",
       "Healthy_Status    category\n",
       "dtype: object"
      ]
     },
     "execution_count": 9,
     "metadata": {},
     "output_type": "execute_result"
    }
   ],
   "source": [
    "data.dtypes"
   ]
  },
  {
   "cell_type": "code",
   "execution_count": 10,
   "id": "47371101-c064-4f89-b5bc-670eaca7846e",
   "metadata": {},
   "outputs": [
    {
     "data": {
      "text/plain": [
       "Healthy_Status\n",
       "0    7993\n",
       "1    2007\n",
       "Name: count, dtype: int64"
      ]
     },
     "execution_count": 10,
     "metadata": {},
     "output_type": "execute_result"
    }
   ],
   "source": [
    "data[target].value_counts()"
   ]
  },
  {
   "cell_type": "markdown",
   "id": "929610fd-82de-4dcc-872b-971b13eae719",
   "metadata": {
    "jp-MarkdownHeadingCollapsed": true
   },
   "source": [
    "#### 2.\n",
    "Используя выбранные ранее решения AutoML, найдите наиболее эффективное, используя такие метрика качества как: матрица ошибок (confusion matrix) и F1-метрика для оценки обученного классификатора по признаку Healthy_Status на основе данных параметров ЭКГ. "
   ]
  },
  {
   "cell_type": "markdown",
   "id": "f06e935d-a60b-4a02-bf58-18a12ea9cc16",
   "metadata": {
    "jp-MarkdownHeadingCollapsed": true
   },
   "source": [
    "#### fedot"
   ]
  },
  {
   "cell_type": "code",
   "execution_count": 11,
   "id": "a36e203a-b1f8-464a-a84a-3f6e1b1e6ba6",
   "metadata": {},
   "outputs": [],
   "source": [
    "from fedot.core.data.data import InputData\n",
    "from fedot.core.pipelines.pipeline import Pipeline\n",
    "from fedot.core.pipelines.node import PipelineNode\n",
    "from fedot.core.repository.tasks import Task, TaskTypesEnum"
   ]
  },
  {
   "cell_type": "code",
   "execution_count": 12,
   "id": "ff97a534-df84-40d4-a99c-91e405f5b04d",
   "metadata": {},
   "outputs": [
    {
     "name": "stdout",
     "output_type": "stream",
     "text": [
      "2025-04-18 16:11:02,336 - Topological features operation requires extra dependencies for time series forecasting, which are not installed. It can infuence the performance. Please install it by 'pip install fedot[extra]'\n"
     ]
    }
   ],
   "source": [
    "# Создание конвейера\n",
    "node_final = PipelineNode('rf', nodes_from=[PipelineNode('scaling')])\n",
    "pipeline = Pipeline(node_final)"
   ]
  },
  {
   "cell_type": "code",
   "execution_count": 13,
   "id": "b82f4a19-ac64-48af-bf40-3c837c241581",
   "metadata": {
    "scrolled": true
   },
   "outputs": [
    {
     "name": "stdout",
     "output_type": "stream",
     "text": [
      "2025-04-18 16:11:02,714 - TableTypesCorrector - Preprocessing was unable to define the categorical columns\n",
      "success fit\n"
     ]
    }
   ],
   "source": [
    "\n",
    "# Создание InputData с обработкой\n",
    "train_input = InputData.from_dataframe(\n",
    "    features_df=train_df.drop(target, axis=1),\n",
    "    target_df=train_df[target],\n",
    "    task=Task(TaskTypesEnum.classification)\n",
    ")\n",
    "\n",
    "val_input = InputData.from_dataframe(\n",
    "    features_df=val_df.drop(target, axis=1),\n",
    "    target_df=val_df[target],\n",
    "    task=Task(TaskTypesEnum.classification)\n",
    ")\n",
    "\n",
    "\n",
    "test_input = InputData.from_dataframe(\n",
    "    features_df=test_df.drop(target, axis=1),\n",
    "    target_df=test_df[target],\n",
    "    task=Task(TaskTypesEnum.classification)\n",
    ")\n",
    "\n",
    "# Оптимизированный пайплайн\n",
    "node_final = PipelineNode('rf', nodes_from=[\n",
    "    PipelineNode('scaling'),\n",
    "    PipelineNode('pca', params={'n_components': 5})  # Добавление PCA\n",
    "])\n",
    "pipeline = Pipeline(node_final)\n",
    "\n",
    "# Обучение с параметрами\n",
    "pipeline.fit(train_input)\n",
    "print('success fit')"
   ]
  },
  {
   "cell_type": "code",
   "execution_count": 14,
   "id": "ebf54189-f6ab-40f3-a038-25e4b20325d9",
   "metadata": {},
   "outputs": [
    {
     "data": {
      "text/plain": [
       "{'depth': 2, 'length': 3, 'nodes': [rf, scaling, pca]}"
      ]
     },
     "execution_count": 14,
     "metadata": {},
     "output_type": "execute_result"
    }
   ],
   "source": [
    "pipeline"
   ]
  },
  {
   "cell_type": "code",
   "execution_count": 15,
   "id": "eeb98dfe-f193-4f9c-82ad-ba02d42d2826",
   "metadata": {},
   "outputs": [
    {
     "name": "stdout",
     "output_type": "stream",
     "text": [
      "\n",
      "ROC-AUC: 0.9038\n",
      "best treshold: 0.24242424242424243\n",
      "Матрица ошибок:\n",
      " [[955 233]\n",
      " [ 18 294]]\n",
      "F1-метрика: 0.700834326579261\n",
      "Полный отчет:\n",
      "               precision    recall  f1-score   support\n",
      "\n",
      "           0       0.98      0.80      0.88      1188\n",
      "           1       0.56      0.94      0.70       312\n",
      "\n",
      "    accuracy                           0.83      1500\n",
      "   macro avg       0.77      0.87      0.79      1500\n",
      "weighted avg       0.89      0.83      0.85      1500\n",
      "\n"
     ]
    }
   ],
   "source": [
    "# Оценка с оптимизацией порога\n",
    "predicted = pipeline.predict(val_input)\n",
    "print(f\"\\nROC-AUC: {roc_auc_score(val_input.target, predicted.predict):.4f}\")\n",
    "\n",
    "# Поиск оптимального порога через F1-score\n",
    "thresholds = np.linspace(0, 1, 100)\n",
    "f1_scores = [f1_score(val_input.target, (predicted.predict >= t).astype(int)) for t in thresholds]\n",
    "best_threshold = thresholds[np.argmax(f1_scores)]\n",
    "print(f'best treshold: {best_threshold}')\n",
    "binary_pred = (predicted.predict >= best_threshold).astype(int)\n",
    "\n",
    "# Метрики\n",
    "print(\"Матрица ошибок:\\n\", confusion_matrix(val_input.target, binary_pred))\n",
    "print(\"F1-метрика:\", f1_score(val_input.target, binary_pred))\n",
    "print(\"Полный отчет:\\n\", classification_report(val_input.target, binary_pred))"
   ]
  },
  {
   "cell_type": "code",
   "execution_count": 16,
   "id": "6e48d6e5-0e57-45a8-8048-e23d2bb48dfb",
   "metadata": {},
   "outputs": [
    {
     "name": "stdout",
     "output_type": "stream",
     "text": [
      "\n",
      "ROC-AUC: 1.0000\n",
      "\tTrain Metrics:\n",
      "Confusion Matrix:\n",
      " [[5429  185]\n",
      " [   0 1386]]\n",
      "F1-score: 0.9374365911396686\n",
      "Classification Report:\n",
      "               precision    recall  f1-score   support\n",
      "\n",
      "           0       1.00      0.97      0.98      5614\n",
      "           1       0.88      1.00      0.94      1386\n",
      "\n",
      "    accuracy                           0.97      7000\n",
      "   macro avg       0.94      0.98      0.96      7000\n",
      "weighted avg       0.98      0.97      0.97      7000\n",
      "\n"
     ]
    }
   ],
   "source": [
    "train_predict = pipeline.predict(train_input)\n",
    "print(f\"\\nROC-AUC: {roc_auc_score(train_input.target, train_predict.predict):.4f}\")\n",
    "\n",
    "# Метрики на валидации\n",
    "y_pred_train = (train_predict.predict >= best_threshold).astype(int)\n",
    "print(\"\\tTrain Metrics:\")\n",
    "print(\"Confusion Matrix:\\n\", confusion_matrix(y_train, y_pred_train))\n",
    "print(\"F1-score:\", f1_score(y_train, y_pred_train))\n",
    "print(\"Classification Report:\\n\", classification_report(y_train, y_pred_train))"
   ]
  },
  {
   "cell_type": "code",
   "execution_count": 17,
   "id": "e41077d9-6c10-4d9c-a76b-3a87bf1820ee",
   "metadata": {},
   "outputs": [
    {
     "name": "stdout",
     "output_type": "stream",
     "text": [
      "\n",
      "ROC-AUC: 0.9050\n",
      "Матрица ошибок:\n",
      " [[930 261]\n",
      " [ 20 289]]\n",
      "F1-метрика: 0.6728754365541327\n",
      "Полный отчет:\n",
      "               precision    recall  f1-score   support\n",
      "\n",
      "           0       0.98      0.78      0.87      1191\n",
      "           1       0.53      0.94      0.67       309\n",
      "\n",
      "    accuracy                           0.81      1500\n",
      "   macro avg       0.75      0.86      0.77      1500\n",
      "weighted avg       0.89      0.81      0.83      1500\n",
      "\n"
     ]
    }
   ],
   "source": [
    "predicted = pipeline.predict(test_input)\n",
    "print(f\"\\nROC-AUC: {roc_auc_score(test_input.target, predicted.predict):.4f}\")\n",
    "\n",
    "\n",
    "binary_pred = (predicted.predict >= best_threshold).astype(int)\n",
    "\n",
    "# Метрики\n",
    "print(\"Матрица ошибок:\\n\", confusion_matrix(test_input.target, binary_pred))\n",
    "print(\"F1-метрика:\", f1_score(test_input.target, binary_pred))\n",
    "print(\"Полный отчет:\\n\", classification_report(test_input.target, binary_pred))\n"
   ]
  },
  {
   "cell_type": "code",
   "execution_count": null,
   "id": "fd0bba49-ca03-44c7-985a-34082774d1ef",
   "metadata": {},
   "outputs": [],
   "source": []
  },
  {
   "cell_type": "markdown",
   "id": "b715922a-d84e-44c2-aedf-3f6a03bc74ce",
   "metadata": {
    "jp-MarkdownHeadingCollapsed": true
   },
   "source": [
    "#### TPOT"
   ]
  },
  {
   "cell_type": "code",
   "execution_count": 18,
   "id": "160b3049-dccf-4151-a070-aeacb7a9ad7b",
   "metadata": {},
   "outputs": [],
   "source": [
    "from tpot import TPOTClassifier"
   ]
  },
  {
   "cell_type": "code",
   "execution_count": 19,
   "id": "3f665131-6937-4c2f-ac82-f89dad5ec87d",
   "metadata": {
    "scrolled": true
   },
   "outputs": [
    {
     "name": "stdout",
     "output_type": "stream",
     "text": [
      "\n",
      "==================================================\n",
      "Training TPOT\n",
      "==================================================\n"
     ]
    },
    {
     "name": "stderr",
     "output_type": "stream",
     "text": [
      "Version 0.12.2 of tpot is outdated. Version 1.0.0 was released Wednesday February 26, 2025.\n"
     ]
    },
    {
     "data": {
      "application/vnd.jupyter.widget-view+json": {
       "model_id": "32a6724fa3564b4e89f6aea151efd9a9",
       "version_major": 2,
       "version_minor": 0
      },
      "text/plain": [
       "Optimization Progress:   0%|          | 0/20 [00:00<?, ?pipeline/s]"
      ]
     },
     "metadata": {},
     "output_type": "display_data"
    },
    {
     "name": "stdout",
     "output_type": "stream",
     "text": [
      "\n",
      "Generation 1 - Current best internal CV score: 0.8981548082631884\n",
      "\n",
      "Generation 2 - Current best internal CV score: 0.8981548082631884\n",
      "\n",
      "Generation 3 - Current best internal CV score: 0.8981548082631884\n",
      "\n",
      "Generation 4 - Current best internal CV score: 0.8981548082631884\n",
      "\n",
      "Generation 5 - Current best internal CV score: 0.8995407681609395\n",
      "\n",
      "Best pipeline: DecisionTreeClassifier(BernoulliNB(input_matrix, alpha=10.0, fit_prior=False), criterion=gini, max_depth=10, min_samples_leaf=20, min_samples_split=4)\n"
     ]
    },
    {
     "data": {
      "text/html": [
       "<style>#sk-container-id-1 {\n",
       "  /* Definition of color scheme common for light and dark mode */\n",
       "  --sklearn-color-text: black;\n",
       "  --sklearn-color-line: gray;\n",
       "  /* Definition of color scheme for unfitted estimators */\n",
       "  --sklearn-color-unfitted-level-0: #fff5e6;\n",
       "  --sklearn-color-unfitted-level-1: #f6e4d2;\n",
       "  --sklearn-color-unfitted-level-2: #ffe0b3;\n",
       "  --sklearn-color-unfitted-level-3: chocolate;\n",
       "  /* Definition of color scheme for fitted estimators */\n",
       "  --sklearn-color-fitted-level-0: #f0f8ff;\n",
       "  --sklearn-color-fitted-level-1: #d4ebff;\n",
       "  --sklearn-color-fitted-level-2: #b3dbfd;\n",
       "  --sklearn-color-fitted-level-3: cornflowerblue;\n",
       "\n",
       "  /* Specific color for light theme */\n",
       "  --sklearn-color-text-on-default-background: var(--sg-text-color, var(--theme-code-foreground, var(--jp-content-font-color1, black)));\n",
       "  --sklearn-color-background: var(--sg-background-color, var(--theme-background, var(--jp-layout-color0, white)));\n",
       "  --sklearn-color-border-box: var(--sg-text-color, var(--theme-code-foreground, var(--jp-content-font-color1, black)));\n",
       "  --sklearn-color-icon: #696969;\n",
       "\n",
       "  @media (prefers-color-scheme: dark) {\n",
       "    /* Redefinition of color scheme for dark theme */\n",
       "    --sklearn-color-text-on-default-background: var(--sg-text-color, var(--theme-code-foreground, var(--jp-content-font-color1, white)));\n",
       "    --sklearn-color-background: var(--sg-background-color, var(--theme-background, var(--jp-layout-color0, #111)));\n",
       "    --sklearn-color-border-box: var(--sg-text-color, var(--theme-code-foreground, var(--jp-content-font-color1, white)));\n",
       "    --sklearn-color-icon: #878787;\n",
       "  }\n",
       "}\n",
       "\n",
       "#sk-container-id-1 {\n",
       "  color: var(--sklearn-color-text);\n",
       "}\n",
       "\n",
       "#sk-container-id-1 pre {\n",
       "  padding: 0;\n",
       "}\n",
       "\n",
       "#sk-container-id-1 input.sk-hidden--visually {\n",
       "  border: 0;\n",
       "  clip: rect(1px 1px 1px 1px);\n",
       "  clip: rect(1px, 1px, 1px, 1px);\n",
       "  height: 1px;\n",
       "  margin: -1px;\n",
       "  overflow: hidden;\n",
       "  padding: 0;\n",
       "  position: absolute;\n",
       "  width: 1px;\n",
       "}\n",
       "\n",
       "#sk-container-id-1 div.sk-dashed-wrapped {\n",
       "  border: 1px dashed var(--sklearn-color-line);\n",
       "  margin: 0 0.4em 0.5em 0.4em;\n",
       "  box-sizing: border-box;\n",
       "  padding-bottom: 0.4em;\n",
       "  background-color: var(--sklearn-color-background);\n",
       "}\n",
       "\n",
       "#sk-container-id-1 div.sk-container {\n",
       "  /* jupyter's `normalize.less` sets `[hidden] { display: none; }`\n",
       "     but bootstrap.min.css set `[hidden] { display: none !important; }`\n",
       "     so we also need the `!important` here to be able to override the\n",
       "     default hidden behavior on the sphinx rendered scikit-learn.org.\n",
       "     See: https://github.com/scikit-learn/scikit-learn/issues/21755 */\n",
       "  display: inline-block !important;\n",
       "  position: relative;\n",
       "}\n",
       "\n",
       "#sk-container-id-1 div.sk-text-repr-fallback {\n",
       "  display: none;\n",
       "}\n",
       "\n",
       "div.sk-parallel-item,\n",
       "div.sk-serial,\n",
       "div.sk-item {\n",
       "  /* draw centered vertical line to link estimators */\n",
       "  background-image: linear-gradient(var(--sklearn-color-text-on-default-background), var(--sklearn-color-text-on-default-background));\n",
       "  background-size: 2px 100%;\n",
       "  background-repeat: no-repeat;\n",
       "  background-position: center center;\n",
       "}\n",
       "\n",
       "/* Parallel-specific style estimator block */\n",
       "\n",
       "#sk-container-id-1 div.sk-parallel-item::after {\n",
       "  content: \"\";\n",
       "  width: 100%;\n",
       "  border-bottom: 2px solid var(--sklearn-color-text-on-default-background);\n",
       "  flex-grow: 1;\n",
       "}\n",
       "\n",
       "#sk-container-id-1 div.sk-parallel {\n",
       "  display: flex;\n",
       "  align-items: stretch;\n",
       "  justify-content: center;\n",
       "  background-color: var(--sklearn-color-background);\n",
       "  position: relative;\n",
       "}\n",
       "\n",
       "#sk-container-id-1 div.sk-parallel-item {\n",
       "  display: flex;\n",
       "  flex-direction: column;\n",
       "}\n",
       "\n",
       "#sk-container-id-1 div.sk-parallel-item:first-child::after {\n",
       "  align-self: flex-end;\n",
       "  width: 50%;\n",
       "}\n",
       "\n",
       "#sk-container-id-1 div.sk-parallel-item:last-child::after {\n",
       "  align-self: flex-start;\n",
       "  width: 50%;\n",
       "}\n",
       "\n",
       "#sk-container-id-1 div.sk-parallel-item:only-child::after {\n",
       "  width: 0;\n",
       "}\n",
       "\n",
       "/* Serial-specific style estimator block */\n",
       "\n",
       "#sk-container-id-1 div.sk-serial {\n",
       "  display: flex;\n",
       "  flex-direction: column;\n",
       "  align-items: center;\n",
       "  background-color: var(--sklearn-color-background);\n",
       "  padding-right: 1em;\n",
       "  padding-left: 1em;\n",
       "}\n",
       "\n",
       "\n",
       "/* Toggleable style: style used for estimator/Pipeline/ColumnTransformer box that is\n",
       "clickable and can be expanded/collapsed.\n",
       "- Pipeline and ColumnTransformer use this feature and define the default style\n",
       "- Estimators will overwrite some part of the style using the `sk-estimator` class\n",
       "*/\n",
       "\n",
       "/* Pipeline and ColumnTransformer style (default) */\n",
       "\n",
       "#sk-container-id-1 div.sk-toggleable {\n",
       "  /* Default theme specific background. It is overwritten whether we have a\n",
       "  specific estimator or a Pipeline/ColumnTransformer */\n",
       "  background-color: var(--sklearn-color-background);\n",
       "}\n",
       "\n",
       "/* Toggleable label */\n",
       "#sk-container-id-1 label.sk-toggleable__label {\n",
       "  cursor: pointer;\n",
       "  display: block;\n",
       "  width: 100%;\n",
       "  margin-bottom: 0;\n",
       "  padding: 0.5em;\n",
       "  box-sizing: border-box;\n",
       "  text-align: center;\n",
       "}\n",
       "\n",
       "#sk-container-id-1 label.sk-toggleable__label-arrow:before {\n",
       "  /* Arrow on the left of the label */\n",
       "  content: \"▸\";\n",
       "  float: left;\n",
       "  margin-right: 0.25em;\n",
       "  color: var(--sklearn-color-icon);\n",
       "}\n",
       "\n",
       "#sk-container-id-1 label.sk-toggleable__label-arrow:hover:before {\n",
       "  color: var(--sklearn-color-text);\n",
       "}\n",
       "\n",
       "/* Toggleable content - dropdown */\n",
       "\n",
       "#sk-container-id-1 div.sk-toggleable__content {\n",
       "  max-height: 0;\n",
       "  max-width: 0;\n",
       "  overflow: hidden;\n",
       "  text-align: left;\n",
       "  /* unfitted */\n",
       "  background-color: var(--sklearn-color-unfitted-level-0);\n",
       "}\n",
       "\n",
       "#sk-container-id-1 div.sk-toggleable__content.fitted {\n",
       "  /* fitted */\n",
       "  background-color: var(--sklearn-color-fitted-level-0);\n",
       "}\n",
       "\n",
       "#sk-container-id-1 div.sk-toggleable__content pre {\n",
       "  margin: 0.2em;\n",
       "  border-radius: 0.25em;\n",
       "  color: var(--sklearn-color-text);\n",
       "  /* unfitted */\n",
       "  background-color: var(--sklearn-color-unfitted-level-0);\n",
       "}\n",
       "\n",
       "#sk-container-id-1 div.sk-toggleable__content.fitted pre {\n",
       "  /* unfitted */\n",
       "  background-color: var(--sklearn-color-fitted-level-0);\n",
       "}\n",
       "\n",
       "#sk-container-id-1 input.sk-toggleable__control:checked~div.sk-toggleable__content {\n",
       "  /* Expand drop-down */\n",
       "  max-height: 200px;\n",
       "  max-width: 100%;\n",
       "  overflow: auto;\n",
       "}\n",
       "\n",
       "#sk-container-id-1 input.sk-toggleable__control:checked~label.sk-toggleable__label-arrow:before {\n",
       "  content: \"▾\";\n",
       "}\n",
       "\n",
       "/* Pipeline/ColumnTransformer-specific style */\n",
       "\n",
       "#sk-container-id-1 div.sk-label input.sk-toggleable__control:checked~label.sk-toggleable__label {\n",
       "  color: var(--sklearn-color-text);\n",
       "  background-color: var(--sklearn-color-unfitted-level-2);\n",
       "}\n",
       "\n",
       "#sk-container-id-1 div.sk-label.fitted input.sk-toggleable__control:checked~label.sk-toggleable__label {\n",
       "  background-color: var(--sklearn-color-fitted-level-2);\n",
       "}\n",
       "\n",
       "/* Estimator-specific style */\n",
       "\n",
       "/* Colorize estimator box */\n",
       "#sk-container-id-1 div.sk-estimator input.sk-toggleable__control:checked~label.sk-toggleable__label {\n",
       "  /* unfitted */\n",
       "  background-color: var(--sklearn-color-unfitted-level-2);\n",
       "}\n",
       "\n",
       "#sk-container-id-1 div.sk-estimator.fitted input.sk-toggleable__control:checked~label.sk-toggleable__label {\n",
       "  /* fitted */\n",
       "  background-color: var(--sklearn-color-fitted-level-2);\n",
       "}\n",
       "\n",
       "#sk-container-id-1 div.sk-label label.sk-toggleable__label,\n",
       "#sk-container-id-1 div.sk-label label {\n",
       "  /* The background is the default theme color */\n",
       "  color: var(--sklearn-color-text-on-default-background);\n",
       "}\n",
       "\n",
       "/* On hover, darken the color of the background */\n",
       "#sk-container-id-1 div.sk-label:hover label.sk-toggleable__label {\n",
       "  color: var(--sklearn-color-text);\n",
       "  background-color: var(--sklearn-color-unfitted-level-2);\n",
       "}\n",
       "\n",
       "/* Label box, darken color on hover, fitted */\n",
       "#sk-container-id-1 div.sk-label.fitted:hover label.sk-toggleable__label.fitted {\n",
       "  color: var(--sklearn-color-text);\n",
       "  background-color: var(--sklearn-color-fitted-level-2);\n",
       "}\n",
       "\n",
       "/* Estimator label */\n",
       "\n",
       "#sk-container-id-1 div.sk-label label {\n",
       "  font-family: monospace;\n",
       "  font-weight: bold;\n",
       "  display: inline-block;\n",
       "  line-height: 1.2em;\n",
       "}\n",
       "\n",
       "#sk-container-id-1 div.sk-label-container {\n",
       "  text-align: center;\n",
       "}\n",
       "\n",
       "/* Estimator-specific */\n",
       "#sk-container-id-1 div.sk-estimator {\n",
       "  font-family: monospace;\n",
       "  border: 1px dotted var(--sklearn-color-border-box);\n",
       "  border-radius: 0.25em;\n",
       "  box-sizing: border-box;\n",
       "  margin-bottom: 0.5em;\n",
       "  /* unfitted */\n",
       "  background-color: var(--sklearn-color-unfitted-level-0);\n",
       "}\n",
       "\n",
       "#sk-container-id-1 div.sk-estimator.fitted {\n",
       "  /* fitted */\n",
       "  background-color: var(--sklearn-color-fitted-level-0);\n",
       "}\n",
       "\n",
       "/* on hover */\n",
       "#sk-container-id-1 div.sk-estimator:hover {\n",
       "  /* unfitted */\n",
       "  background-color: var(--sklearn-color-unfitted-level-2);\n",
       "}\n",
       "\n",
       "#sk-container-id-1 div.sk-estimator.fitted:hover {\n",
       "  /* fitted */\n",
       "  background-color: var(--sklearn-color-fitted-level-2);\n",
       "}\n",
       "\n",
       "/* Specification for estimator info (e.g. \"i\" and \"?\") */\n",
       "\n",
       "/* Common style for \"i\" and \"?\" */\n",
       "\n",
       ".sk-estimator-doc-link,\n",
       "a:link.sk-estimator-doc-link,\n",
       "a:visited.sk-estimator-doc-link {\n",
       "  float: right;\n",
       "  font-size: smaller;\n",
       "  line-height: 1em;\n",
       "  font-family: monospace;\n",
       "  background-color: var(--sklearn-color-background);\n",
       "  border-radius: 1em;\n",
       "  height: 1em;\n",
       "  width: 1em;\n",
       "  text-decoration: none !important;\n",
       "  margin-left: 1ex;\n",
       "  /* unfitted */\n",
       "  border: var(--sklearn-color-unfitted-level-1) 1pt solid;\n",
       "  color: var(--sklearn-color-unfitted-level-1);\n",
       "}\n",
       "\n",
       ".sk-estimator-doc-link.fitted,\n",
       "a:link.sk-estimator-doc-link.fitted,\n",
       "a:visited.sk-estimator-doc-link.fitted {\n",
       "  /* fitted */\n",
       "  border: var(--sklearn-color-fitted-level-1) 1pt solid;\n",
       "  color: var(--sklearn-color-fitted-level-1);\n",
       "}\n",
       "\n",
       "/* On hover */\n",
       "div.sk-estimator:hover .sk-estimator-doc-link:hover,\n",
       ".sk-estimator-doc-link:hover,\n",
       "div.sk-label-container:hover .sk-estimator-doc-link:hover,\n",
       ".sk-estimator-doc-link:hover {\n",
       "  /* unfitted */\n",
       "  background-color: var(--sklearn-color-unfitted-level-3);\n",
       "  color: var(--sklearn-color-background);\n",
       "  text-decoration: none;\n",
       "}\n",
       "\n",
       "div.sk-estimator.fitted:hover .sk-estimator-doc-link.fitted:hover,\n",
       ".sk-estimator-doc-link.fitted:hover,\n",
       "div.sk-label-container:hover .sk-estimator-doc-link.fitted:hover,\n",
       ".sk-estimator-doc-link.fitted:hover {\n",
       "  /* fitted */\n",
       "  background-color: var(--sklearn-color-fitted-level-3);\n",
       "  color: var(--sklearn-color-background);\n",
       "  text-decoration: none;\n",
       "}\n",
       "\n",
       "/* Span, style for the box shown on hovering the info icon */\n",
       ".sk-estimator-doc-link span {\n",
       "  display: none;\n",
       "  z-index: 9999;\n",
       "  position: relative;\n",
       "  font-weight: normal;\n",
       "  right: .2ex;\n",
       "  padding: .5ex;\n",
       "  margin: .5ex;\n",
       "  width: min-content;\n",
       "  min-width: 20ex;\n",
       "  max-width: 50ex;\n",
       "  color: var(--sklearn-color-text);\n",
       "  box-shadow: 2pt 2pt 4pt #999;\n",
       "  /* unfitted */\n",
       "  background: var(--sklearn-color-unfitted-level-0);\n",
       "  border: .5pt solid var(--sklearn-color-unfitted-level-3);\n",
       "}\n",
       "\n",
       ".sk-estimator-doc-link.fitted span {\n",
       "  /* fitted */\n",
       "  background: var(--sklearn-color-fitted-level-0);\n",
       "  border: var(--sklearn-color-fitted-level-3);\n",
       "}\n",
       "\n",
       ".sk-estimator-doc-link:hover span {\n",
       "  display: block;\n",
       "}\n",
       "\n",
       "/* \"?\"-specific style due to the `<a>` HTML tag */\n",
       "\n",
       "#sk-container-id-1 a.estimator_doc_link {\n",
       "  float: right;\n",
       "  font-size: 1rem;\n",
       "  line-height: 1em;\n",
       "  font-family: monospace;\n",
       "  background-color: var(--sklearn-color-background);\n",
       "  border-radius: 1rem;\n",
       "  height: 1rem;\n",
       "  width: 1rem;\n",
       "  text-decoration: none;\n",
       "  /* unfitted */\n",
       "  color: var(--sklearn-color-unfitted-level-1);\n",
       "  border: var(--sklearn-color-unfitted-level-1) 1pt solid;\n",
       "}\n",
       "\n",
       "#sk-container-id-1 a.estimator_doc_link.fitted {\n",
       "  /* fitted */\n",
       "  border: var(--sklearn-color-fitted-level-1) 1pt solid;\n",
       "  color: var(--sklearn-color-fitted-level-1);\n",
       "}\n",
       "\n",
       "/* On hover */\n",
       "#sk-container-id-1 a.estimator_doc_link:hover {\n",
       "  /* unfitted */\n",
       "  background-color: var(--sklearn-color-unfitted-level-3);\n",
       "  color: var(--sklearn-color-background);\n",
       "  text-decoration: none;\n",
       "}\n",
       "\n",
       "#sk-container-id-1 a.estimator_doc_link.fitted:hover {\n",
       "  /* fitted */\n",
       "  background-color: var(--sklearn-color-fitted-level-3);\n",
       "}\n",
       "</style><div id=\"sk-container-id-1\" class=\"sk-top-container\"><div class=\"sk-text-repr-fallback\"><pre>TPOTClassifier(config_dict=&#x27;TPOT light&#x27;, generations=5, max_time_mins=2,\n",
       "               n_jobs=-1, population_size=20, random_state=42,\n",
       "               scoring=&#x27;roc_auc&#x27;, verbosity=2)</pre><b>In a Jupyter environment, please rerun this cell to show the HTML representation or trust the notebook. <br />On GitHub, the HTML representation is unable to render, please try loading this page with nbviewer.org.</b></div><div class=\"sk-container\" hidden><div class=\"sk-item\"><div class=\"sk-estimator fitted sk-toggleable\"><input class=\"sk-toggleable__control sk-hidden--visually\" id=\"sk-estimator-id-1\" type=\"checkbox\" checked><label for=\"sk-estimator-id-1\" class=\"sk-toggleable__label fitted sk-toggleable__label-arrow fitted\">&nbsp;TPOTClassifier<span class=\"sk-estimator-doc-link fitted\">i<span>Fitted</span></span></label><div class=\"sk-toggleable__content fitted\"><pre>TPOTClassifier(config_dict=&#x27;TPOT light&#x27;, generations=5, max_time_mins=2,\n",
       "               n_jobs=-1, population_size=20, random_state=42,\n",
       "               scoring=&#x27;roc_auc&#x27;, verbosity=2)</pre></div> </div></div></div></div>"
      ],
      "text/plain": [
       "TPOTClassifier(config_dict='TPOT light', generations=5, max_time_mins=2,\n",
       "               n_jobs=-1, population_size=20, random_state=42,\n",
       "               scoring='roc_auc', verbosity=2)"
      ]
     },
     "execution_count": 19,
     "metadata": {},
     "output_type": "execute_result"
    }
   ],
   "source": [
    "print(\"\\n\" + \"=\"*50 + \"\\nTraining TPOT\\n\" + \"=\"*50)\n",
    "\n",
    "# Настройка TPOT\n",
    "tpot = TPOTClassifier(\n",
    "    generations=5,           # Количество поколений\n",
    "    population_size=20,      # Размер популяции\n",
    "    verbosity=2,            # Уровень вывода (0-3)\n",
    "    random_state=42,\n",
    "    scoring='roc_auc',      # Метрика для оптимизации\n",
    "    n_jobs=-1,              # Использовать все ядра\n",
    "    max_time_mins=2,        # 2 минуты на обучение\n",
    "    config_dict='TPOT light' # Используем только легкие алгоритмы\n",
    ")\n",
    "\n",
    "# Обучение\n",
    "tpot.fit(X_train, y_train)"
   ]
  },
  {
   "cell_type": "code",
   "execution_count": 20,
   "id": "edc75a2c-5796-4e76-a655-2a5106c85a93",
   "metadata": {},
   "outputs": [
    {
     "name": "stdout",
     "output_type": "stream",
     "text": [
      "\n",
      "ROC-AUC: 0.8850\n",
      "Best threshold: 0.2525\n",
      "\n",
      "Validation Metrics:\n",
      "Confusion Matrix:\n",
      " [[955 233]\n",
      " [ 25 287]]\n",
      "F1-score: 0.6899038461538461\n",
      "Classification Report:\n",
      "               precision    recall  f1-score   support\n",
      "\n",
      "           0       0.97      0.80      0.88      1188\n",
      "           1       0.55      0.92      0.69       312\n",
      "\n",
      "    accuracy                           0.83      1500\n",
      "   macro avg       0.76      0.86      0.79      1500\n",
      "weighted avg       0.89      0.83      0.84      1500\n",
      "\n"
     ]
    }
   ],
   "source": [
    "# Оценка с оптимизацией порога\n",
    "val_predict = tpot.predict_proba(X_val)[:, 1]\n",
    "print(f\"\\nROC-AUC: {roc_auc_score(y_val, val_predict):.4f}\")\n",
    "\n",
    "# Поиск оптимального порога через F1-score\n",
    "thresholds = np.linspace(0, 1, 100)\n",
    "f1_scores = [f1_score(y_val, (val_predict >= t).astype(int)) for t in thresholds]\n",
    "best_threshold = thresholds[np.argmax(f1_scores)]\n",
    "print(f'Best threshold: {best_threshold:.4f}')\n",
    "\n",
    "# Метрики на валидации\n",
    "y_pred_val = (val_predict >= best_threshold).astype(int)\n",
    "print(\"\\nValidation Metrics:\")\n",
    "print(\"Confusion Matrix:\\n\", confusion_matrix(y_val, y_pred_val))\n",
    "print(\"F1-score:\", f1_score(y_val, y_pred_val))\n",
    "print(\"Classification Report:\\n\", classification_report(y_val, y_pred_val))"
   ]
  },
  {
   "cell_type": "code",
   "execution_count": 21,
   "id": "f26a34f8-745c-4a5d-839c-4dba313a231a",
   "metadata": {},
   "outputs": [
    {
     "name": "stdout",
     "output_type": "stream",
     "text": [
      "\n",
      "ROC-AUC: 0.9221\n",
      "\tTrain Metrics:\n",
      "Confusion Matrix:\n",
      " [[4594 1020]\n",
      " [  59 1327]]\n",
      "F1-score: 0.7109563353870881\n",
      "Classification Report:\n",
      "               precision    recall  f1-score   support\n",
      "\n",
      "           0       0.99      0.82      0.89      5614\n",
      "           1       0.57      0.96      0.71      1386\n",
      "\n",
      "    accuracy                           0.85      7000\n",
      "   macro avg       0.78      0.89      0.80      7000\n",
      "weighted avg       0.90      0.85      0.86      7000\n",
      "\n"
     ]
    }
   ],
   "source": [
    "train_predict = tpot.predict_proba(X_train)[:, 1]\n",
    "print(f\"\\nROC-AUC: {roc_auc_score(y_train, train_predict):.4f}\")\n",
    "\n",
    "# Метрики на валидации\n",
    "y_pred_train = (train_predict >= best_threshold).astype(int)\n",
    "print(\"\\tTrain Metrics:\")\n",
    "print(\"Confusion Matrix:\\n\", confusion_matrix(y_train, y_pred_train))\n",
    "print(\"F1-score:\", f1_score(y_train, y_pred_train))\n",
    "print(\"Classification Report:\\n\", classification_report(y_train, y_pred_train))"
   ]
  },
  {
   "cell_type": "code",
   "execution_count": 22,
   "id": "b23deb17-b3bd-4029-a094-32f25427fff2",
   "metadata": {},
   "outputs": [
    {
     "name": "stdout",
     "output_type": "stream",
     "text": [
      "\n",
      "Test ROC-AUC: 0.8828\n",
      "\n",
      "Test Metrics:\n",
      "Confusion Matrix:\n",
      " [[929 262]\n",
      " [ 27 282]]\n",
      "F1-score: 0.6611957796014069\n",
      "Classification Report:\n",
      "               precision    recall  f1-score   support\n",
      "\n",
      "           0       0.97      0.78      0.87      1191\n",
      "           1       0.52      0.91      0.66       309\n",
      "\n",
      "    accuracy                           0.81      1500\n",
      "   macro avg       0.75      0.85      0.76      1500\n",
      "weighted avg       0.88      0.81      0.82      1500\n",
      "\n"
     ]
    }
   ],
   "source": [
    "# Предсказания на тесте\n",
    "test_predict = tpot.predict_proba(X_test)[:, 1]\n",
    "print(f\"\\nTest ROC-AUC: {roc_auc_score(y_test, test_predict):.4f}\")\n",
    "\n",
    "y_pred_test = (test_predict >= best_threshold).astype(int)\n",
    "print(\"\\nTest Metrics:\")\n",
    "print(\"Confusion Matrix:\\n\", confusion_matrix(y_test, y_pred_test))\n",
    "print(\"F1-score:\", f1_score(y_test, y_pred_test))\n",
    "print(\"Classification Report:\\n\", classification_report(y_test, y_pred_test))\n",
    "\n",
    "# Экспорт лучшего пайплайна\n",
    "tpot.export('best_pipeline.py')  # Сохраняет код лучшего пайплайна"
   ]
  },
  {
   "cell_type": "markdown",
   "id": "2bba7bdf-115b-4fe5-9be1-8fb8ef6db202",
   "metadata": {
    "jp-MarkdownHeadingCollapsed": true
   },
   "source": [
    "#### lightautoml"
   ]
  },
  {
   "cell_type": "code",
   "execution_count": 23,
   "id": "0f81e5ef-1da6-40aa-8e79-1fa3225c5ce5",
   "metadata": {},
   "outputs": [],
   "source": [
    "from lightautoml.automl.presets.tabular_presets import TabularAutoML\n",
    "from lightautoml.tasks import Task\n",
    "from lightgbm import LGBMClassifier\n",
    "\n",
    "\n",
    "logging.getLogger('lightautoml').setLevel(logging.WARNING)"
   ]
  },
  {
   "cell_type": "code",
   "execution_count": 24,
   "id": "891488ba-29e6-4187-ad02-7d89ed9e62d8",
   "metadata": {
    "scrolled": true
   },
   "outputs": [
    {
     "name": "stdout",
     "output_type": "stream",
     "text": [
      "2025-04-18 16:11:13,007 - Stdout logging level is ERROR.\n",
      "2025-04-18 16:11:13,008 - Copying TaskTimer may affect the parent PipelineTimer, so copy will create new unlimited TaskTimer\n",
      "2025-04-18 16:11:13,009 - Task: binary\n",
      "\n",
      "2025-04-18 16:11:13,009 - Start automl preset with listed constraints:\n",
      "2025-04-18 16:11:13,009 - - time: 600.00 seconds\n",
      "2025-04-18 16:11:13,010 - - CPU: 4 cores\n",
      "2025-04-18 16:11:13,010 - - memory: 16 GB\n",
      "\n",
      "2025-04-18 16:11:13,011 - \u001b[1mTrain data shape: (7000, 9)\u001b[0m\n",
      "\n",
      "2025-04-18 16:11:15,530 - Layer \u001b[1m1\u001b[0m train process start. Time left 597.48 secs\n",
      "2025-04-18 16:11:15,812 - \u001b[1mSelector_LightGBM\u001b[0m fitting and predicting completed\n",
      "2025-04-18 16:11:15,841 - Start fitting \u001b[1mLvl_0_Pipe_0_Mod_0_LightGBM\u001b[0m ...\n",
      "2025-04-18 16:11:17,374 - Fitting \u001b[1mLvl_0_Pipe_0_Mod_0_LightGBM\u001b[0m finished. score = \u001b[1m0.9161462968018009\u001b[0m\n",
      "2025-04-18 16:11:17,375 - \u001b[1mLvl_0_Pipe_0_Mod_0_LightGBM\u001b[0m fitting and predicting completed\n",
      "2025-04-18 16:11:17,377 - Start fitting \u001b[1mLvl_0_Pipe_0_Mod_1_CatBoost\u001b[0m ...\n",
      "2025-04-18 16:11:19,431 - Fitting \u001b[1mLvl_0_Pipe_0_Mod_1_CatBoost\u001b[0m finished. score = \u001b[1m0.916280084163946\u001b[0m\n",
      "2025-04-18 16:11:19,432 - \u001b[1mLvl_0_Pipe_0_Mod_1_CatBoost\u001b[0m fitting and predicting completed\n",
      "2025-04-18 16:11:19,432 - Time left 593.58 secs\n",
      "\n",
      "2025-04-18 16:11:19,433 - \u001b[1mLayer 1 training completed.\u001b[0m\n",
      "\n",
      "2025-04-18 16:11:19,436 - Blending: optimization starts with equal weights. Score = \u001b[1m0.9179680\u001b[0m\n",
      "2025-04-18 16:11:19,462 - Blending: iteration \u001b[1m0\u001b[0m: score = \u001b[1m0.9179890\u001b[0m, weights = \u001b[1m[0.45798847 0.5420115 ]\u001b[0m\n",
      "2025-04-18 16:11:19,488 - Blending: no improvements for score. Terminated.\n",
      "\n",
      "2025-04-18 16:11:19,488 - Blending: best score = \u001b[1m0.9179890\u001b[0m, best weights = \u001b[1m[0.45798847 0.5420115 ]\u001b[0m\n",
      "2025-04-18 16:11:19,489 - \u001b[1mAutoml preset training completed in 6.48 seconds\u001b[0m\n",
      "\n",
      "2025-04-18 16:11:19,489 - Model description:\n",
      "Final prediction for new objects (level 0) = \n",
      "\t 0.45799 * (5 averaged models Lvl_0_Pipe_0_Mod_0_LightGBM) +\n",
      "\t 0.54201 * (5 averaged models Lvl_0_Pipe_0_Mod_1_CatBoost) \n",
      "\n"
     ]
    }
   ],
   "source": [
    "\n",
    "train_df[target] = train_df[target].astype(int)\n",
    "val_df[target] = val_df[target].astype(int)\n",
    "test_df[target] = test_df[target].astype(int)\n",
    "\n",
    "\n",
    "task = Task('binary')\n",
    "roles = {\n",
    "    'target': target,\n",
    "    'drop': []  # Укажите колонки для исключения, если есть\n",
    "}\n",
    "\n",
    "\n",
    "automl = TabularAutoML(\n",
    "    task=task,\n",
    "    timeout=600,  # 10 минут\n",
    "    cpu_limit=4,\n",
    "    general_params={\n",
    "        'use_algos': [['lgb', 'cb']],  # Только LightGBM и CatBoost\n",
    "        'default_params': {\n",
    "            'lgb': {\n",
    "                'class_weight': 'balanced',  # Учет дисбаланса классов\n",
    "                'random_state': 42\n",
    "            },\n",
    "            'cb': {\n",
    "                'auto_class_weights': 'Balanced',\n",
    "                'random_state': 42\n",
    "            }\n",
    "        }\n",
    "    },\n",
    "    reader_params={\n",
    "        'cv': 5,\n",
    "        'random_state': 42\n",
    "    }\n",
    ")\n",
    "\n",
    "train_pred = automl.fit_predict(train_df, roles=roles, verbose=0)"
   ]
  },
  {
   "cell_type": "code",
   "execution_count": 25,
   "id": "66d2038d-890a-49ac-b513-2f2d2e92c64e",
   "metadata": {},
   "outputs": [
    {
     "name": "stdout",
     "output_type": "stream",
     "text": [
      "\n",
      "ROC-AUC: 0.9133\n",
      "Best threshold: 0.2121\n",
      "\n",
      "Validation Metrics:\n",
      "Confusion Matrix:\n",
      " [[944 244]\n",
      " [  9 303]]\n",
      "F1-score: 0.7054714784633295\n",
      "Classification Report:\n",
      "               precision    recall  f1-score   support\n",
      "\n",
      "           0       0.99      0.79      0.88      1188\n",
      "           1       0.55      0.97      0.71       312\n",
      "\n",
      "    accuracy                           0.83      1500\n",
      "   macro avg       0.77      0.88      0.79      1500\n",
      "weighted avg       0.90      0.83      0.85      1500\n",
      "\n"
     ]
    }
   ],
   "source": [
    "val_predict = automl.predict(X_val).data\n",
    "\n",
    "print(f\"\\nROC-AUC: {roc_auc_score(y_val, val_predict):.4f}\")\n",
    "\n",
    "# Поиск оптимального порога через F1-score\n",
    "thresholds = np.linspace(0, 1, 100)\n",
    "f1_scores = [f1_score(y_val, (val_predict >= t).astype(int)) for t in thresholds]\n",
    "best_threshold = thresholds[np.argmax(f1_scores)]\n",
    "print(f'Best threshold: {best_threshold:.4f}')\n",
    "\n",
    "# Метрики на валидации\n",
    "y_pred_val = (val_predict >= best_threshold).astype(int)\n",
    "print(\"\\nValidation Metrics:\")\n",
    "print(\"Confusion Matrix:\\n\", confusion_matrix(y_val, y_pred_val))\n",
    "print(\"F1-score:\", f1_score(y_val, y_pred_val))\n",
    "print(\"Classification Report:\\n\", classification_report(y_val, y_pred_val))"
   ]
  },
  {
   "cell_type": "code",
   "execution_count": 26,
   "id": "88dcfed0-611f-4239-9e28-ccc0f73dc749",
   "metadata": {},
   "outputs": [
    {
     "name": "stdout",
     "output_type": "stream",
     "text": [
      "\n",
      "ROC-AUC: 0.9627\n",
      "\tTrain Metrics:\n",
      "Confusion Matrix:\n",
      " [[4490 1124]\n",
      " [  16 1370]]\n",
      "F1-score: 0.7061855670103093\n",
      "Classification Report:\n",
      "               precision    recall  f1-score   support\n",
      "\n",
      "           0       1.00      0.80      0.89      5614\n",
      "           1       0.55      0.99      0.71      1386\n",
      "\n",
      "    accuracy                           0.84      7000\n",
      "   macro avg       0.77      0.89      0.80      7000\n",
      "weighted avg       0.91      0.84      0.85      7000\n",
      "\n"
     ]
    }
   ],
   "source": [
    "train_predict = automl.predict(X_train).data\n",
    "print(f\"\\nROC-AUC: {roc_auc_score(y_train, train_predict):.4f}\")\n",
    "\n",
    "# Метрики на валидации\n",
    "y_pred_train = (train_predict >= best_threshold).astype(int)\n",
    "print(\"\\tTrain Metrics:\")\n",
    "print(\"Confusion Matrix:\\n\", confusion_matrix(y_train, y_pred_train))\n",
    "print(\"F1-score:\", f1_score(y_train, y_pred_train))\n",
    "print(\"Classification Report:\\n\", classification_report(y_train, y_pred_train))"
   ]
  },
  {
   "cell_type": "code",
   "execution_count": 27,
   "id": "bd051c42-ccee-475c-a6c5-c5c94e5657f2",
   "metadata": {},
   "outputs": [
    {
     "name": "stdout",
     "output_type": "stream",
     "text": [
      "\n",
      "ROC-AUC: 0.9070\n",
      "\n",
      "Test Metrics:\n",
      "Confusion Matrix:\n",
      " [[912 279]\n",
      " [ 14 295]]\n",
      "F1-score: 0.6681766704416761\n",
      "Classification Report:\n",
      "               precision    recall  f1-score   support\n",
      "\n",
      "           0       0.98      0.77      0.86      1191\n",
      "           1       0.51      0.95      0.67       309\n",
      "\n",
      "    accuracy                           0.80      1500\n",
      "   macro avg       0.75      0.86      0.76      1500\n",
      "weighted avg       0.89      0.80      0.82      1500\n",
      "\n"
     ]
    }
   ],
   "source": [
    "# Предсказания на тесте\n",
    "test_predict = automl.predict(X_test).data\n",
    "print(f\"\\nROC-AUC: {roc_auc_score(y_test, test_predict):.4f}\")\n",
    "\n",
    "y_pred_test = (test_predict >= best_threshold).astype(int)\n",
    "print(\"\\nTest Metrics:\")\n",
    "print(\"Confusion Matrix:\\n\", confusion_matrix(y_test, y_pred_test))\n",
    "print(\"F1-score:\", f1_score(y_test, y_pred_test))\n",
    "print(\"Classification Report:\\n\", classification_report(y_test, y_pred_test))\n"
   ]
  },
  {
   "cell_type": "code",
   "execution_count": null,
   "id": "a8680d6d-24c7-4159-a2c8-a9ad722da60a",
   "metadata": {},
   "outputs": [],
   "source": []
  },
  {
   "cell_type": "markdown",
   "id": "14f92951-e57a-4538-b9ee-3f4677a14259",
   "metadata": {},
   "source": [
    "#### 3.\t\n",
    "Усовершенствуйте решения за счет предобработки исходных данных"
   ]
  },
  {
   "cell_type": "markdown",
   "id": "2e851ad5-5820-4218-8d32-57b7febc0136",
   "metadata": {
    "jp-MarkdownHeadingCollapsed": true
   },
   "source": [
    "#### preprocessing"
   ]
  },
  {
   "cell_type": "code",
   "execution_count": 28,
   "id": "d76dcf8f-20e0-4ba4-a522-d8afebfdfb3e",
   "metadata": {},
   "outputs": [
    {
     "data": {
      "text/html": [
       "<div>\n",
       "<style scoped>\n",
       "    .dataframe tbody tr th:only-of-type {\n",
       "        vertical-align: middle;\n",
       "    }\n",
       "\n",
       "    .dataframe tbody tr th {\n",
       "        vertical-align: top;\n",
       "    }\n",
       "\n",
       "    .dataframe thead th {\n",
       "        text-align: right;\n",
       "    }\n",
       "</style>\n",
       "<table border=\"1\" class=\"dataframe\">\n",
       "  <thead>\n",
       "    <tr style=\"text-align: right;\">\n",
       "      <th></th>\n",
       "      <th>rr_interval</th>\n",
       "      <th>p_end</th>\n",
       "      <th>qrs_onset</th>\n",
       "      <th>qrs_end</th>\n",
       "    </tr>\n",
       "  </thead>\n",
       "  <tbody>\n",
       "    <tr>\n",
       "      <th>count</th>\n",
       "      <td>10000.000000</td>\n",
       "      <td>10000.000000</td>\n",
       "      <td>10000.000000</td>\n",
       "      <td>10000.00000</td>\n",
       "    </tr>\n",
       "    <tr>\n",
       "      <th>mean</th>\n",
       "      <td>814.402400</td>\n",
       "      <td>8930.689000</td>\n",
       "      <td>199.319300</td>\n",
       "      <td>297.59020</td>\n",
       "    </tr>\n",
       "    <tr>\n",
       "      <th>std</th>\n",
       "      <td>186.830027</td>\n",
       "      <td>13602.948503</td>\n",
       "      <td>23.467033</td>\n",
       "      <td>34.82657</td>\n",
       "    </tr>\n",
       "    <tr>\n",
       "      <th>min</th>\n",
       "      <td>314.000000</td>\n",
       "      <td>0.000000</td>\n",
       "      <td>128.000000</td>\n",
       "      <td>183.00000</td>\n",
       "    </tr>\n",
       "    <tr>\n",
       "      <th>25%</th>\n",
       "      <td>682.000000</td>\n",
       "      <td>144.000000</td>\n",
       "      <td>188.000000</td>\n",
       "      <td>278.00000</td>\n",
       "    </tr>\n",
       "    <tr>\n",
       "      <th>50%</th>\n",
       "      <td>810.000000</td>\n",
       "      <td>158.000000</td>\n",
       "      <td>200.000000</td>\n",
       "      <td>300.00000</td>\n",
       "    </tr>\n",
       "    <tr>\n",
       "      <th>75%</th>\n",
       "      <td>937.000000</td>\n",
       "      <td>29999.000000</td>\n",
       "      <td>208.000000</td>\n",
       "      <td>312.00000</td>\n",
       "    </tr>\n",
       "    <tr>\n",
       "      <th>max</th>\n",
       "      <td>1333.000000</td>\n",
       "      <td>29999.000000</td>\n",
       "      <td>288.000000</td>\n",
       "      <td>438.00000</td>\n",
       "    </tr>\n",
       "  </tbody>\n",
       "</table>\n",
       "</div>"
      ],
      "text/plain": [
       "        rr_interval         p_end     qrs_onset      qrs_end\n",
       "count  10000.000000  10000.000000  10000.000000  10000.00000\n",
       "mean     814.402400   8930.689000    199.319300    297.59020\n",
       "std      186.830027  13602.948503     23.467033     34.82657\n",
       "min      314.000000      0.000000    128.000000    183.00000\n",
       "25%      682.000000    144.000000    188.000000    278.00000\n",
       "50%      810.000000    158.000000    200.000000    300.00000\n",
       "75%      937.000000  29999.000000    208.000000    312.00000\n",
       "max     1333.000000  29999.000000    288.000000    438.00000"
      ]
     },
     "execution_count": 28,
     "metadata": {},
     "output_type": "execute_result"
    }
   ],
   "source": [
    "def remove_outliers(df, column):\n",
    "    Q1 = df[column].quantile(0.25)\n",
    "    Q3 = df[column].quantile(0.75)\n",
    "    IQR = Q3 - Q1\n",
    "    lower_bound = Q1 - 1.5 * IQR\n",
    "    upper_bound = Q3 + 1.5 * IQR\n",
    "\n",
    "    # Заменяем выбросы на медиану\n",
    "    median = df[column].median()\n",
    "    df[column] = df[column].apply(lambda x: median if x < lower_bound or x > upper_bound else x)\n",
    "    return df\n",
    "\n",
    "# Применяем к временным параметрам\n",
    "time_columns = ['rr_interval', 'p_end', 'qrs_onset', 'qrs_end']\n",
    "for col in time_columns:\n",
    "    data = remove_outliers(data, col)\n",
    "\n",
    "data[time_columns].describe()"
   ]
  },
  {
   "cell_type": "code",
   "execution_count": 29,
   "id": "a6317458-53b9-4961-b9cf-68c2cb9e6620",
   "metadata": {},
   "outputs": [
    {
     "data": {
      "text/html": [
       "<div>\n",
       "<style scoped>\n",
       "    .dataframe tbody tr th:only-of-type {\n",
       "        vertical-align: middle;\n",
       "    }\n",
       "\n",
       "    .dataframe tbody tr th {\n",
       "        vertical-align: top;\n",
       "    }\n",
       "\n",
       "    .dataframe thead th {\n",
       "        text-align: right;\n",
       "    }\n",
       "</style>\n",
       "<table border=\"1\" class=\"dataframe\">\n",
       "  <thead>\n",
       "    <tr style=\"text-align: right;\">\n",
       "      <th></th>\n",
       "      <th>rr_interval</th>\n",
       "      <th>heart_rate</th>\n",
       "    </tr>\n",
       "  </thead>\n",
       "  <tbody>\n",
       "    <tr>\n",
       "      <th>0</th>\n",
       "      <td>659.0</td>\n",
       "      <td>91.047041</td>\n",
       "    </tr>\n",
       "    <tr>\n",
       "      <th>1</th>\n",
       "      <td>722.0</td>\n",
       "      <td>83.102493</td>\n",
       "    </tr>\n",
       "    <tr>\n",
       "      <th>2</th>\n",
       "      <td>600.0</td>\n",
       "      <td>100.000000</td>\n",
       "    </tr>\n",
       "    <tr>\n",
       "      <th>3</th>\n",
       "      <td>659.0</td>\n",
       "      <td>91.047041</td>\n",
       "    </tr>\n",
       "    <tr>\n",
       "      <th>4</th>\n",
       "      <td>659.0</td>\n",
       "      <td>91.047041</td>\n",
       "    </tr>\n",
       "  </tbody>\n",
       "</table>\n",
       "</div>"
      ],
      "text/plain": [
       "   rr_interval  heart_rate\n",
       "0        659.0   91.047041\n",
       "1        722.0   83.102493\n",
       "2        600.0  100.000000\n",
       "3        659.0   91.047041\n",
       "4        659.0   91.047041"
      ]
     },
     "execution_count": 29,
     "metadata": {},
     "output_type": "execute_result"
    }
   ],
   "source": [
    "# Частота сердечных сокращений\n",
    "data['heart_rate'] = 60000 / data['rr_interval']\n",
    "data[['rr_interval', 'heart_rate']].head()"
   ]
  },
  {
   "cell_type": "code",
   "execution_count": 30,
   "id": "e6166572-9fa4-491e-9827-6fc28a89a168",
   "metadata": {},
   "outputs": [
    {
     "data": {
      "text/html": [
       "<div>\n",
       "<style scoped>\n",
       "    .dataframe tbody tr th:only-of-type {\n",
       "        vertical-align: middle;\n",
       "    }\n",
       "\n",
       "    .dataframe tbody tr th {\n",
       "        vertical-align: top;\n",
       "    }\n",
       "\n",
       "    .dataframe thead th {\n",
       "        text-align: right;\n",
       "    }\n",
       "</style>\n",
       "<table border=\"1\" class=\"dataframe\">\n",
       "  <thead>\n",
       "    <tr style=\"text-align: right;\">\n",
       "      <th></th>\n",
       "      <th>rr_interval</th>\n",
       "      <th>p_end</th>\n",
       "      <th>qrs_onset</th>\n",
       "      <th>qrs_end</th>\n",
       "      <th>p_axis</th>\n",
       "      <th>qrs_axis</th>\n",
       "      <th>t_axis</th>\n",
       "      <th>heart_rate</th>\n",
       "    </tr>\n",
       "  </thead>\n",
       "  <tbody>\n",
       "    <tr>\n",
       "      <th>count</th>\n",
       "      <td>10000.000000</td>\n",
       "      <td>10000.000000</td>\n",
       "      <td>10000.000000</td>\n",
       "      <td>10000.000000</td>\n",
       "      <td>10000.000000</td>\n",
       "      <td>10000.000000</td>\n",
       "      <td>10000.000000</td>\n",
       "      <td>10000.000000</td>\n",
       "    </tr>\n",
       "    <tr>\n",
       "      <th>mean</th>\n",
       "      <td>0.491072</td>\n",
       "      <td>0.297700</td>\n",
       "      <td>0.445746</td>\n",
       "      <td>0.449373</td>\n",
       "      <td>0.492989</td>\n",
       "      <td>0.010672</td>\n",
       "      <td>0.012376</td>\n",
       "      <td>0.226363</td>\n",
       "    </tr>\n",
       "    <tr>\n",
       "      <th>std</th>\n",
       "      <td>0.183346</td>\n",
       "      <td>0.453447</td>\n",
       "      <td>0.146669</td>\n",
       "      <td>0.136575</td>\n",
       "      <td>0.205960</td>\n",
       "      <td>0.065053</td>\n",
       "      <td>0.072173</td>\n",
       "      <td>0.138569</td>\n",
       "    </tr>\n",
       "    <tr>\n",
       "      <th>min</th>\n",
       "      <td>0.000000</td>\n",
       "      <td>0.000000</td>\n",
       "      <td>0.000000</td>\n",
       "      <td>0.000000</td>\n",
       "      <td>0.000000</td>\n",
       "      <td>0.000000</td>\n",
       "      <td>0.000000</td>\n",
       "      <td>0.000000</td>\n",
       "    </tr>\n",
       "    <tr>\n",
       "      <th>25%</th>\n",
       "      <td>0.361138</td>\n",
       "      <td>0.004800</td>\n",
       "      <td>0.375000</td>\n",
       "      <td>0.372549</td>\n",
       "      <td>0.400692</td>\n",
       "      <td>0.005401</td>\n",
       "      <td>0.005979</td>\n",
       "      <td>0.130230</td>\n",
       "    </tr>\n",
       "    <tr>\n",
       "      <th>50%</th>\n",
       "      <td>0.486752</td>\n",
       "      <td>0.005267</td>\n",
       "      <td>0.450000</td>\n",
       "      <td>0.458824</td>\n",
       "      <td>0.401058</td>\n",
       "      <td>0.006362</td>\n",
       "      <td>0.006768</td>\n",
       "      <td>0.198963</td>\n",
       "    </tr>\n",
       "    <tr>\n",
       "      <th>75%</th>\n",
       "      <td>0.611384</td>\n",
       "      <td>1.000000</td>\n",
       "      <td>0.500000</td>\n",
       "      <td>0.505882</td>\n",
       "      <td>0.401333</td>\n",
       "      <td>0.007423</td>\n",
       "      <td>0.007588</td>\n",
       "      <td>0.294139</td>\n",
       "    </tr>\n",
       "    <tr>\n",
       "      <th>max</th>\n",
       "      <td>1.000000</td>\n",
       "      <td>1.000000</td>\n",
       "      <td>1.000000</td>\n",
       "      <td>1.000000</td>\n",
       "      <td>1.000000</td>\n",
       "      <td>1.000000</td>\n",
       "      <td>1.000000</td>\n",
       "      <td>1.000000</td>\n",
       "    </tr>\n",
       "  </tbody>\n",
       "</table>\n",
       "</div>"
      ],
      "text/plain": [
       "        rr_interval         p_end     qrs_onset       qrs_end        p_axis  \\\n",
       "count  10000.000000  10000.000000  10000.000000  10000.000000  10000.000000   \n",
       "mean       0.491072      0.297700      0.445746      0.449373      0.492989   \n",
       "std        0.183346      0.453447      0.146669      0.136575      0.205960   \n",
       "min        0.000000      0.000000      0.000000      0.000000      0.000000   \n",
       "25%        0.361138      0.004800      0.375000      0.372549      0.400692   \n",
       "50%        0.486752      0.005267      0.450000      0.458824      0.401058   \n",
       "75%        0.611384      1.000000      0.500000      0.505882      0.401333   \n",
       "max        1.000000      1.000000      1.000000      1.000000      1.000000   \n",
       "\n",
       "           qrs_axis        t_axis    heart_rate  \n",
       "count  10000.000000  10000.000000  10000.000000  \n",
       "mean       0.010672      0.012376      0.226363  \n",
       "std        0.065053      0.072173      0.138569  \n",
       "min        0.000000      0.000000      0.000000  \n",
       "25%        0.005401      0.005979      0.130230  \n",
       "50%        0.006362      0.006768      0.198963  \n",
       "75%        0.007423      0.007588      0.294139  \n",
       "max        1.000000      1.000000      1.000000  "
      ]
     },
     "execution_count": 30,
     "metadata": {},
     "output_type": "execute_result"
    }
   ],
   "source": [
    "numeric_cols = ['rr_interval', 'p_end', 'qrs_onset', 'qrs_end', 'p_axis', 'qrs_axis', 't_axis', 'heart_rate']\n",
    "\n",
    "for col in numeric_cols:\n",
    "    data[col] = (data[col] - data[col].min()) / (data[col].max() - data[col].min())\n",
    "\n",
    "data[numeric_cols].describe()"
   ]
  },
  {
   "cell_type": "code",
   "execution_count": 31,
   "id": "4749f30e-e66f-4544-b13a-79719452161c",
   "metadata": {},
   "outputs": [],
   "source": [
    "# Разделение данных\n",
    "train_df, temp_df = train_test_split(data, test_size=0.3, random_state=42)\n",
    "val_df, test_df = train_test_split(temp_df, test_size=0.5, random_state=42)\n",
    "\n",
    "\n",
    "\n",
    "# Разделение на признаки и целевую переменную\n",
    "X_train, y_train = train_df.drop(target, axis=1), train_df[target]\n",
    "X_val, y_val = val_df.drop(target, axis=1), val_df[target]\n",
    "X_test, y_test = test_df.drop(target, axis=1), test_df[target]"
   ]
  },
  {
   "cell_type": "markdown",
   "id": "3d628afa-bbc7-47ae-a60f-daad94f04e30",
   "metadata": {},
   "source": [
    "#### 4.\t\n",
    "Проверьте свои модели на тестовой и валидационной выборке."
   ]
  },
  {
   "cell_type": "markdown",
   "id": "c0329f6f-358c-46d2-ad9f-193da8ed65e0",
   "metadata": {
    "jp-MarkdownHeadingCollapsed": true
   },
   "source": [
    "#### fedot"
   ]
  },
  {
   "cell_type": "code",
   "execution_count": 32,
   "id": "e0724fdf-5461-4aeb-b30c-f6539ae73ccc",
   "metadata": {},
   "outputs": [],
   "source": [
    "from fedot.core.data.data import InputData\n",
    "from fedot.core.pipelines.pipeline import Pipeline\n",
    "from fedot.core.pipelines.node import PipelineNode\n",
    "from fedot.core.repository.tasks import Task, TaskTypesEnum"
   ]
  },
  {
   "cell_type": "code",
   "execution_count": 33,
   "id": "32d90a11-07aa-41d3-b2d6-24912200c634",
   "metadata": {},
   "outputs": [],
   "source": [
    "# Создание конвейера\n",
    "node_final = PipelineNode('rf', nodes_from=[PipelineNode('scaling')])\n",
    "pipeline = Pipeline(node_final)"
   ]
  },
  {
   "cell_type": "code",
   "execution_count": 34,
   "id": "65cf1d8f-f489-4356-bea8-bcc70c4038cc",
   "metadata": {
    "scrolled": true
   },
   "outputs": [
    {
     "name": "stdout",
     "output_type": "stream",
     "text": [
      "2025-04-18 16:11:20,302 - TableTypesCorrector - Preprocessing was unable to define the categorical columns\n",
      "success fit\n"
     ]
    }
   ],
   "source": [
    "\n",
    "# Создание InputData с обработкой\n",
    "train_input = InputData.from_dataframe(\n",
    "    features_df=train_df.drop(target, axis=1),\n",
    "    target_df=train_df[target],\n",
    "    task=Task(TaskTypesEnum.classification)\n",
    ")\n",
    "\n",
    "val_input = InputData.from_dataframe(\n",
    "    features_df=val_df.drop(target, axis=1),\n",
    "    target_df=val_df[target],\n",
    "    task=Task(TaskTypesEnum.classification)\n",
    ")\n",
    "\n",
    "\n",
    "test_input = InputData.from_dataframe(\n",
    "    features_df=test_df.drop(target, axis=1),\n",
    "    target_df=test_df[target],\n",
    "    task=Task(TaskTypesEnum.classification)\n",
    ")\n",
    "\n",
    "# Оптимизированный пайплайн\n",
    "node_final = PipelineNode('rf', nodes_from=[\n",
    "    PipelineNode('scaling'),\n",
    "    PipelineNode('pca', params={'n_components': 5})  # Добавление PCA\n",
    "])\n",
    "pipeline = Pipeline(node_final)\n",
    "\n",
    "# Обучение с параметрами\n",
    "pipeline.fit(train_input)\n",
    "print('success fit')"
   ]
  },
  {
   "cell_type": "code",
   "execution_count": 35,
   "id": "84abdf53-428a-4f72-8ab0-efcdeccb740d",
   "metadata": {},
   "outputs": [
    {
     "data": {
      "text/plain": [
       "{'depth': 2, 'length': 3, 'nodes': [rf, scaling, pca]}"
      ]
     },
     "execution_count": 35,
     "metadata": {},
     "output_type": "execute_result"
    }
   ],
   "source": [
    "pipeline"
   ]
  },
  {
   "cell_type": "code",
   "execution_count": 36,
   "id": "c4890323-1bc7-4ed4-a936-6799b39bd943",
   "metadata": {},
   "outputs": [
    {
     "name": "stdout",
     "output_type": "stream",
     "text": [
      "\n",
      "ROC-AUC: 0.9038\n",
      "best treshold: 0.24242424242424243\n",
      "Матрица ошибок:\n",
      " [[958 230]\n",
      " [ 18 294]]\n",
      "F1-метрика: 0.7033492822966507\n",
      "Полный отчет:\n",
      "               precision    recall  f1-score   support\n",
      "\n",
      "           0       0.98      0.81      0.89      1188\n",
      "           1       0.56      0.94      0.70       312\n",
      "\n",
      "    accuracy                           0.83      1500\n",
      "   macro avg       0.77      0.87      0.79      1500\n",
      "weighted avg       0.89      0.83      0.85      1500\n",
      "\n"
     ]
    }
   ],
   "source": [
    "# Оценка с оптимизацией порога\n",
    "predicted = pipeline.predict(val_input)\n",
    "print(f\"\\nROC-AUC: {roc_auc_score(val_input.target, predicted.predict):.4f}\")\n",
    "\n",
    "# Поиск оптимального порога через F1-score\n",
    "thresholds = np.linspace(0, 1, 100)\n",
    "f1_scores = [f1_score(val_input.target, (predicted.predict >= t).astype(int)) for t in thresholds]\n",
    "best_threshold = thresholds[np.argmax(f1_scores)]\n",
    "print(f'best treshold: {best_threshold}')\n",
    "binary_pred = (predicted.predict >= best_threshold).astype(int)\n",
    "\n",
    "# Метрики\n",
    "print(\"Матрица ошибок:\\n\", confusion_matrix(val_input.target, binary_pred))\n",
    "print(\"F1-метрика:\", f1_score(val_input.target, binary_pred))\n",
    "print(\"Полный отчет:\\n\", classification_report(val_input.target, binary_pred))"
   ]
  },
  {
   "cell_type": "code",
   "execution_count": 37,
   "id": "f971c7ec-a273-49f2-9177-9b5a585c0497",
   "metadata": {},
   "outputs": [
    {
     "name": "stdout",
     "output_type": "stream",
     "text": [
      "\n",
      "ROC-AUC: 1.0000\n",
      "\tTrain Metrics:\n",
      "Confusion Matrix:\n",
      " [[5435  179]\n",
      " [   0 1386]]\n",
      "F1-score: 0.9393425957302609\n",
      "Classification Report:\n",
      "               precision    recall  f1-score   support\n",
      "\n",
      "           0       1.00      0.97      0.98      5614\n",
      "           1       0.89      1.00      0.94      1386\n",
      "\n",
      "    accuracy                           0.97      7000\n",
      "   macro avg       0.94      0.98      0.96      7000\n",
      "weighted avg       0.98      0.97      0.97      7000\n",
      "\n"
     ]
    }
   ],
   "source": [
    "train_predict = pipeline.predict(train_input)\n",
    "print(f\"\\nROC-AUC: {roc_auc_score(train_input.target, train_predict.predict):.4f}\")\n",
    "\n",
    "# Метрики на валидации\n",
    "y_pred_train = (train_predict.predict >= best_threshold).astype(int)\n",
    "print(\"\\tTrain Metrics:\")\n",
    "print(\"Confusion Matrix:\\n\", confusion_matrix(y_train, y_pred_train))\n",
    "print(\"F1-score:\", f1_score(y_train, y_pred_train))\n",
    "print(\"Classification Report:\\n\", classification_report(y_train, y_pred_train))"
   ]
  },
  {
   "cell_type": "code",
   "execution_count": 38,
   "id": "55816810-f722-438c-b211-589abb116668",
   "metadata": {},
   "outputs": [
    {
     "name": "stdout",
     "output_type": "stream",
     "text": [
      "\n",
      "ROC-AUC: 0.9042\n",
      "Матрица ошибок:\n",
      " [[932 259]\n",
      " [ 19 290]]\n",
      "F1-метрика: 0.675990675990676\n",
      "Полный отчет:\n",
      "               precision    recall  f1-score   support\n",
      "\n",
      "           0       0.98      0.78      0.87      1191\n",
      "           1       0.53      0.94      0.68       309\n",
      "\n",
      "    accuracy                           0.81      1500\n",
      "   macro avg       0.75      0.86      0.77      1500\n",
      "weighted avg       0.89      0.81      0.83      1500\n",
      "\n"
     ]
    }
   ],
   "source": [
    "predicted = pipeline.predict(test_input)\n",
    "print(f\"\\nROC-AUC: {roc_auc_score(test_input.target, predicted.predict):.4f}\")\n",
    "\n",
    "\n",
    "binary_pred = (predicted.predict >= best_threshold).astype(int)\n",
    "\n",
    "# Метрики\n",
    "print(\"Матрица ошибок:\\n\", confusion_matrix(test_input.target, binary_pred))\n",
    "print(\"F1-метрика:\", f1_score(test_input.target, binary_pred))\n",
    "print(\"Полный отчет:\\n\", classification_report(test_input.target, binary_pred))\n"
   ]
  },
  {
   "cell_type": "code",
   "execution_count": null,
   "id": "41c11c36-57bb-41b2-b43d-6535b5867c6e",
   "metadata": {},
   "outputs": [],
   "source": []
  },
  {
   "cell_type": "markdown",
   "id": "d1fb63de-e673-448e-8751-61e74fdc448d",
   "metadata": {
    "jp-MarkdownHeadingCollapsed": true
   },
   "source": [
    "#### TPOT"
   ]
  },
  {
   "cell_type": "code",
   "execution_count": 39,
   "id": "5546431b-0586-4111-89b0-92af64701c43",
   "metadata": {},
   "outputs": [],
   "source": [
    "from tpot import TPOTClassifier"
   ]
  },
  {
   "cell_type": "code",
   "execution_count": 40,
   "id": "aeb99913-243e-4472-a300-1186f78ff1a9",
   "metadata": {
    "scrolled": true
   },
   "outputs": [
    {
     "name": "stdout",
     "output_type": "stream",
     "text": [
      "\n",
      "==================================================\n",
      "Training TPOT\n",
      "==================================================\n"
     ]
    },
    {
     "name": "stderr",
     "output_type": "stream",
     "text": [
      "Version 0.12.2 of tpot is outdated. Version 1.0.0 was released Wednesday February 26, 2025.\n"
     ]
    },
    {
     "data": {
      "application/vnd.jupyter.widget-view+json": {
       "model_id": "e75a0efced0f43e88d09eff684a68ba8",
       "version_major": 2,
       "version_minor": 0
      },
      "text/plain": [
       "Optimization Progress:   0%|          | 0/20 [00:00<?, ?pipeline/s]"
      ]
     },
     "metadata": {},
     "output_type": "display_data"
    },
    {
     "name": "stdout",
     "output_type": "stream",
     "text": [
      "\n",
      "Generation 1 - Current best internal CV score: 0.8949651913380368\n",
      "\n",
      "Generation 2 - Current best internal CV score: 0.8949651913380368\n",
      "\n",
      "Generation 3 - Current best internal CV score: 0.895529220785939\n",
      "\n",
      "Generation 4 - Current best internal CV score: 0.895529220785939\n",
      "\n",
      "Generation 5 - Current best internal CV score: 0.8972786022309922\n",
      "\n",
      "Best pipeline: DecisionTreeClassifier(StandardScaler(DecisionTreeClassifier(input_matrix, criterion=gini, max_depth=5, min_samples_leaf=19, min_samples_split=9)), criterion=gini, max_depth=7, min_samples_leaf=20, min_samples_split=4)\n"
     ]
    },
    {
     "data": {
      "text/html": [
       "<style>#sk-container-id-2 {\n",
       "  /* Definition of color scheme common for light and dark mode */\n",
       "  --sklearn-color-text: black;\n",
       "  --sklearn-color-line: gray;\n",
       "  /* Definition of color scheme for unfitted estimators */\n",
       "  --sklearn-color-unfitted-level-0: #fff5e6;\n",
       "  --sklearn-color-unfitted-level-1: #f6e4d2;\n",
       "  --sklearn-color-unfitted-level-2: #ffe0b3;\n",
       "  --sklearn-color-unfitted-level-3: chocolate;\n",
       "  /* Definition of color scheme for fitted estimators */\n",
       "  --sklearn-color-fitted-level-0: #f0f8ff;\n",
       "  --sklearn-color-fitted-level-1: #d4ebff;\n",
       "  --sklearn-color-fitted-level-2: #b3dbfd;\n",
       "  --sklearn-color-fitted-level-3: cornflowerblue;\n",
       "\n",
       "  /* Specific color for light theme */\n",
       "  --sklearn-color-text-on-default-background: var(--sg-text-color, var(--theme-code-foreground, var(--jp-content-font-color1, black)));\n",
       "  --sklearn-color-background: var(--sg-background-color, var(--theme-background, var(--jp-layout-color0, white)));\n",
       "  --sklearn-color-border-box: var(--sg-text-color, var(--theme-code-foreground, var(--jp-content-font-color1, black)));\n",
       "  --sklearn-color-icon: #696969;\n",
       "\n",
       "  @media (prefers-color-scheme: dark) {\n",
       "    /* Redefinition of color scheme for dark theme */\n",
       "    --sklearn-color-text-on-default-background: var(--sg-text-color, var(--theme-code-foreground, var(--jp-content-font-color1, white)));\n",
       "    --sklearn-color-background: var(--sg-background-color, var(--theme-background, var(--jp-layout-color0, #111)));\n",
       "    --sklearn-color-border-box: var(--sg-text-color, var(--theme-code-foreground, var(--jp-content-font-color1, white)));\n",
       "    --sklearn-color-icon: #878787;\n",
       "  }\n",
       "}\n",
       "\n",
       "#sk-container-id-2 {\n",
       "  color: var(--sklearn-color-text);\n",
       "}\n",
       "\n",
       "#sk-container-id-2 pre {\n",
       "  padding: 0;\n",
       "}\n",
       "\n",
       "#sk-container-id-2 input.sk-hidden--visually {\n",
       "  border: 0;\n",
       "  clip: rect(1px 1px 1px 1px);\n",
       "  clip: rect(1px, 1px, 1px, 1px);\n",
       "  height: 1px;\n",
       "  margin: -1px;\n",
       "  overflow: hidden;\n",
       "  padding: 0;\n",
       "  position: absolute;\n",
       "  width: 1px;\n",
       "}\n",
       "\n",
       "#sk-container-id-2 div.sk-dashed-wrapped {\n",
       "  border: 1px dashed var(--sklearn-color-line);\n",
       "  margin: 0 0.4em 0.5em 0.4em;\n",
       "  box-sizing: border-box;\n",
       "  padding-bottom: 0.4em;\n",
       "  background-color: var(--sklearn-color-background);\n",
       "}\n",
       "\n",
       "#sk-container-id-2 div.sk-container {\n",
       "  /* jupyter's `normalize.less` sets `[hidden] { display: none; }`\n",
       "     but bootstrap.min.css set `[hidden] { display: none !important; }`\n",
       "     so we also need the `!important` here to be able to override the\n",
       "     default hidden behavior on the sphinx rendered scikit-learn.org.\n",
       "     See: https://github.com/scikit-learn/scikit-learn/issues/21755 */\n",
       "  display: inline-block !important;\n",
       "  position: relative;\n",
       "}\n",
       "\n",
       "#sk-container-id-2 div.sk-text-repr-fallback {\n",
       "  display: none;\n",
       "}\n",
       "\n",
       "div.sk-parallel-item,\n",
       "div.sk-serial,\n",
       "div.sk-item {\n",
       "  /* draw centered vertical line to link estimators */\n",
       "  background-image: linear-gradient(var(--sklearn-color-text-on-default-background), var(--sklearn-color-text-on-default-background));\n",
       "  background-size: 2px 100%;\n",
       "  background-repeat: no-repeat;\n",
       "  background-position: center center;\n",
       "}\n",
       "\n",
       "/* Parallel-specific style estimator block */\n",
       "\n",
       "#sk-container-id-2 div.sk-parallel-item::after {\n",
       "  content: \"\";\n",
       "  width: 100%;\n",
       "  border-bottom: 2px solid var(--sklearn-color-text-on-default-background);\n",
       "  flex-grow: 1;\n",
       "}\n",
       "\n",
       "#sk-container-id-2 div.sk-parallel {\n",
       "  display: flex;\n",
       "  align-items: stretch;\n",
       "  justify-content: center;\n",
       "  background-color: var(--sklearn-color-background);\n",
       "  position: relative;\n",
       "}\n",
       "\n",
       "#sk-container-id-2 div.sk-parallel-item {\n",
       "  display: flex;\n",
       "  flex-direction: column;\n",
       "}\n",
       "\n",
       "#sk-container-id-2 div.sk-parallel-item:first-child::after {\n",
       "  align-self: flex-end;\n",
       "  width: 50%;\n",
       "}\n",
       "\n",
       "#sk-container-id-2 div.sk-parallel-item:last-child::after {\n",
       "  align-self: flex-start;\n",
       "  width: 50%;\n",
       "}\n",
       "\n",
       "#sk-container-id-2 div.sk-parallel-item:only-child::after {\n",
       "  width: 0;\n",
       "}\n",
       "\n",
       "/* Serial-specific style estimator block */\n",
       "\n",
       "#sk-container-id-2 div.sk-serial {\n",
       "  display: flex;\n",
       "  flex-direction: column;\n",
       "  align-items: center;\n",
       "  background-color: var(--sklearn-color-background);\n",
       "  padding-right: 1em;\n",
       "  padding-left: 1em;\n",
       "}\n",
       "\n",
       "\n",
       "/* Toggleable style: style used for estimator/Pipeline/ColumnTransformer box that is\n",
       "clickable and can be expanded/collapsed.\n",
       "- Pipeline and ColumnTransformer use this feature and define the default style\n",
       "- Estimators will overwrite some part of the style using the `sk-estimator` class\n",
       "*/\n",
       "\n",
       "/* Pipeline and ColumnTransformer style (default) */\n",
       "\n",
       "#sk-container-id-2 div.sk-toggleable {\n",
       "  /* Default theme specific background. It is overwritten whether we have a\n",
       "  specific estimator or a Pipeline/ColumnTransformer */\n",
       "  background-color: var(--sklearn-color-background);\n",
       "}\n",
       "\n",
       "/* Toggleable label */\n",
       "#sk-container-id-2 label.sk-toggleable__label {\n",
       "  cursor: pointer;\n",
       "  display: block;\n",
       "  width: 100%;\n",
       "  margin-bottom: 0;\n",
       "  padding: 0.5em;\n",
       "  box-sizing: border-box;\n",
       "  text-align: center;\n",
       "}\n",
       "\n",
       "#sk-container-id-2 label.sk-toggleable__label-arrow:before {\n",
       "  /* Arrow on the left of the label */\n",
       "  content: \"▸\";\n",
       "  float: left;\n",
       "  margin-right: 0.25em;\n",
       "  color: var(--sklearn-color-icon);\n",
       "}\n",
       "\n",
       "#sk-container-id-2 label.sk-toggleable__label-arrow:hover:before {\n",
       "  color: var(--sklearn-color-text);\n",
       "}\n",
       "\n",
       "/* Toggleable content - dropdown */\n",
       "\n",
       "#sk-container-id-2 div.sk-toggleable__content {\n",
       "  max-height: 0;\n",
       "  max-width: 0;\n",
       "  overflow: hidden;\n",
       "  text-align: left;\n",
       "  /* unfitted */\n",
       "  background-color: var(--sklearn-color-unfitted-level-0);\n",
       "}\n",
       "\n",
       "#sk-container-id-2 div.sk-toggleable__content.fitted {\n",
       "  /* fitted */\n",
       "  background-color: var(--sklearn-color-fitted-level-0);\n",
       "}\n",
       "\n",
       "#sk-container-id-2 div.sk-toggleable__content pre {\n",
       "  margin: 0.2em;\n",
       "  border-radius: 0.25em;\n",
       "  color: var(--sklearn-color-text);\n",
       "  /* unfitted */\n",
       "  background-color: var(--sklearn-color-unfitted-level-0);\n",
       "}\n",
       "\n",
       "#sk-container-id-2 div.sk-toggleable__content.fitted pre {\n",
       "  /* unfitted */\n",
       "  background-color: var(--sklearn-color-fitted-level-0);\n",
       "}\n",
       "\n",
       "#sk-container-id-2 input.sk-toggleable__control:checked~div.sk-toggleable__content {\n",
       "  /* Expand drop-down */\n",
       "  max-height: 200px;\n",
       "  max-width: 100%;\n",
       "  overflow: auto;\n",
       "}\n",
       "\n",
       "#sk-container-id-2 input.sk-toggleable__control:checked~label.sk-toggleable__label-arrow:before {\n",
       "  content: \"▾\";\n",
       "}\n",
       "\n",
       "/* Pipeline/ColumnTransformer-specific style */\n",
       "\n",
       "#sk-container-id-2 div.sk-label input.sk-toggleable__control:checked~label.sk-toggleable__label {\n",
       "  color: var(--sklearn-color-text);\n",
       "  background-color: var(--sklearn-color-unfitted-level-2);\n",
       "}\n",
       "\n",
       "#sk-container-id-2 div.sk-label.fitted input.sk-toggleable__control:checked~label.sk-toggleable__label {\n",
       "  background-color: var(--sklearn-color-fitted-level-2);\n",
       "}\n",
       "\n",
       "/* Estimator-specific style */\n",
       "\n",
       "/* Colorize estimator box */\n",
       "#sk-container-id-2 div.sk-estimator input.sk-toggleable__control:checked~label.sk-toggleable__label {\n",
       "  /* unfitted */\n",
       "  background-color: var(--sklearn-color-unfitted-level-2);\n",
       "}\n",
       "\n",
       "#sk-container-id-2 div.sk-estimator.fitted input.sk-toggleable__control:checked~label.sk-toggleable__label {\n",
       "  /* fitted */\n",
       "  background-color: var(--sklearn-color-fitted-level-2);\n",
       "}\n",
       "\n",
       "#sk-container-id-2 div.sk-label label.sk-toggleable__label,\n",
       "#sk-container-id-2 div.sk-label label {\n",
       "  /* The background is the default theme color */\n",
       "  color: var(--sklearn-color-text-on-default-background);\n",
       "}\n",
       "\n",
       "/* On hover, darken the color of the background */\n",
       "#sk-container-id-2 div.sk-label:hover label.sk-toggleable__label {\n",
       "  color: var(--sklearn-color-text);\n",
       "  background-color: var(--sklearn-color-unfitted-level-2);\n",
       "}\n",
       "\n",
       "/* Label box, darken color on hover, fitted */\n",
       "#sk-container-id-2 div.sk-label.fitted:hover label.sk-toggleable__label.fitted {\n",
       "  color: var(--sklearn-color-text);\n",
       "  background-color: var(--sklearn-color-fitted-level-2);\n",
       "}\n",
       "\n",
       "/* Estimator label */\n",
       "\n",
       "#sk-container-id-2 div.sk-label label {\n",
       "  font-family: monospace;\n",
       "  font-weight: bold;\n",
       "  display: inline-block;\n",
       "  line-height: 1.2em;\n",
       "}\n",
       "\n",
       "#sk-container-id-2 div.sk-label-container {\n",
       "  text-align: center;\n",
       "}\n",
       "\n",
       "/* Estimator-specific */\n",
       "#sk-container-id-2 div.sk-estimator {\n",
       "  font-family: monospace;\n",
       "  border: 1px dotted var(--sklearn-color-border-box);\n",
       "  border-radius: 0.25em;\n",
       "  box-sizing: border-box;\n",
       "  margin-bottom: 0.5em;\n",
       "  /* unfitted */\n",
       "  background-color: var(--sklearn-color-unfitted-level-0);\n",
       "}\n",
       "\n",
       "#sk-container-id-2 div.sk-estimator.fitted {\n",
       "  /* fitted */\n",
       "  background-color: var(--sklearn-color-fitted-level-0);\n",
       "}\n",
       "\n",
       "/* on hover */\n",
       "#sk-container-id-2 div.sk-estimator:hover {\n",
       "  /* unfitted */\n",
       "  background-color: var(--sklearn-color-unfitted-level-2);\n",
       "}\n",
       "\n",
       "#sk-container-id-2 div.sk-estimator.fitted:hover {\n",
       "  /* fitted */\n",
       "  background-color: var(--sklearn-color-fitted-level-2);\n",
       "}\n",
       "\n",
       "/* Specification for estimator info (e.g. \"i\" and \"?\") */\n",
       "\n",
       "/* Common style for \"i\" and \"?\" */\n",
       "\n",
       ".sk-estimator-doc-link,\n",
       "a:link.sk-estimator-doc-link,\n",
       "a:visited.sk-estimator-doc-link {\n",
       "  float: right;\n",
       "  font-size: smaller;\n",
       "  line-height: 1em;\n",
       "  font-family: monospace;\n",
       "  background-color: var(--sklearn-color-background);\n",
       "  border-radius: 1em;\n",
       "  height: 1em;\n",
       "  width: 1em;\n",
       "  text-decoration: none !important;\n",
       "  margin-left: 1ex;\n",
       "  /* unfitted */\n",
       "  border: var(--sklearn-color-unfitted-level-1) 1pt solid;\n",
       "  color: var(--sklearn-color-unfitted-level-1);\n",
       "}\n",
       "\n",
       ".sk-estimator-doc-link.fitted,\n",
       "a:link.sk-estimator-doc-link.fitted,\n",
       "a:visited.sk-estimator-doc-link.fitted {\n",
       "  /* fitted */\n",
       "  border: var(--sklearn-color-fitted-level-1) 1pt solid;\n",
       "  color: var(--sklearn-color-fitted-level-1);\n",
       "}\n",
       "\n",
       "/* On hover */\n",
       "div.sk-estimator:hover .sk-estimator-doc-link:hover,\n",
       ".sk-estimator-doc-link:hover,\n",
       "div.sk-label-container:hover .sk-estimator-doc-link:hover,\n",
       ".sk-estimator-doc-link:hover {\n",
       "  /* unfitted */\n",
       "  background-color: var(--sklearn-color-unfitted-level-3);\n",
       "  color: var(--sklearn-color-background);\n",
       "  text-decoration: none;\n",
       "}\n",
       "\n",
       "div.sk-estimator.fitted:hover .sk-estimator-doc-link.fitted:hover,\n",
       ".sk-estimator-doc-link.fitted:hover,\n",
       "div.sk-label-container:hover .sk-estimator-doc-link.fitted:hover,\n",
       ".sk-estimator-doc-link.fitted:hover {\n",
       "  /* fitted */\n",
       "  background-color: var(--sklearn-color-fitted-level-3);\n",
       "  color: var(--sklearn-color-background);\n",
       "  text-decoration: none;\n",
       "}\n",
       "\n",
       "/* Span, style for the box shown on hovering the info icon */\n",
       ".sk-estimator-doc-link span {\n",
       "  display: none;\n",
       "  z-index: 9999;\n",
       "  position: relative;\n",
       "  font-weight: normal;\n",
       "  right: .2ex;\n",
       "  padding: .5ex;\n",
       "  margin: .5ex;\n",
       "  width: min-content;\n",
       "  min-width: 20ex;\n",
       "  max-width: 50ex;\n",
       "  color: var(--sklearn-color-text);\n",
       "  box-shadow: 2pt 2pt 4pt #999;\n",
       "  /* unfitted */\n",
       "  background: var(--sklearn-color-unfitted-level-0);\n",
       "  border: .5pt solid var(--sklearn-color-unfitted-level-3);\n",
       "}\n",
       "\n",
       ".sk-estimator-doc-link.fitted span {\n",
       "  /* fitted */\n",
       "  background: var(--sklearn-color-fitted-level-0);\n",
       "  border: var(--sklearn-color-fitted-level-3);\n",
       "}\n",
       "\n",
       ".sk-estimator-doc-link:hover span {\n",
       "  display: block;\n",
       "}\n",
       "\n",
       "/* \"?\"-specific style due to the `<a>` HTML tag */\n",
       "\n",
       "#sk-container-id-2 a.estimator_doc_link {\n",
       "  float: right;\n",
       "  font-size: 1rem;\n",
       "  line-height: 1em;\n",
       "  font-family: monospace;\n",
       "  background-color: var(--sklearn-color-background);\n",
       "  border-radius: 1rem;\n",
       "  height: 1rem;\n",
       "  width: 1rem;\n",
       "  text-decoration: none;\n",
       "  /* unfitted */\n",
       "  color: var(--sklearn-color-unfitted-level-1);\n",
       "  border: var(--sklearn-color-unfitted-level-1) 1pt solid;\n",
       "}\n",
       "\n",
       "#sk-container-id-2 a.estimator_doc_link.fitted {\n",
       "  /* fitted */\n",
       "  border: var(--sklearn-color-fitted-level-1) 1pt solid;\n",
       "  color: var(--sklearn-color-fitted-level-1);\n",
       "}\n",
       "\n",
       "/* On hover */\n",
       "#sk-container-id-2 a.estimator_doc_link:hover {\n",
       "  /* unfitted */\n",
       "  background-color: var(--sklearn-color-unfitted-level-3);\n",
       "  color: var(--sklearn-color-background);\n",
       "  text-decoration: none;\n",
       "}\n",
       "\n",
       "#sk-container-id-2 a.estimator_doc_link.fitted:hover {\n",
       "  /* fitted */\n",
       "  background-color: var(--sklearn-color-fitted-level-3);\n",
       "}\n",
       "</style><div id=\"sk-container-id-2\" class=\"sk-top-container\"><div class=\"sk-text-repr-fallback\"><pre>TPOTClassifier(config_dict=&#x27;TPOT light&#x27;, generations=5, max_time_mins=2,\n",
       "               n_jobs=-1, population_size=20, random_state=42,\n",
       "               scoring=&#x27;roc_auc&#x27;, verbosity=2)</pre><b>In a Jupyter environment, please rerun this cell to show the HTML representation or trust the notebook. <br />On GitHub, the HTML representation is unable to render, please try loading this page with nbviewer.org.</b></div><div class=\"sk-container\" hidden><div class=\"sk-item\"><div class=\"sk-estimator fitted sk-toggleable\"><input class=\"sk-toggleable__control sk-hidden--visually\" id=\"sk-estimator-id-2\" type=\"checkbox\" checked><label for=\"sk-estimator-id-2\" class=\"sk-toggleable__label fitted sk-toggleable__label-arrow fitted\">&nbsp;TPOTClassifier<span class=\"sk-estimator-doc-link fitted\">i<span>Fitted</span></span></label><div class=\"sk-toggleable__content fitted\"><pre>TPOTClassifier(config_dict=&#x27;TPOT light&#x27;, generations=5, max_time_mins=2,\n",
       "               n_jobs=-1, population_size=20, random_state=42,\n",
       "               scoring=&#x27;roc_auc&#x27;, verbosity=2)</pre></div> </div></div></div></div>"
      ],
      "text/plain": [
       "TPOTClassifier(config_dict='TPOT light', generations=5, max_time_mins=2,\n",
       "               n_jobs=-1, population_size=20, random_state=42,\n",
       "               scoring='roc_auc', verbosity=2)"
      ]
     },
     "execution_count": 40,
     "metadata": {},
     "output_type": "execute_result"
    }
   ],
   "source": [
    "print(\"\\n\" + \"=\"*50 + \"\\nTraining TPOT\\n\" + \"=\"*50)\n",
    "\n",
    "# Настройка TPOT\n",
    "tpot = TPOTClassifier(\n",
    "    generations=5,           # Количество поколений\n",
    "    population_size=20,      # Размер популяции\n",
    "    verbosity=2,            # Уровень вывода (0-3)\n",
    "    random_state=42,\n",
    "    scoring='roc_auc',      # Метрика для оптимизации\n",
    "    n_jobs=-1,              # Использовать все ядра\n",
    "    max_time_mins=2,        # 2 минуты на обучение\n",
    "    config_dict='TPOT light' # Используем только легкие алгоритмы\n",
    ")\n",
    "\n",
    "# Обучение\n",
    "tpot.fit(X_train, y_train)"
   ]
  },
  {
   "cell_type": "code",
   "execution_count": 41,
   "id": "64de8205-8ecb-4474-ba7a-2c754cf7dbf1",
   "metadata": {},
   "outputs": [
    {
     "name": "stdout",
     "output_type": "stream",
     "text": [
      "\n",
      "ROC-AUC: 0.8958\n",
      "Best threshold: 0.2222\n",
      "\n",
      "Validation Metrics:\n",
      "Confusion Matrix:\n",
      " [[948 240]\n",
      " [ 19 293]]\n",
      "F1-score: 0.693491124260355\n",
      "Classification Report:\n",
      "               precision    recall  f1-score   support\n",
      "\n",
      "           0       0.98      0.80      0.88      1188\n",
      "           1       0.55      0.94      0.69       312\n",
      "\n",
      "    accuracy                           0.83      1500\n",
      "   macro avg       0.77      0.87      0.79      1500\n",
      "weighted avg       0.89      0.83      0.84      1500\n",
      "\n"
     ]
    }
   ],
   "source": [
    "# Оценка с оптимизацией порога\n",
    "val_predict = tpot.predict_proba(X_val)[:, 1]\n",
    "print(f\"\\nROC-AUC: {roc_auc_score(y_val, val_predict):.4f}\")\n",
    "\n",
    "# Поиск оптимального порога через F1-score\n",
    "thresholds = np.linspace(0, 1, 100)\n",
    "f1_scores = [f1_score(y_val, (val_predict >= t).astype(int)) for t in thresholds]\n",
    "best_threshold = thresholds[np.argmax(f1_scores)]\n",
    "print(f'Best threshold: {best_threshold:.4f}')\n",
    "\n",
    "# Метрики на валидации\n",
    "y_pred_val = (val_predict >= best_threshold).astype(int)\n",
    "print(\"\\nValidation Metrics:\")\n",
    "print(\"Confusion Matrix:\\n\", confusion_matrix(y_val, y_pred_val))\n",
    "print(\"F1-score:\", f1_score(y_val, y_pred_val))\n",
    "print(\"Classification Report:\\n\", classification_report(y_val, y_pred_val))"
   ]
  },
  {
   "cell_type": "code",
   "execution_count": 42,
   "id": "b57f3073-dbfd-4597-98b6-8d79f1d194f9",
   "metadata": {},
   "outputs": [
    {
     "name": "stdout",
     "output_type": "stream",
     "text": [
      "\n",
      "ROC-AUC: 0.9126\n",
      "\tTrain Metrics:\n",
      "Confusion Matrix:\n",
      " [[4494 1120]\n",
      " [  40 1346]]\n",
      "F1-score: 0.6988577362409139\n",
      "Classification Report:\n",
      "               precision    recall  f1-score   support\n",
      "\n",
      "           0       0.99      0.80      0.89      5614\n",
      "           1       0.55      0.97      0.70      1386\n",
      "\n",
      "    accuracy                           0.83      7000\n",
      "   macro avg       0.77      0.89      0.79      7000\n",
      "weighted avg       0.90      0.83      0.85      7000\n",
      "\n"
     ]
    }
   ],
   "source": [
    "train_predict = tpot.predict_proba(X_train)[:, 1]\n",
    "print(f\"\\nROC-AUC: {roc_auc_score(y_train, train_predict):.4f}\")\n",
    "\n",
    "# Метрики на валидации\n",
    "y_pred_train = (train_predict >= best_threshold).astype(int)\n",
    "print(\"\\tTrain Metrics:\")\n",
    "print(\"Confusion Matrix:\\n\", confusion_matrix(y_train, y_pred_train))\n",
    "print(\"F1-score:\", f1_score(y_train, y_pred_train))\n",
    "print(\"Classification Report:\\n\", classification_report(y_train, y_pred_train))"
   ]
  },
  {
   "cell_type": "code",
   "execution_count": 43,
   "id": "ceaf04c4-35d1-40d1-b3c8-54b3d3f02f7c",
   "metadata": {},
   "outputs": [
    {
     "name": "stdout",
     "output_type": "stream",
     "text": [
      "\n",
      "Test ROC-AUC: 0.8913\n",
      "\n",
      "Test Metrics:\n",
      "Confusion Matrix:\n",
      " [[923 268]\n",
      " [ 14 295]]\n",
      "F1-score: 0.676605504587156\n",
      "Classification Report:\n",
      "               precision    recall  f1-score   support\n",
      "\n",
      "           0       0.99      0.77      0.87      1191\n",
      "           1       0.52      0.95      0.68       309\n",
      "\n",
      "    accuracy                           0.81      1500\n",
      "   macro avg       0.75      0.86      0.77      1500\n",
      "weighted avg       0.89      0.81      0.83      1500\n",
      "\n"
     ]
    }
   ],
   "source": [
    "# Предсказания на тесте\n",
    "test_predict = tpot.predict_proba(X_test)[:, 1]\n",
    "print(f\"\\nTest ROC-AUC: {roc_auc_score(y_test, test_predict):.4f}\")\n",
    "\n",
    "y_pred_test = (test_predict >= best_threshold).astype(int)\n",
    "print(\"\\nTest Metrics:\")\n",
    "print(\"Confusion Matrix:\\n\", confusion_matrix(y_test, y_pred_test))\n",
    "print(\"F1-score:\", f1_score(y_test, y_pred_test))\n",
    "print(\"Classification Report:\\n\", classification_report(y_test, y_pred_test))\n",
    "\n",
    "# Экспорт лучшего пайплайна\n",
    "tpot.export('best_pipeline.py')  # Сохраняет код лучшего пайплайна"
   ]
  },
  {
   "cell_type": "markdown",
   "id": "feb66c45-73eb-4a93-b3d4-ada71edc4714",
   "metadata": {},
   "source": [
    "#### lightautoml"
   ]
  },
  {
   "cell_type": "code",
   "execution_count": 44,
   "id": "637d069d-57c2-49e9-9795-3d4bbac8c04f",
   "metadata": {},
   "outputs": [],
   "source": [
    "from lightautoml.automl.presets.tabular_presets import TabularAutoML\n",
    "from lightautoml.tasks import Task\n",
    "from lightgbm import LGBMClassifier\n",
    "\n",
    "\n",
    "logging.getLogger('lightautoml').setLevel(logging.WARNING)"
   ]
  },
  {
   "cell_type": "code",
   "execution_count": 45,
   "id": "d3c122a0-fc87-441c-a829-934cbd724fef",
   "metadata": {
    "scrolled": true
   },
   "outputs": [
    {
     "name": "stdout",
     "output_type": "stream",
     "text": [
      "2025-04-18 16:11:28,304 - Stdout logging level is ERROR.\n",
      "2025-04-18 16:11:28,305 - Task: binary\n",
      "\n",
      "2025-04-18 16:11:28,305 - Start automl preset with listed constraints:\n",
      "2025-04-18 16:11:28,306 - - time: 600.00 seconds\n",
      "2025-04-18 16:11:28,306 - - CPU: 4 cores\n",
      "2025-04-18 16:11:28,306 - - memory: 16 GB\n",
      "\n",
      "2025-04-18 16:11:28,307 - \u001b[1mTrain data shape: (7000, 10)\u001b[0m\n",
      "\n",
      "2025-04-18 16:11:30,760 - Layer \u001b[1m1\u001b[0m train process start. Time left 597.55 secs\n",
      "2025-04-18 16:11:31,166 - \u001b[1mSelector_LightGBM\u001b[0m fitting and predicting completed\n",
      "2025-04-18 16:11:31,446 - Start fitting \u001b[1mLvl_0_Pipe_0_Mod_0_LightGBM\u001b[0m ...\n",
      "2025-04-18 16:11:32,915 - Fitting \u001b[1mLvl_0_Pipe_0_Mod_0_LightGBM\u001b[0m finished. score = \u001b[1m0.9142753300216785\u001b[0m\n",
      "2025-04-18 16:11:32,915 - \u001b[1mLvl_0_Pipe_0_Mod_0_LightGBM\u001b[0m fitting and predicting completed\n",
      "2025-04-18 16:11:32,919 - Start fitting \u001b[1mLvl_0_Pipe_0_Mod_1_CatBoost\u001b[0m ...\n",
      "2025-04-18 16:11:35,242 - Fitting \u001b[1mLvl_0_Pipe_0_Mod_1_CatBoost\u001b[0m finished. score = \u001b[1m0.9141878091824653\u001b[0m\n",
      "2025-04-18 16:11:35,243 - \u001b[1mLvl_0_Pipe_0_Mod_1_CatBoost\u001b[0m fitting and predicting completed\n",
      "2025-04-18 16:11:35,244 - Time left 593.06 secs\n",
      "\n",
      "2025-04-18 16:11:35,244 - \u001b[1mLayer 1 training completed.\u001b[0m\n",
      "\n",
      "2025-04-18 16:11:35,247 - Blending: optimization starts with equal weights. Score = \u001b[1m0.9161211\u001b[0m\n",
      "2025-04-18 16:11:35,273 - Blending: iteration \u001b[1m0\u001b[0m: score = \u001b[1m0.9161218\u001b[0m, weights = \u001b[1m[0.5197966  0.48020336]\u001b[0m\n",
      "2025-04-18 16:11:35,299 - Blending: no improvements for score. Terminated.\n",
      "\n",
      "2025-04-18 16:11:35,299 - Blending: best score = \u001b[1m0.9161218\u001b[0m, best weights = \u001b[1m[0.5197966  0.48020336]\u001b[0m\n",
      "2025-04-18 16:11:35,300 - \u001b[1mAutoml preset training completed in 6.99 seconds\u001b[0m\n",
      "\n",
      "2025-04-18 16:11:35,301 - Model description:\n",
      "Final prediction for new objects (level 0) = \n",
      "\t 0.51980 * (5 averaged models Lvl_0_Pipe_0_Mod_0_LightGBM) +\n",
      "\t 0.48020 * (5 averaged models Lvl_0_Pipe_0_Mod_1_CatBoost) \n",
      "\n"
     ]
    }
   ],
   "source": [
    "\n",
    "train_df[target] = train_df[target].astype(int)\n",
    "val_df[target] = val_df[target].astype(int)\n",
    "test_df[target] = test_df[target].astype(int)\n",
    "\n",
    "\n",
    "task = Task('binary')\n",
    "roles = {\n",
    "    'target': target,\n",
    "    'drop': []  # Укажите колонки для исключения, если есть\n",
    "}\n",
    "\n",
    "\n",
    "automl = TabularAutoML(\n",
    "    task=task,\n",
    "    timeout=600,  # 10 минут\n",
    "    cpu_limit=4,\n",
    "    general_params={\n",
    "        'use_algos': [['lgb', 'cb']],  # Только LightGBM и CatBoost\n",
    "        'default_params': {\n",
    "            'lgb': {\n",
    "                'class_weight': 'balanced',  # Учет дисбаланса классов\n",
    "                'random_state': 42\n",
    "            },\n",
    "            'cb': {\n",
    "                'auto_class_weights': 'Balanced',\n",
    "                'random_state': 42\n",
    "            }\n",
    "        }\n",
    "    },\n",
    "    reader_params={\n",
    "        'cv': 5,\n",
    "        'random_state': 42\n",
    "    }\n",
    ")\n",
    "\n",
    "train_pred = automl.fit_predict(train_df, roles=roles, verbose=0)"
   ]
  },
  {
   "cell_type": "code",
   "execution_count": 46,
   "id": "9bb4f9e3-df83-4074-8c2b-d76cde968ce2",
   "metadata": {},
   "outputs": [
    {
     "name": "stdout",
     "output_type": "stream",
     "text": [
      "\n",
      "ROC-AUC: 0.9098\n",
      "Best threshold: 0.3636\n",
      "\n",
      "Validation Metrics:\n",
      "Confusion Matrix:\n",
      " [[1008  180]\n",
      " [  45  267]]\n",
      "F1-score: 0.7035573122529645\n",
      "Classification Report:\n",
      "               precision    recall  f1-score   support\n",
      "\n",
      "           0       0.96      0.85      0.90      1188\n",
      "           1       0.60      0.86      0.70       312\n",
      "\n",
      "    accuracy                           0.85      1500\n",
      "   macro avg       0.78      0.85      0.80      1500\n",
      "weighted avg       0.88      0.85      0.86      1500\n",
      "\n"
     ]
    }
   ],
   "source": [
    "val_predict = automl.predict(X_val).data\n",
    "\n",
    "print(f\"\\nROC-AUC: {roc_auc_score(y_val, val_predict):.4f}\")\n",
    "\n",
    "# Поиск оптимального порога через F1-score\n",
    "thresholds = np.linspace(0, 1, 100)\n",
    "f1_scores = [f1_score(y_val, (val_predict >= t).astype(int)) for t in thresholds]\n",
    "best_threshold = thresholds[np.argmax(f1_scores)]\n",
    "print(f'Best threshold: {best_threshold:.4f}')\n",
    "\n",
    "# Метрики на валидации\n",
    "y_pred_val = (val_predict >= best_threshold).astype(int)\n",
    "print(\"\\nValidation Metrics:\")\n",
    "print(\"Confusion Matrix:\\n\", confusion_matrix(y_val, y_pred_val))\n",
    "print(\"F1-score:\", f1_score(y_val, y_pred_val))\n",
    "print(\"Classification Report:\\n\", classification_report(y_val, y_pred_val))"
   ]
  },
  {
   "cell_type": "code",
   "execution_count": 47,
   "id": "d1bfdd4e-eac6-4e31-bf21-5829304d2096",
   "metadata": {},
   "outputs": [
    {
     "name": "stdout",
     "output_type": "stream",
     "text": [
      "\n",
      "ROC-AUC: 0.9549\n",
      "\tTrain Metrics:\n",
      "Confusion Matrix:\n",
      " [[4867  747]\n",
      " [ 107 1279]]\n",
      "F1-score: 0.7497069167643611\n",
      "Classification Report:\n",
      "               precision    recall  f1-score   support\n",
      "\n",
      "           0       0.98      0.87      0.92      5614\n",
      "           1       0.63      0.92      0.75      1386\n",
      "\n",
      "    accuracy                           0.88      7000\n",
      "   macro avg       0.80      0.89      0.83      7000\n",
      "weighted avg       0.91      0.88      0.89      7000\n",
      "\n"
     ]
    }
   ],
   "source": [
    "train_predict = automl.predict(X_train).data\n",
    "print(f\"\\nROC-AUC: {roc_auc_score(y_train, train_predict):.4f}\")\n",
    "\n",
    "# Метрики на валидации\n",
    "y_pred_train = (train_predict >= best_threshold).astype(int)\n",
    "print(\"\\tTrain Metrics:\")\n",
    "print(\"Confusion Matrix:\\n\", confusion_matrix(y_train, y_pred_train))\n",
    "print(\"F1-score:\", f1_score(y_train, y_pred_train))\n",
    "print(\"Classification Report:\\n\", classification_report(y_train, y_pred_train))"
   ]
  },
  {
   "cell_type": "code",
   "execution_count": 48,
   "id": "90576a4f-112f-41b2-ad87-d58eacc9434f",
   "metadata": {},
   "outputs": [
    {
     "name": "stdout",
     "output_type": "stream",
     "text": [
      "\n",
      "ROC-AUC: 0.9053\n",
      "\n",
      "Test Metrics:\n",
      "Confusion Matrix:\n",
      " [[983 208]\n",
      " [ 48 261]]\n",
      "F1-score: 0.6709511568123393\n",
      "Classification Report:\n",
      "               precision    recall  f1-score   support\n",
      "\n",
      "           0       0.95      0.83      0.88      1191\n",
      "           1       0.56      0.84      0.67       309\n",
      "\n",
      "    accuracy                           0.83      1500\n",
      "   macro avg       0.75      0.84      0.78      1500\n",
      "weighted avg       0.87      0.83      0.84      1500\n",
      "\n"
     ]
    }
   ],
   "source": [
    "# Предсказания на тесте\n",
    "test_predict = automl.predict(X_test).data\n",
    "print(f\"\\nROC-AUC: {roc_auc_score(y_test, test_predict):.4f}\")\n",
    "\n",
    "y_pred_test = (test_predict >= best_threshold).astype(int)\n",
    "print(\"\\nTest Metrics:\")\n",
    "print(\"Confusion Matrix:\\n\", confusion_matrix(y_test, y_pred_test))\n",
    "print(\"F1-score:\", f1_score(y_test, y_pred_test))\n",
    "print(\"Classification Report:\\n\", classification_report(y_test, y_pred_test))\n"
   ]
  },
  {
   "cell_type": "code",
   "execution_count": null,
   "id": "57afe38f-5fef-4f45-a703-77847b272544",
   "metadata": {},
   "outputs": [],
   "source": []
  },
  {
   "cell_type": "code",
   "execution_count": null,
   "id": "ce75088a-075c-4ed7-a919-ed3e60ce233d",
   "metadata": {},
   "outputs": [],
   "source": []
  },
  {
   "cell_type": "markdown",
   "id": "154adb54-77d4-42fb-a399-d071963ca2ee",
   "metadata": {},
   "source": [
    "#### MLFLOW"
   ]
  },
  {
   "cell_type": "code",
   "execution_count": 62,
   "id": "8968b8d1-2f3b-4ce4-b766-1deaac998957",
   "metadata": {},
   "outputs": [
    {
     "name": "stderr",
     "output_type": "stream",
     "text": [
      "/Users/vladimir/miniconda3/envs/py39_jupyter/lib/python3.9/site-packages/mlflow/pyfunc/utils/data_validation.py:186: UserWarning: \u001b[33mAdd type hints to the `predict` method to enable data validation and automatic signature inference during model logging. Check https://mlflow.org/docs/latest/model/python_model.html#type-hint-usage-in-pythonmodel for more details.\u001b[0m\n",
      "  color_warning(\n"
     ]
    },
    {
     "data": {
      "text/plain": [
       "<Experiment: artifact_location='/Users/vladimir/Desktop/University/ppa/labs/artifacts/3', creation_time=1744904699558, experiment_id='3', last_update_time=1744904699558, lifecycle_stage='active', name='ppa_lab', tags={}>"
      ]
     },
     "execution_count": 62,
     "metadata": {},
     "output_type": "execute_result"
    }
   ],
   "source": [
    "import mlflow\n",
    "from mlflow.pyfunc import PythonModel\n",
    "\n",
    "class LightAutoMLWrapper(PythonModel):\n",
    "    def __init__(self, automl):\n",
    "        self.automl = automl\n",
    "        \n",
    "    def predict(self, context, model_input):\n",
    "        predictions = self.automl.predict(model_input)\n",
    "        # Convert NumpyDataset to JSON-serializable format\n",
    "        return predictions.data[:, 0]\n",
    "\n",
    "mlflow.set_tracking_uri(\"http://localhost:5000\")\n",
    "mlflow.set_experiment(\"ppa_lab\")"
   ]
  },
  {
   "cell_type": "code",
   "execution_count": 63,
   "id": "66dd85ea-9c8d-48c9-8d83-c581aa1e4dd1",
   "metadata": {},
   "outputs": [
    {
     "name": "stderr",
     "output_type": "stream",
     "text": [
      "\u001b[31m2025/04/18 16:20:52 WARNING mlflow.models.model: Model logged without a signature and input example. Please set `input_example` parameter when logging the model to auto infer the model signature.\u001b[0m\n"
     ]
    },
    {
     "name": "stdout",
     "output_type": "stream",
     "text": [
      "🏃 View run lr3 at: http://localhost:5000/#/experiments/3/runs/f5e7e3a53931486b9c214b3f048f338d\n",
      "🧪 View experiment at: http://localhost:5000/#/experiments/3\n"
     ]
    }
   ],
   "source": [
    "# Save to MLflow\n",
    "with mlflow.start_run(run_name=\"lr3\"):\n",
    "    wrapped_model = LightAutoMLWrapper(automl)\n",
    "\n",
    "    mlflow.pyfunc.log_model(\n",
    "        artifact_path=\"lr3\",\n",
    "        python_model=wrapped_model,\n",
    "    )"
   ]
  },
  {
   "cell_type": "code",
   "execution_count": 64,
   "id": "62a7a337-7877-46fd-a1cb-be0734abd1a6",
   "metadata": {},
   "outputs": [],
   "source": [
    "# проверка корректности выгрузки модели из mlflow\n",
    "run_id = 'f5e7e3a53931486b9c214b3f048f338d'\n",
    "loaded_model = mlflow.pyfunc.load_model(f\"runs:/{run_id}/lr3\")\n",
    "predictions_mlflow = loaded_model.predict(X_test)"
   ]
  },
  {
   "cell_type": "code",
   "execution_count": 65,
   "id": "498e56fe-3a1e-4bb2-8a9a-e8469965572b",
   "metadata": {},
   "outputs": [
    {
     "data": {
      "application/vnd.jupyter.widget-view+json": {
       "model_id": "1413631b2c8d4bf9af5653689c3ad06f",
       "version_major": 2,
       "version_minor": 0
      },
      "text/plain": [
       "Downloading artifacts:   0%|          | 0/5 [00:00<?, ?it/s]"
      ]
     },
     "metadata": {},
     "output_type": "display_data"
    },
    {
     "data": {
      "text/plain": [
       "'/Users/vladimir/Desktop/University/ppa/labs/downloaded_model/lr3'"
      ]
     },
     "execution_count": 65,
     "metadata": {},
     "output_type": "execute_result"
    }
   ],
   "source": [
    "# сохранение артефактов локально\n",
    "mlflow.artifacts.download_artifacts(\n",
    "    run_id=run_id,\n",
    "    artifact_path=\"lr3\", \n",
    "    dst_path=\"./downloaded_model\"\n",
    ")"
   ]
  },
  {
   "cell_type": "code",
   "execution_count": 66,
   "id": "9091ce27-d162-4501-a415-07c925c8fd56",
   "metadata": {},
   "outputs": [
    {
     "name": "stdout",
     "output_type": "stream",
     "text": [
      "\n"
     ]
    }
   ],
   "source": [
    "# !mlflow models serve -m \"./downloaded_model/lr3\" --port 1234 --no-conda\n",
    "# проверка сервиса\n",
    "!curl http://localhost:1234/ping"
   ]
  },
  {
   "cell_type": "code",
   "execution_count": 68,
   "id": "f2c4c669-8df7-48d0-822d-207469276fbd",
   "metadata": {},
   "outputs": [],
   "source": [
    "\n",
    "import requests\n",
    "\n",
    "# отправка post запроса к развернутому сервису\n",
    "response = requests.post(\n",
    "    \"http://localhost:1234/invocations\",\n",
    "    json={\"dataframe_records\": X_test.to_dict(orient=\"records\")}\n",
    ")\n"
   ]
  },
  {
   "cell_type": "code",
   "execution_count": 73,
   "id": "5cd40a5b-5b84-4625-9074-0b745c3d18df",
   "metadata": {},
   "outputs": [],
   "source": [
    "predictions_mlflow_server = response.json()['predictions']"
   ]
  },
  {
   "cell_type": "code",
   "execution_count": 74,
   "id": "cd8a2813-c6aa-4eae-a5e7-f41669123b18",
   "metadata": {},
   "outputs": [
    {
     "data": {
      "text/plain": [
       "[0.012369676493108273,\n",
       " 0.6041978597640991,\n",
       " 0.0067258113995194435,\n",
       " 0.5716642737388611,\n",
       " 0.006006792653352022,\n",
       " 0.706897497177124,\n",
       " 0.13147854804992676,\n",
       " 0.02307809516787529,\n",
       " 0.7169305086135864,\n",
       " 0.4455425441265106]"
      ]
     },
     "execution_count": 74,
     "metadata": {},
     "output_type": "execute_result"
    }
   ],
   "source": [
    "predictions_mlflow_server[:10]"
   ]
  },
  {
   "cell_type": "code",
   "execution_count": 75,
   "id": "74fa92fd-f01c-4843-9d8e-51633213df9f",
   "metadata": {},
   "outputs": [
    {
     "data": {
      "text/plain": [
       "array([0.01236968, 0.60419786, 0.00672581, 0.5716643 , 0.00600679,\n",
       "       0.7068975 , 0.13147855, 0.0230781 , 0.7169305 , 0.44554254],\n",
       "      dtype=float32)"
      ]
     },
     "execution_count": 75,
     "metadata": {},
     "output_type": "execute_result"
    }
   ],
   "source": [
    "predictions_mlflow[:10]"
   ]
  },
  {
   "cell_type": "code",
   "execution_count": 79,
   "id": "6bd5d248-99d9-4c21-8c63-9f92f4244116",
   "metadata": {},
   "outputs": [
    {
     "data": {
      "text/plain": [
       "array([0.01236968, 0.60419786, 0.00672581, 0.5716643 , 0.00600679,\n",
       "       0.7068975 , 0.13147855, 0.0230781 , 0.7169305 , 0.44554254],\n",
       "      dtype=float32)"
      ]
     },
     "execution_count": 79,
     "metadata": {},
     "output_type": "execute_result"
    }
   ],
   "source": [
    "# Предсказания на тесте\n",
    "test_predict = automl.predict(X_test).data.flatten()\n",
    "test_predict[:10]"
   ]
  },
  {
   "cell_type": "code",
   "execution_count": 80,
   "id": "40f7d246-5b6e-4180-b2b6-f307b9b1205c",
   "metadata": {},
   "outputs": [
    {
     "data": {
      "text/plain": [
       "True"
      ]
     },
     "execution_count": 80,
     "metadata": {},
     "output_type": "execute_result"
    }
   ],
   "source": [
    "np.allclose(predictions_mlflow, test_predict)"
   ]
  },
  {
   "cell_type": "code",
   "execution_count": 81,
   "id": "c8dc9d0d-a30d-46a2-9c84-fd6df9d0a3ca",
   "metadata": {},
   "outputs": [
    {
     "data": {
      "text/plain": [
       "True"
      ]
     },
     "execution_count": 81,
     "metadata": {},
     "output_type": "execute_result"
    }
   ],
   "source": [
    "np.allclose(predictions_mlflow_server, test_predict)"
   ]
  },
  {
   "cell_type": "markdown",
   "id": "f1fffef4-0b8b-4fb7-ad4e-e1a379b8cbe1",
   "metadata": {},
   "source": [
    "Сохранение модели в mlflow и ее развертывание с помощью mlflow server прошло корректно, резульаты работы модели совпадают с исходными"
   ]
  },
  {
   "cell_type": "code",
   "execution_count": null,
   "id": "e9879f26-e3be-474b-aa11-f31901552c8c",
   "metadata": {},
   "outputs": [],
   "source": []
  }
 ],
 "metadata": {
  "kernelspec": {
   "display_name": "Python 3 (ipykernel)",
   "language": "python",
   "name": "python3"
  },
  "language_info": {
   "codemirror_mode": {
    "name": "ipython",
    "version": 3
   },
   "file_extension": ".py",
   "mimetype": "text/x-python",
   "name": "python",
   "nbconvert_exporter": "python",
   "pygments_lexer": "ipython3",
   "version": "3.9.18"
  }
 },
 "nbformat": 4,
 "nbformat_minor": 5
}
